{
 "cells": [
  {
   "cell_type": "markdown",
   "metadata": {
    "collapsed": false
   },
   "source": [
    "# About Dataset"
   ]
  },
  {
   "cell_type": "markdown",
   "metadata": {
    "collapsed": false
   },
   "source": [
    "## Bank Customer Segmentation\n",
    "Most banks have a large customer base - with different characteristics in terms of age, income, values lifestyle, and more. Customer segmentation is the process of dividing a customer dataset into specific groups based on shared traits.\n",
    "\n",
    "According to a report from Ernst & Young, “A more granular understanding of consumers is no longer nice-to-have item, but a strategic and competitive imperative for banking providers. Customer understanding should be a living, breathing part of everyday business, with insights underpinning the full range of banking operations."
   ]
  },
  {
   "cell_type": "markdown",
   "metadata": {
    "collapsed": false
   },
   "source": [
    "## About this Dataset\n",
    "This dataset consists of 1 Million+ transaction by over 800K customers for a bank in India. The data contains information such as - customer age (DOB), location, gender, account balance at the time of the transaction, transaction details, transaction amount, etc.\n",
    "\n",
    "Link: https://www.kaggle.com/datasets/shivamb/bank-customer-segmentation/code?datasetId=1672910&sortBy=voteCount"
   ]
  },
  {
   "cell_type": "markdown",
   "metadata": {
    "collapsed": false
   },
   "source": [
    "## Interesting Analysis Ideas\n",
    "The dataset can be used for different analysis, example -\n",
    "\n",
    "1. Perform Clustering / Segmentation on the dataset and identify popular customer groups along with their definitions/rules\n",
    "2. Perform Location-wise analysis to identify regional trends in India\n",
    "3. Perform transaction-related analysis to identify interesting trends that can be used by a bank to improve / optimize their user experiences\n",
    "4. Customer Recency, Frequency, Monetary analysis\n",
    "5. Network analysis or Graph analysis of customer data."
   ]
  },
  {
   "cell_type": "markdown",
   "metadata": {
    "collapsed": false
   },
   "source": [
    "# EDA"
   ]
  },
  {
   "cell_type": "markdown",
   "metadata": {
    "collapsed": false
   },
   "source": [
    "## Import required modules"
   ]
  },
  {
   "cell_type": "code",
   "execution_count": 42,
   "metadata": {
    "collapsed": false
   },
   "outputs": [],
   "source": [
    "import numpy as np\n",
    "import pandas as pd\n",
    "import seaborn\n",
    "import matplotlib.pyplot as plt\n",
    "%matplotlib inline\n",
    "import warnings\n",
    "warnings.filterwarnings('ignore')"
   ]
  },
  {
   "cell_type": "markdown",
   "metadata": {
    "collapsed": false
   },
   "source": [
    "## Import and display the data"
   ]
  },
  {
   "cell_type": "code",
   "execution_count": 43,
   "metadata": {
    "collapsed": false
   },
   "outputs": [
    {
     "data": {
      "text/plain": "   TransactionID CustomerID CustomerDOB CustGender CustLocation  \\\n0             T1   C5841053     10/1/94          F   JAMSHEDPUR   \n1             T2   C2142763      4/4/57          M      JHAJJAR   \n2             T3   C4417068    26/11/96          F       MUMBAI   \n3             T4   C5342380     14/9/73          F       MUMBAI   \n4             T5   C9031234     24/3/88          F  NAVI MUMBAI   \n5             T6   C1536588     8/10/72          F     ITANAGAR   \n6             T7   C7126560     26/1/92          F       MUMBAI   \n7             T8   C1220223     27/1/82          M       MUMBAI   \n8             T9   C8536061     19/4/88          F      GURGAON   \n9            T10   C6638934     22/6/84          M       MUMBAI   \n10           T11   C5430833     22/7/82          M       MOHALI   \n11           T12   C6939838      7/7/88          M       GUNTUR   \n12           T13   C6339347     13/6/78          M    AHMEDABAD   \n13           T14   C8327851      5/1/92          F        THANE   \n14           T15   C7917151     24/3/78          M         PUNE   \n15           T16   C8334633     10/7/68          F    NEW DELHI   \n16           T17   C1376215    1/1/1800          M       MUMBAI   \n17           T18   C8967349     16/7/89          M       MUMBAI   \n18           T19   C3732016     11/1/91          M       MUMBAI   \n19           T20   C8999019     24/6/85          M         PUNE   \n\n    CustAccountBalance TransactionDate  TransactionTime  \\\n0             17819.05          2/8/16           143207   \n1              2270.69          2/8/16           141858   \n2             17874.44          2/8/16           142712   \n3            866503.21          2/8/16           142714   \n4              6714.43          2/8/16           181156   \n5             53609.20          2/8/16           173940   \n6               973.46          2/8/16           173806   \n7             95075.54          2/8/16           170537   \n8             14906.96          2/8/16           192825   \n9              4279.22          2/8/16           192446   \n10            48429.49          2/8/16           204133   \n11            14613.46          2/8/16           205108   \n12            32274.78          2/8/16           203834   \n13            59950.44          1/8/16            84706   \n14            10100.84          1/8/16            82253   \n15             1283.12          1/8/16           125725   \n16            77495.15          1/8/16           124727   \n17             2177.85          1/8/16           124734   \n18            32816.17          1/8/16           122135   \n19            10643.50          1/8/16           152821   \n\n    TransactionAmount (INR)  \n0                     25.00  \n1                  27999.00  \n2                    459.00  \n3                   2060.00  \n4                   1762.50  \n5                    676.00  \n6                    566.00  \n7                    148.00  \n8                    833.00  \n9                    289.11  \n10                   259.00  \n11                   202.00  \n12                 12300.00  \n13                    50.00  \n14                   338.00  \n15                   250.00  \n16                  1423.11  \n17                    54.00  \n18                   315.00  \n19                   945.00  ",
      "text/html": "<div>\n<style scoped>\n    .dataframe tbody tr th:only-of-type {\n        vertical-align: middle;\n    }\n\n    .dataframe tbody tr th {\n        vertical-align: top;\n    }\n\n    .dataframe thead th {\n        text-align: right;\n    }\n</style>\n<table border=\"1\" class=\"dataframe\">\n  <thead>\n    <tr style=\"text-align: right;\">\n      <th></th>\n      <th>TransactionID</th>\n      <th>CustomerID</th>\n      <th>CustomerDOB</th>\n      <th>CustGender</th>\n      <th>CustLocation</th>\n      <th>CustAccountBalance</th>\n      <th>TransactionDate</th>\n      <th>TransactionTime</th>\n      <th>TransactionAmount (INR)</th>\n    </tr>\n  </thead>\n  <tbody>\n    <tr>\n      <th>0</th>\n      <td>T1</td>\n      <td>C5841053</td>\n      <td>10/1/94</td>\n      <td>F</td>\n      <td>JAMSHEDPUR</td>\n      <td>17819.05</td>\n      <td>2/8/16</td>\n      <td>143207</td>\n      <td>25.00</td>\n    </tr>\n    <tr>\n      <th>1</th>\n      <td>T2</td>\n      <td>C2142763</td>\n      <td>4/4/57</td>\n      <td>M</td>\n      <td>JHAJJAR</td>\n      <td>2270.69</td>\n      <td>2/8/16</td>\n      <td>141858</td>\n      <td>27999.00</td>\n    </tr>\n    <tr>\n      <th>2</th>\n      <td>T3</td>\n      <td>C4417068</td>\n      <td>26/11/96</td>\n      <td>F</td>\n      <td>MUMBAI</td>\n      <td>17874.44</td>\n      <td>2/8/16</td>\n      <td>142712</td>\n      <td>459.00</td>\n    </tr>\n    <tr>\n      <th>3</th>\n      <td>T4</td>\n      <td>C5342380</td>\n      <td>14/9/73</td>\n      <td>F</td>\n      <td>MUMBAI</td>\n      <td>866503.21</td>\n      <td>2/8/16</td>\n      <td>142714</td>\n      <td>2060.00</td>\n    </tr>\n    <tr>\n      <th>4</th>\n      <td>T5</td>\n      <td>C9031234</td>\n      <td>24/3/88</td>\n      <td>F</td>\n      <td>NAVI MUMBAI</td>\n      <td>6714.43</td>\n      <td>2/8/16</td>\n      <td>181156</td>\n      <td>1762.50</td>\n    </tr>\n    <tr>\n      <th>5</th>\n      <td>T6</td>\n      <td>C1536588</td>\n      <td>8/10/72</td>\n      <td>F</td>\n      <td>ITANAGAR</td>\n      <td>53609.20</td>\n      <td>2/8/16</td>\n      <td>173940</td>\n      <td>676.00</td>\n    </tr>\n    <tr>\n      <th>6</th>\n      <td>T7</td>\n      <td>C7126560</td>\n      <td>26/1/92</td>\n      <td>F</td>\n      <td>MUMBAI</td>\n      <td>973.46</td>\n      <td>2/8/16</td>\n      <td>173806</td>\n      <td>566.00</td>\n    </tr>\n    <tr>\n      <th>7</th>\n      <td>T8</td>\n      <td>C1220223</td>\n      <td>27/1/82</td>\n      <td>M</td>\n      <td>MUMBAI</td>\n      <td>95075.54</td>\n      <td>2/8/16</td>\n      <td>170537</td>\n      <td>148.00</td>\n    </tr>\n    <tr>\n      <th>8</th>\n      <td>T9</td>\n      <td>C8536061</td>\n      <td>19/4/88</td>\n      <td>F</td>\n      <td>GURGAON</td>\n      <td>14906.96</td>\n      <td>2/8/16</td>\n      <td>192825</td>\n      <td>833.00</td>\n    </tr>\n    <tr>\n      <th>9</th>\n      <td>T10</td>\n      <td>C6638934</td>\n      <td>22/6/84</td>\n      <td>M</td>\n      <td>MUMBAI</td>\n      <td>4279.22</td>\n      <td>2/8/16</td>\n      <td>192446</td>\n      <td>289.11</td>\n    </tr>\n    <tr>\n      <th>10</th>\n      <td>T11</td>\n      <td>C5430833</td>\n      <td>22/7/82</td>\n      <td>M</td>\n      <td>MOHALI</td>\n      <td>48429.49</td>\n      <td>2/8/16</td>\n      <td>204133</td>\n      <td>259.00</td>\n    </tr>\n    <tr>\n      <th>11</th>\n      <td>T12</td>\n      <td>C6939838</td>\n      <td>7/7/88</td>\n      <td>M</td>\n      <td>GUNTUR</td>\n      <td>14613.46</td>\n      <td>2/8/16</td>\n      <td>205108</td>\n      <td>202.00</td>\n    </tr>\n    <tr>\n      <th>12</th>\n      <td>T13</td>\n      <td>C6339347</td>\n      <td>13/6/78</td>\n      <td>M</td>\n      <td>AHMEDABAD</td>\n      <td>32274.78</td>\n      <td>2/8/16</td>\n      <td>203834</td>\n      <td>12300.00</td>\n    </tr>\n    <tr>\n      <th>13</th>\n      <td>T14</td>\n      <td>C8327851</td>\n      <td>5/1/92</td>\n      <td>F</td>\n      <td>THANE</td>\n      <td>59950.44</td>\n      <td>1/8/16</td>\n      <td>84706</td>\n      <td>50.00</td>\n    </tr>\n    <tr>\n      <th>14</th>\n      <td>T15</td>\n      <td>C7917151</td>\n      <td>24/3/78</td>\n      <td>M</td>\n      <td>PUNE</td>\n      <td>10100.84</td>\n      <td>1/8/16</td>\n      <td>82253</td>\n      <td>338.00</td>\n    </tr>\n    <tr>\n      <th>15</th>\n      <td>T16</td>\n      <td>C8334633</td>\n      <td>10/7/68</td>\n      <td>F</td>\n      <td>NEW DELHI</td>\n      <td>1283.12</td>\n      <td>1/8/16</td>\n      <td>125725</td>\n      <td>250.00</td>\n    </tr>\n    <tr>\n      <th>16</th>\n      <td>T17</td>\n      <td>C1376215</td>\n      <td>1/1/1800</td>\n      <td>M</td>\n      <td>MUMBAI</td>\n      <td>77495.15</td>\n      <td>1/8/16</td>\n      <td>124727</td>\n      <td>1423.11</td>\n    </tr>\n    <tr>\n      <th>17</th>\n      <td>T18</td>\n      <td>C8967349</td>\n      <td>16/7/89</td>\n      <td>M</td>\n      <td>MUMBAI</td>\n      <td>2177.85</td>\n      <td>1/8/16</td>\n      <td>124734</td>\n      <td>54.00</td>\n    </tr>\n    <tr>\n      <th>18</th>\n      <td>T19</td>\n      <td>C3732016</td>\n      <td>11/1/91</td>\n      <td>M</td>\n      <td>MUMBAI</td>\n      <td>32816.17</td>\n      <td>1/8/16</td>\n      <td>122135</td>\n      <td>315.00</td>\n    </tr>\n    <tr>\n      <th>19</th>\n      <td>T20</td>\n      <td>C8999019</td>\n      <td>24/6/85</td>\n      <td>M</td>\n      <td>PUNE</td>\n      <td>10643.50</td>\n      <td>1/8/16</td>\n      <td>152821</td>\n      <td>945.00</td>\n    </tr>\n  </tbody>\n</table>\n</div>"
     },
     "execution_count": 43,
     "metadata": {},
     "output_type": "execute_result"
    }
   ],
   "source": [
    "df = pd.read_csv('data/bank_transactions.csv')\n",
    "df.head(20)"
   ]
  },
  {
   "cell_type": "code",
   "execution_count": 44,
   "metadata": {
    "collapsed": false
   },
   "outputs": [
    {
     "data": {
      "text/plain": "<Figure size 640x480 with 1 Axes>",
      "image/png": "[encoded data removed]"
     },
     "metadata": {},
     "output_type": "display_data"
    }
   ],
   "source": [
    "plt.scatter(df['CustAccountBalance'], df['TransactionAmount (INR)'])\n",
    "plt.show()"
   ]
  },
  {
   "cell_type": "markdown",
   "metadata": {
    "collapsed": false
   },
   "source": [
    "## Data Checks to perform\n",
    "Check Missing values\n",
    "Check Duplicates\n",
    "Check data type\n",
    "Check the number of unique values of each column\n",
    "Check statistics of data set\n",
    "Check various categories present in the different categorical column"
   ]
  },
  {
   "cell_type": "markdown",
   "metadata": {
    "collapsed": false
   },
   "source": [
    "## Missing Values"
   ]
  },
  {
   "cell_type": "code",
   "execution_count": 45,
   "metadata": {
    "collapsed": false
   },
   "outputs": [
    {
     "data": {
      "text/plain": "(1048567, 9)"
     },
     "execution_count": 45,
     "metadata": {},
     "output_type": "execute_result"
    }
   ],
   "source": [
    "df.shape"
   ]
  },
  {
   "cell_type": "code",
   "execution_count": 46,
   "metadata": {
    "collapsed": false
   },
   "outputs": [
    {
     "data": {
      "text/plain": "TransactionID                 0\nCustomerID                    0\nCustomerDOB                3397\nCustGender                 1100\nCustLocation                151\nCustAccountBalance         2369\nTransactionDate               0\nTransactionTime               0\nTransactionAmount (INR)       0\ndtype: int64"
     },
     "execution_count": 46,
     "metadata": {},
     "output_type": "execute_result"
    }
   ],
   "source": [
    "df.isna().sum()"
   ]
  },
  {
   "cell_type": "code",
   "execution_count": 47,
   "metadata": {
    "collapsed": false
   },
   "outputs": [],
   "source": [
    "df.dropna(inplace=True)"
   ]
  },
  {
   "cell_type": "code",
   "execution_count": 48,
   "metadata": {
    "collapsed": false
   },
   "outputs": [
    {
     "data": {
      "text/plain": "TransactionID              0\nCustomerID                 0\nCustomerDOB                0\nCustGender                 0\nCustLocation               0\nCustAccountBalance         0\nTransactionDate            0\nTransactionTime            0\nTransactionAmount (INR)    0\ndtype: int64"
     },
     "execution_count": 48,
     "metadata": {},
     "output_type": "execute_result"
    }
   ],
   "source": [
    "df.isna().sum()"
   ]
  },
  {
   "cell_type": "markdown",
   "metadata": {
    "collapsed": false
   },
   "source": [
    "## Check duplicates"
   ]
  },
  {
   "cell_type": "code",
   "execution_count": 49,
   "metadata": {
    "collapsed": false
   },
   "outputs": [
    {
     "data": {
      "text/plain": "0"
     },
     "execution_count": 49,
     "metadata": {},
     "output_type": "execute_result"
    }
   ],
   "source": [
    "df.duplicated().sum()"
   ]
  },
  {
   "cell_type": "markdown",
   "metadata": {
    "collapsed": false
   },
   "source": [
    "## Check Datatypes"
   ]
  },
  {
   "cell_type": "code",
   "execution_count": 50,
   "metadata": {
    "collapsed": false
   },
   "outputs": [
    {
     "name": "stdout",
     "output_type": "stream",
     "text": [
      "<class 'pandas.core.frame.DataFrame'>\n",
      "Int64Index: 1041614 entries, 0 to 1048566\n",
      "Data columns (total 9 columns):\n",
      " #   Column                   Non-Null Count    Dtype  \n",
      "---  ------                   --------------    -----  \n",
      " 0   TransactionID            1041614 non-null  object \n",
      " 1   CustomerID               1041614 non-null  object \n",
      " 2   CustomerDOB              1041614 non-null  object \n",
      " 3   CustGender               1041614 non-null  object \n",
      " 4   CustLocation             1041614 non-null  object \n",
      " 5   CustAccountBalance       1041614 non-null  float64\n",
      " 6   TransactionDate          1041614 non-null  object \n",
      " 7   TransactionTime          1041614 non-null  int64  \n",
      " 8   TransactionAmount (INR)  1041614 non-null  float64\n",
      "dtypes: float64(2), int64(1), object(6)\n",
      "memory usage: 79.5+ MB\n"
     ]
    }
   ],
   "source": [
    "df.info()"
   ]
  },
  {
   "cell_type": "markdown",
   "metadata": {
    "collapsed": false
   },
   "source": [
    "## Check Unique Values"
   ]
  },
  {
   "cell_type": "code",
   "execution_count": 51,
   "metadata": {
    "collapsed": false
   },
   "outputs": [
    {
     "data": {
      "text/plain": "TransactionID              1041614\nCustomerID                  879358\nCustomerDOB                  17233\nCustGender                       3\nCustLocation                  9275\nCustAccountBalance          160723\nTransactionDate                 55\nTransactionTime              81855\nTransactionAmount (INR)      92391\ndtype: int64"
     },
     "execution_count": 51,
     "metadata": {},
     "output_type": "execute_result"
    }
   ],
   "source": [
    "df.nunique()"
   ]
  },
  {
   "cell_type": "markdown",
   "metadata": {
    "collapsed": false
   },
   "source": [
    "## Statistics"
   ]
  },
  {
   "cell_type": "code",
   "execution_count": 52,
   "metadata": {
    "collapsed": false
   },
   "outputs": [
    {
     "data": {
      "text/plain": "       CustAccountBalance  TransactionTime  TransactionAmount (INR)\ncount        1.041614e+06     1.041614e+06             1.041614e+06\nmean         1.149986e+05     1.571221e+05             1.566096e+03\nstd          8.467609e+05     5.126352e+04             6.561464e+03\nmin          0.000000e+00     0.000000e+00             0.000000e+00\n25%          4.728140e+03     1.240410e+05             1.600000e+02\n50%          1.676852e+04     1.642470e+05             4.575000e+02\n75%          5.742885e+04     2.000220e+05             1.200000e+03\nmax          1.150355e+08     2.359590e+05             1.560035e+06",
      "text/html": "<div>\n<style scoped>\n    .dataframe tbody tr th:only-of-type {\n        vertical-align: middle;\n    }\n\n    .dataframe tbody tr th {\n        vertical-align: top;\n    }\n\n    .dataframe thead th {\n        text-align: right;\n    }\n</style>\n<table border=\"1\" class=\"dataframe\">\n  <thead>\n    <tr style=\"text-align: right;\">\n      <th></th>\n      <th>CustAccountBalance</th>\n      <th>TransactionTime</th>\n      <th>TransactionAmount (INR)</th>\n    </tr>\n  </thead>\n  <tbody>\n    <tr>\n      <th>count</th>\n      <td>1.041614e+06</td>\n      <td>1.041614e+06</td>\n      <td>1.041614e+06</td>\n    </tr>\n    <tr>\n      <th>mean</th>\n      <td>1.149986e+05</td>\n      <td>1.571221e+05</td>\n      <td>1.566096e+03</td>\n    </tr>\n    <tr>\n      <th>std</th>\n      <td>8.467609e+05</td>\n      <td>5.126352e+04</td>\n      <td>6.561464e+03</td>\n    </tr>\n    <tr>\n      <th>min</th>\n      <td>0.000000e+00</td>\n      <td>0.000000e+00</td>\n      <td>0.000000e+00</td>\n    </tr>\n    <tr>\n      <th>25%</th>\n      <td>4.728140e+03</td>\n      <td>1.240410e+05</td>\n      <td>1.600000e+02</td>\n    </tr>\n    <tr>\n      <th>50%</th>\n      <td>1.676852e+04</td>\n      <td>1.642470e+05</td>\n      <td>4.575000e+02</td>\n    </tr>\n    <tr>\n      <th>75%</th>\n      <td>5.742885e+04</td>\n      <td>2.000220e+05</td>\n      <td>1.200000e+03</td>\n    </tr>\n    <tr>\n      <th>max</th>\n      <td>1.150355e+08</td>\n      <td>2.359590e+05</td>\n      <td>1.560035e+06</td>\n    </tr>\n  </tbody>\n</table>\n</div>"
     },
     "execution_count": 52,
     "metadata": {},
     "output_type": "execute_result"
    }
   ],
   "source": [
    "df.describe()"
   ]
  },
  {
   "cell_type": "markdown",
   "metadata": {
    "collapsed": false
   },
   "source": [
    "## Cleaning"
   ]
  },
  {
   "cell_type": "markdown",
   "metadata": {
    "collapsed": false
   },
   "source": [
    "## change dob and transaction date dtypes"
   ]
  },
  {
   "cell_type": "code",
   "execution_count": 53,
   "metadata": {
    "collapsed": false
   },
   "outputs": [
    {
     "data": {
      "text/plain": "  TransactionID CustomerID CustomerDOB CustGender CustLocation  \\\n0            T1   C5841053  1994-10-01          F   JAMSHEDPUR   \n1            T2   C2142763  2057-04-04          M      JHAJJAR   \n2            T3   C4417068  1996-11-26          F       MUMBAI   \n3            T4   C5342380  1973-09-14          F       MUMBAI   \n4            T5   C9031234  1988-03-24          F  NAVI MUMBAI   \n\n   CustAccountBalance TransactionDate  TransactionTime  \\\n0            17819.05      2016-02-08           143207   \n1             2270.69      2016-02-08           141858   \n2            17874.44      2016-02-08           142712   \n3           866503.21      2016-02-08           142714   \n4             6714.43      2016-02-08           181156   \n\n   TransactionAmount (INR)  \n0                     25.0  \n1                  27999.0  \n2                    459.0  \n3                   2060.0  \n4                   1762.5  ",
      "text/html": "<div>\n<style scoped>\n    .dataframe tbody tr th:only-of-type {\n        vertical-align: middle;\n    }\n\n    .dataframe tbody tr th {\n        vertical-align: top;\n    }\n\n    .dataframe thead th {\n        text-align: right;\n    }\n</style>\n<table border=\"1\" class=\"dataframe\">\n  <thead>\n    <tr style=\"text-align: right;\">\n      <th></th>\n      <th>TransactionID</th>\n      <th>CustomerID</th>\n      <th>CustomerDOB</th>\n      <th>CustGender</th>\n      <th>CustLocation</th>\n      <th>CustAccountBalance</th>\n      <th>TransactionDate</th>\n      <th>TransactionTime</th>\n      <th>TransactionAmount (INR)</th>\n    </tr>\n  </thead>\n  <tbody>\n    <tr>\n      <th>0</th>\n      <td>T1</td>\n      <td>C5841053</td>\n      <td>1994-10-01</td>\n      <td>F</td>\n      <td>JAMSHEDPUR</td>\n      <td>17819.05</td>\n      <td>2016-02-08</td>\n      <td>143207</td>\n      <td>25.0</td>\n    </tr>\n    <tr>\n      <th>1</th>\n      <td>T2</td>\n      <td>C2142763</td>\n      <td>2057-04-04</td>\n      <td>M</td>\n      <td>JHAJJAR</td>\n      <td>2270.69</td>\n      <td>2016-02-08</td>\n      <td>141858</td>\n      <td>27999.0</td>\n    </tr>\n    <tr>\n      <th>2</th>\n      <td>T3</td>\n      <td>C4417068</td>\n      <td>1996-11-26</td>\n      <td>F</td>\n      <td>MUMBAI</td>\n      <td>17874.44</td>\n      <td>2016-02-08</td>\n      <td>142712</td>\n      <td>459.0</td>\n    </tr>\n    <tr>\n      <th>3</th>\n      <td>T4</td>\n      <td>C5342380</td>\n      <td>1973-09-14</td>\n      <td>F</td>\n      <td>MUMBAI</td>\n      <td>866503.21</td>\n      <td>2016-02-08</td>\n      <td>142714</td>\n      <td>2060.0</td>\n    </tr>\n    <tr>\n      <th>4</th>\n      <td>T5</td>\n      <td>C9031234</td>\n      <td>1988-03-24</td>\n      <td>F</td>\n      <td>NAVI MUMBAI</td>\n      <td>6714.43</td>\n      <td>2016-02-08</td>\n      <td>181156</td>\n      <td>1762.5</td>\n    </tr>\n  </tbody>\n</table>\n</div>"
     },
     "execution_count": 53,
     "metadata": {},
     "output_type": "execute_result"
    }
   ],
   "source": [
    "df['CustomerDOB'] = pd.to_datetime(df['CustomerDOB'])\n",
    "df['TransactionDate'] = pd.to_datetime(df['TransactionDate'])\n",
    "df.head()"
   ]
  },
  {
   "cell_type": "code",
   "execution_count": 54,
   "metadata": {
    "collapsed": false
   },
   "outputs": [
    {
     "name": "stdout",
     "output_type": "stream",
     "text": [
      "<class 'pandas.core.frame.DataFrame'>\n",
      "Int64Index: 1041614 entries, 0 to 1048566\n",
      "Data columns (total 9 columns):\n",
      " #   Column                   Non-Null Count    Dtype         \n",
      "---  ------                   --------------    -----         \n",
      " 0   TransactionID            1041614 non-null  object        \n",
      " 1   CustomerID               1041614 non-null  object        \n",
      " 2   CustomerDOB              1041614 non-null  datetime64[ns]\n",
      " 3   CustGender               1041614 non-null  object        \n",
      " 4   CustLocation             1041614 non-null  object        \n",
      " 5   CustAccountBalance       1041614 non-null  float64       \n",
      " 6   TransactionDate          1041614 non-null  datetime64[ns]\n",
      " 7   TransactionTime          1041614 non-null  int64         \n",
      " 8   TransactionAmount (INR)  1041614 non-null  float64       \n",
      "dtypes: datetime64[ns](2), float64(2), int64(1), object(4)\n",
      "memory usage: 79.5+ MB\n"
     ]
    }
   ],
   "source": [
    "df.info()"
   ]
  },
  {
   "cell_type": "code",
   "execution_count": 55,
   "metadata": {
    "collapsed": false
   },
   "outputs": [
    {
     "data": {
      "text/plain": "  TransactionID CustomerID CustomerDOB CustGender CustLocation  \\\n0            T1   C5841053  1994-10-01          F   JAMSHEDPUR   \n1            T2   C2142763  2057-04-04          M      JHAJJAR   \n2            T3   C4417068  1996-11-26          F       MUMBAI   \n3            T4   C5342380  1973-09-14          F       MUMBAI   \n4            T5   C9031234  1988-03-24          F  NAVI MUMBAI   \n\n   CustAccountBalance TransactionDate  TransactionTime  \\\n0            17819.05      2016-02-08           143207   \n1             2270.69      2016-02-08           141858   \n2            17874.44      2016-02-08           142712   \n3           866503.21      2016-02-08           142714   \n4             6714.43      2016-02-08           181156   \n\n   TransactionAmount (INR)  CustomerAge  \n0                     25.0           22  \n1                  27999.0          -41  \n2                    459.0           20  \n3                   2060.0           43  \n4                   1762.5           28  ",
      "text/html": "<div>\n<style scoped>\n    .dataframe tbody tr th:only-of-type {\n        vertical-align: middle;\n    }\n\n    .dataframe tbody tr th {\n        vertical-align: top;\n    }\n\n    .dataframe thead th {\n        text-align: right;\n    }\n</style>\n<table border=\"1\" class=\"dataframe\">\n  <thead>\n    <tr style=\"text-align: right;\">\n      <th></th>\n      <th>TransactionID</th>\n      <th>CustomerID</th>\n      <th>CustomerDOB</th>\n      <th>CustGender</th>\n      <th>CustLocation</th>\n      <th>CustAccountBalance</th>\n      <th>TransactionDate</th>\n      <th>TransactionTime</th>\n      <th>TransactionAmount (INR)</th>\n      <th>CustomerAge</th>\n    </tr>\n  </thead>\n  <tbody>\n    <tr>\n      <th>0</th>\n      <td>T1</td>\n      <td>C5841053</td>\n      <td>1994-10-01</td>\n      <td>F</td>\n      <td>JAMSHEDPUR</td>\n      <td>17819.05</td>\n      <td>2016-02-08</td>\n      <td>143207</td>\n      <td>25.0</td>\n      <td>22</td>\n    </tr>\n    <tr>\n      <th>1</th>\n      <td>T2</td>\n      <td>C2142763</td>\n      <td>2057-04-04</td>\n      <td>M</td>\n      <td>JHAJJAR</td>\n      <td>2270.69</td>\n      <td>2016-02-08</td>\n      <td>141858</td>\n      <td>27999.0</td>\n      <td>-41</td>\n    </tr>\n    <tr>\n      <th>2</th>\n      <td>T3</td>\n      <td>C4417068</td>\n      <td>1996-11-26</td>\n      <td>F</td>\n      <td>MUMBAI</td>\n      <td>17874.44</td>\n      <td>2016-02-08</td>\n      <td>142712</td>\n      <td>459.0</td>\n      <td>20</td>\n    </tr>\n    <tr>\n      <th>3</th>\n      <td>T4</td>\n      <td>C5342380</td>\n      <td>1973-09-14</td>\n      <td>F</td>\n      <td>MUMBAI</td>\n      <td>866503.21</td>\n      <td>2016-02-08</td>\n      <td>142714</td>\n      <td>2060.0</td>\n      <td>43</td>\n    </tr>\n    <tr>\n      <th>4</th>\n      <td>T5</td>\n      <td>C9031234</td>\n      <td>1988-03-24</td>\n      <td>F</td>\n      <td>NAVI MUMBAI</td>\n      <td>6714.43</td>\n      <td>2016-02-08</td>\n      <td>181156</td>\n      <td>1762.5</td>\n      <td>28</td>\n    </tr>\n  </tbody>\n</table>\n</div>"
     },
     "execution_count": 55,
     "metadata": {},
     "output_type": "execute_result"
    }
   ],
   "source": [
    "df['CustomerAge'] = df['TransactionDate'].dt.year - df['CustomerDOB'].dt.year\n",
    "df.head()"
   ]
  },
  {
   "cell_type": "code",
   "execution_count": 56,
   "metadata": {
    "collapsed": false
   },
   "outputs": [
    {
     "name": "stdout",
     "output_type": "stream",
     "text": [
      "<class 'pandas.core.frame.DataFrame'>\n",
      "Int64Index: 1041614 entries, 0 to 1048566\n",
      "Data columns (total 10 columns):\n",
      " #   Column                   Non-Null Count    Dtype         \n",
      "---  ------                   --------------    -----         \n",
      " 0   TransactionID            1041614 non-null  object        \n",
      " 1   CustomerID               1041614 non-null  object        \n",
      " 2   CustomerDOB              1041614 non-null  datetime64[ns]\n",
      " 3   CustGender               1041614 non-null  object        \n",
      " 4   CustLocation             1041614 non-null  object        \n",
      " 5   CustAccountBalance       1041614 non-null  float64       \n",
      " 6   TransactionDate          1041614 non-null  datetime64[ns]\n",
      " 7   TransactionTime          1041614 non-null  int64         \n",
      " 8   TransactionAmount (INR)  1041614 non-null  float64       \n",
      " 9   CustomerAge              1041614 non-null  int64         \n",
      "dtypes: datetime64[ns](2), float64(2), int64(2), object(4)\n",
      "memory usage: 87.4+ MB\n"
     ]
    }
   ],
   "source": [
    "df.info()"
   ]
  },
  {
   "cell_type": "code",
   "execution_count": 57,
   "metadata": {
    "collapsed": false
   },
   "outputs": [
    {
     "data": {
      "text/plain": "M    760978\nF    280635\nT         1\nName: CustGender, dtype: int64"
     },
     "execution_count": 57,
     "metadata": {},
     "output_type": "execute_result"
    }
   ],
   "source": [
    "df['CustGender'].value_counts()"
   ]
  },
  {
   "cell_type": "code",
   "execution_count": 58,
   "metadata": {
    "collapsed": false
   },
   "outputs": [],
   "source": [
    "df.drop(df[df['CustGender'] == 'T'].index, inplace=True)"
   ]
  },
  {
   "cell_type": "markdown",
   "metadata": {
    "collapsed": false
   },
   "source": [
    "## Manipulating locations"
   ]
  },
  {
   "cell_type": "code",
   "execution_count": 59,
   "metadata": {
    "collapsed": false
   },
   "outputs": [
    {
     "data": {
      "text/plain": "['JAMSHEDPUR',\n 'JHAJJAR',\n 'MUMBAI',\n 'NAVI MUMBAI',\n 'ITANAGAR',\n 'GURGAON',\n 'MOHALI',\n 'GUNTUR',\n 'AHMEDABAD',\n 'THANE',\n 'PUNE',\n 'NEW DELHI',\n 'NO 3 KALYANI NAGAR PUNE',\n 'SECUNDERABAD',\n 'WAYS PANCHKUVA AHMEDABAD',\n 'LUCKNOW',\n 'DELHI',\n 'CHENNAI',\n 'GHAZIABAD',\n 'BANGALORE',\n 'GUWAHATI',\n 'DHANBAD',\n 'MUKTSAR',\n 'SOCORRO',\n 'ANDHERI (EAST) MUMBAI',\n 'AURANGABAD',\n 'KOTA',\n 'JAIPUR',\n 'K V RANGAREDDY',\n 'MUZAFFARNAGAR',\n 'BURDWAN',\n 'LUDHIANA',\n 'NOIDA',\n 'AGRA',\n 'SHAHJAHANPUR',\n 'DIST RAIGAD PANVEL',\n 'DEHRADUN',\n 'HYDERABAD',\n 'GODDA',\n 'REWARI (HARYANA)',\n 'NELLORE',\n 'ADIPUR',\n 'DUBAI',\n 'ALLAHABAD',\n 'BATHINDA',\n 'NASHIK',\n 'JAMMU',\n 'JABALPUR',\n 'KASHIPUR',\n 'ETAH',\n 'KOLKATA',\n 'VADODARA',\n 'TIRUPUR',\n 'SURAT',\n 'NAGO THANE',\n 'KARUR DT',\n 'CHITTO0R',\n 'INDORE',\n 'OFF CUBBON ROAD BANGALORE',\n 'PIMPALI',\n 'PUMP HINJEWADI PUNE',\n 'KANJURMARG EAST',\n 'SOUTH 24 PARGANAS',\n 'MIRABHAYANDER THANE MIRA ROAD',\n 'SAHARANPUR',\n 'CHANDIGARH',\n 'COMPLEX GURGAON',\n 'PARK PHASE-I HINJEWADI PUNE',\n 'GULBARGA',\n 'KANPUR',\n 'VISAKHAPATNAM',\n 'HISAR',\n 'FORT MUMBAI',\n 'PATHANKOT',\n 'SUNDARGARH',\n 'MARGAO',\n 'DHULE',\n 'BANGALORE NORTH',\n 'ZIRAKPUR',\n 'SURYAPET',\n 'BHIWANDI',\n 'RAJKOT',\n 'AMBEDKAR NAGAR',\n 'PURI',\n 'NAGAI DT',\n 'KERALA',\n 'GHINGHARTOLA TEH BAGESHWAR DIST',\n 'ROURKELA',\n 'MUPPALLA GUNTUR',\n 'NEWDELHI',\n 'PIPARIYA',\n 'MIRA ROAD E',\n 'BHUBANESHWAR',\n 'RAJPURA',\n 'PANCHKULA',\n 'FARIDABAD',\n 'JALANDHAR',\n 'WEST MUMBAI',\n 'GWALIOR',\n 'SECTOR 21 KHARGHAR NAVI MUMBAI',\n 'BAGHPAT',\n 'AMBALA',\n 'ZONE WHITEFIELD BANGALORE',\n 'GORAKHPUR',\n 'BARAMATI',\n 'YAMUNANAGAR',\n 'MANGALORE',\n 'TALUK BANGALORE',\n 'FIROZABAD',\n 'PONDICHERRY',\n 'RAIGAD',\n 'BULANDSHAHR',\n 'THRISSUR',\n 'SONIPAT',\n 'DEWAS',\n 'AMBALA CANTT',\n 'BILASPUR',\n 'RAI SONEPAT',\n 'JAUNPUR',\n 'AMRITSAR',\n 'RANGA REDDY',\n 'HEADQUARTERS NAVI MUMBAI',\n 'BADDI',\n 'SRIPERUMBUDUR',\n 'NAINITAL',\n 'FATEHABAD',\n 'BERHAMPUR',\n 'NAGPUR',\n 'MEERUT',\n 'STATION BANGALORE',\n 'BOKARO',\n 'IRAGAVARAM',\n 'SOLAPUR',\n 'UDUPI',\n 'BHUJ',\n 'ROHTAK',\n 'NAVIMUMBAI',\n 'ARAKKONAM',\n 'NIZAMABAD',\n 'AHMEDNAGAR',\n 'SILIGURI',\n 'TIRUVALLUR',\n 'SIVASAGAR',\n 'NANDED',\n 'VIRAR',\n 'HOOGHLY',\n 'THIRUVALLUR',\n 'BENGALURU',\n 'GARDEN CHOWK PIMPLE SAUDAGAR PUNE',\n 'PANIPAT',\n 'ALWAR',\n 'RAIPUR',\n 'KHERLI',\n 'MADURAI',\n 'ON KALYAN ROAD NAVI MUMBAI',\n 'KALYANI NAGAR PUNE',\n 'IDUKKI',\n 'THOOTHUKUDI',\n 'TALEGAON DABHADE',\n 'BHILAI I',\n 'KANPUR NAGAR',\n 'PANVEL',\n 'KHARSWAN JAMSHEDPUR',\n 'SANGLI',\n 'COLONY RANGAREDDI HYDERABAD',\n 'ANDHERI W MUMBAI',\n 'ULHASNAGAR-1 THANE',\n 'TIRUPATI',\n 'WARANGAL',\n 'SANGALI',\n 'MAHBOOBNAGAR',\n 'ROORKEE',\n 'BEHIND EXCOM HOUSE MUMBAI',\n 'KARNAL',\n 'ROPAR',\n 'ALIGARH',\n 'KOLLAM',\n 'ANDHERI WEST MUMBAI',\n 'SION (E) MUMBAI',\n 'ROORKEE HARIDWAR',\n 'TRIVANDRUM',\n 'CUTTACK',\n 'PALGHAR',\n 'GANJAM',\n 'THANJAVUR',\n 'GADAG',\n 'VIRUDHUNAGAR',\n 'NORTH 24 PARGANAS',\n 'KANNAD',\n 'VELLORE',\n 'ARIYALUR DISTRICT',\n 'HATHRAS',\n 'VARANASI',\n 'CARANZALEM',\n 'PATIALA',\n 'KRISHNAGIRI',\n 'SAS NAGAR',\n 'SURATGARH',\n 'VISAKHAPATANAM',\n 'JAYANAGAR BANGALORE',\n 'PERAMBALUR',\n 'SAMRUDHDHI BHAVAN RAJKOT',\n 'GUNTUR DIST',\n 'CUDDALORE',\n 'RANCHI',\n 'COIMBATORE',\n 'KHARDAH',\n 'DISTT PUNE',\n 'TIRUPATI (RURAL)',\n 'JODHPUR',\n 'MARKS SCHOOL NEW DELHI',\n 'RAJAPALAYAM',\n 'DOMBIVALI -WEST,THANE',\n 'REWARI',\n 'CINEMA HAORA',\n 'VASAI',\n 'MANALI',\n 'KANCHIPURAM',\n 'BHAVNAGAR',\n 'SOLAN',\n 'GURGAON RD DUNDHERA GURGAON',\n 'SCHOOL BURDWAN',\n 'HOWRAH',\n 'MEDAK DIST',\n 'INDIRANAGAR BANGALORE',\n 'GAUTAM BUDDHA NAGAR',\n 'DWARKA',\n 'NURMAHAL',\n 'KURLA ANDHERI RD MUMBAI',\n 'KALYAN (W) THANE',\n 'NEEMRANA',\n 'UDAIPUR',\n 'ALAPPUZHA',\n 'DEORIA',\n 'TANUKU',\n 'SOUTH TWENTY FOUR PARAGANAS',\n 'KALYAN W',\n 'ERNAKULAM',\n 'MATHURA',\n 'DOMBIVLI',\n 'PURBI SINGHBHUM',\n 'PALI',\n 'BANUR',\n 'JAGATSINGHPUR',\n 'SHIMLA',\n 'PALAKKAD',\n 'MORINDA MORINDA',\n 'THANE W',\n 'SINGHBHUM',\n 'UTTARA KANNADA',\n 'UNA',\n 'HOBBLI BANGALORE',\n 'JOGESHWARI (E) MUMBAI',\n 'GANGTOK',\n 'GREATER NOIDA',\n 'NEVILLE HOUSE THANE',\n 'RAI BARELI',\n 'RAIGARH CG RAIGARH',\n 'WRZESNIA',\n 'MEWAT',\n 'BOISAR',\n 'BAMBOLIM',\n 'KAPURTHALA',\n 'TO B KAVERI TAILORS BANGALORE',\n 'GHATKOPAR',\n 'JALNA',\n 'BLOCK KORAMANGALA BANGALORE',\n 'AJMER',\n 'KOTESHWARA',\n 'DAMAN',\n 'MANDI GOBINDGARH',\n 'BAHADURGARH',\n 'MANDI',\n 'CHROMPET CHENNAI',\n 'KALOL',\n 'BELGAUM',\n 'JALGAON',\n 'MYSORE',\n 'N M JOSHI MARG LOWER PAREL MUMBAI',\n 'BHADRAK',\n 'ARIYALUR DT',\n 'VASAI THANE',\n 'THIRUVARUR',\n 'DARBHANGA',\n 'TALUK KANCHEEPURAM DIST',\n 'ASANSOL',\n 'BHARUCH',\n 'PRAKASAM',\n 'GANDHINAGAR',\n 'BULADHANA',\n 'PONDA NORTH',\n 'GHATKOPAR W MUMBAI',\n 'JHUNJHUNU',\n 'DOMBIVALI E',\n 'SIKAR',\n 'TANJAVUR',\n 'KALYAN EAST',\n 'ANDHERI (E) MUMBAI',\n 'ANAND',\n 'HARIDWAR',\n 'NAGARI THANE',\n 'YEOLA',\n 'BARMER',\n 'RAMNAGAR',\n 'EAST DELHI',\n 'PASCHIM MEDINIPUR',\n 'VAPI',\n 'KOTTAYAM',\n 'ARIYALUR',\n 'PATNA',\n 'CHHINDWARA',\n 'SIGNAL SION E MUMBAI',\n 'BARAMATI PUNE BARAMATI',\n 'AHMED NAGAR',\n 'KHARGHAR',\n 'BARODA',\n 'RANGAREDDY DIST',\n 'GOREGAON (W) MUMBAI',\n 'CHOOLAIMEDU CHENNAI',\n 'BHUBANESWAR',\n 'NASIK',\n 'VIZIANAGARAM',\n 'HAZARIBAGH',\n 'TRISHUR',\n 'KALKA',\n 'KOCHI',\n 'RATIA',\n 'SRIVILLIPUTTUR',\n 'HUBLI',\n 'KALYAN',\n 'PATHANAMTHITTA',\n 'NAGRI VASAI E THANE',\n 'SHILLONG',\n 'KALYANPUR DIST HARIDWAR ROORKEE',\n 'ULHASNAGAR',\n 'GHAZIPUR',\n 'KANNIYAKUMARI',\n 'SIVAGANGAI',\n 'TIRUCHIRAPPALLI DT',\n 'THANE DISTRICT',\n 'HOSUR',\n 'BG ROAD BANGALORE',\n 'JALPAIGURI',\n 'ATHAL',\n 'DURG',\n 'SILCHAR',\n 'UNNAO',\n 'KHANNA',\n 'COLONY THANE EAST THANE',\n 'BARGARH',\n 'HOSPITAL BEHIND COIMBATORE',\n 'THIRUVANNAMALAI',\n 'LAYOUT PH 1 MALLATHAHALLI BANGALORE',\n 'THANE WEST',\n 'T MHALAUGE TEHSIL AMBEGAV PUNE',\n 'SIDDHARTH NAGAR',\n 'MARG KURLA W MUMBAI',\n 'CHAMPARAN',\n 'KOLAR',\n 'CACHAR',\n 'RESTAURANT JAIPUR',\n 'BANGALURU',\n 'KAITHAL',\n 'THANE (W)',\n 'KHARAGPUR',\n 'RUDRAPUR',\n 'KANGRA',\n 'ANJAR GANDHIDHAM',\n 'BHIWADI',\n 'SURAT B/H PATEL SAMAJ VADI SURAT',\n 'PARK MAHAPE NAVI MUMBAI',\n 'MAHENDRA GARH',\n 'JAMNAGAR',\n 'JORHAT',\n 'MANDYA',\n 'SONEPAT',\n 'KURNOOL DT',\n 'THANE VIDYASHRAM THANE',\n 'BANGLORE',\n 'BALLIA',\n 'HAJI ALI WORLI MUMBAI',\n 'RAISEN',\n 'KHEDA',\n 'BAHADURGAR',\n 'ROAD NASHIK',\n 'MADIPAKKAM',\n 'NAGAON',\n 'ELPHINSTONE ROAD (W) MUMBAI',\n 'DIST RAJKOT',\n 'NALGONDA',\n 'LATUR',\n 'MAU',\n 'PILANI',\n 'SIRSA',\n 'BARNALA',\n 'BAREILLY',\n 'ANDHERI (W) MUMBAI',\n 'PAURI GARHWAL',\n 'HIGH SCHOOL AURANGABAD',\n 'KOZHIKODE',\n 'KRISHNA DISTRICT',\n 'BANGA',\n 'STUD FARM PUNE',\n 'JUNCTION CHENNAI',\n 'R T NAGAR BANGALORE',\n 'SALEM',\n 'TRICHUR',\n 'KRISHNA',\n 'GAYA',\n 'GOREGAON (E) MUMBAI',\n 'SINDHUDURG - DISTRICT',\n 'BANGALROE',\n 'NAVSARI',\n 'COLLEGE BANGALORE',\n 'NADIA',\n 'KHAMMAM',\n 'BALARPUR MAINPURI',\n 'BEED',\n 'KATRA DISTT REASI',\n 'UDHAMPUR',\n 'NORTH WEST DELHI',\n 'PRATAPGARH',\n 'BHIND',\n 'KHAMMAM (ANDHRA PRADESH)',\n 'HAMIRPUR',\n 'KHAR WEST MUMBAI',\n 'BALASORE',\n 'KOLKATA NEAR COLLEGE MORE KOLKATA',\n 'MIDNAPORE',\n 'BHIWANI',\n 'MODINAGAR',\n 'JAISINGHPUR',\n 'CHOWK PUNE-MUMBAI HIGHWAY PUNE',\n 'NORTH GOA',\n 'VIDISHA',\n 'PETA VIJAYAWADA',\n 'SCHOOL PUNE',\n 'RD SAKINAKA MUMBAI',\n 'BIHARSHARIF',\n 'NOIDA SEC 77',\n 'BHANDARA',\n 'JAGADHRI',\n 'ANDHERI LINK RD ANDHERI W MUMBAI',\n 'KANCHEEPURAM',\n 'BARIATU ROAD RANCHI RANCHI',\n 'ST THOMAS TOWN POST BANGALORE',\n 'RAIGARH (CHHATTISGARH)',\n 'PARVATIPURAM',\n 'CHANDANNAGAR HAVELI PUNE',\n 'EAST GODAVARI',\n 'JOGESHWARI PURV MUMBAI',\n 'DHARUHERA',\n 'KARIMNAGAR',\n 'CHUNABHATTI DEPO AND STN MUMBAI',\n 'AL KHOBAR',\n 'ANKLESHWAR',\n 'SAVEDI AHMEDNAGAR',\n 'CHEENAI',\n 'NAME EAST KHASI HILLS SHILLONG',\n 'TALEIGAD',\n 'MILLENNIUM BANGALORE',\n 'GARDEN MUMBAI',\n 'MORADABAD',\n 'CITY CHINCHWAD EAST PUNE',\n 'HAPUR',\n 'BHANDARKAR MARG LOWER PAREL MUMBAI',\n 'BARDEZ',\n 'LONDON',\n 'GHANSOLI',\n 'PO BHADRAKALI',\n 'BIKANER',\n 'SALEM DT',\n 'CHIPLUN',\n 'ABOHAR (FEROZEPUR)',\n 'SIWAN',\n 'BHOPAL',\n 'KURALI',\n 'B/H SOMANI HOSPITAL JAIPUR',\n 'SHINE PUBLIC SCHOOL FARIDABAD',\n 'BARABANKI',\n 'BAHADURGARH (HARYANA)',\n 'PARWANOO',\n 'GOPALGANJ',\n 'TIRUCHENDUR TALUK',\n 'YAMUNA NAGAR',\n 'CHANDRA SEKHARAPURAM PRAKASAM',\n 'THODAPUZHA',\n 'RAJAHMUNDRY',\n 'RALEIGH',\n 'THANE MUMBAI',\n 'THANE (WEST)',\n 'RUPNAGAR',\n 'DHENKANAL',\n 'ROAD MUMBAI',\n 'KHARAR',\n 'SECTOR-21A FARIDABAD',\n 'KANYAKUMARI',\n 'SRINAGAR',\n 'KODAMBAKKAM',\n 'PARNER',\n 'BHARATPUR',\n 'MAHARASHTRA MUMBAI',\n 'RA PURAM',\n 'UTTARPARA',\n 'VASHI NAVI MUMBAI',\n 'RAMANATHAPURAM',\n 'DURGAPUR',\n 'SAKINAKA MUMBAI',\n 'SHILLLONG',\n 'TIRUPATI URBAN',\n 'HOSHIARPUR',\n 'KOLHAPUR',\n 'MEHSANA',\n 'BIJNOR',\n 'J B NGR ANDHERI E MUMBAI',\n 'KHAIRTHAL',\n 'FAIZABAD',\n 'ERODE',\n 'ROAD FARIDABAD',\n 'NEW DLEHI',\n 'VJB UDYAN MUMBAI',\n 'TRICHY',\n 'DOMBIVALI  THANE',\n 'ISNAPUR X ROAD PATANCHERU HYDERABAD',\n 'GOBINDAPUR',\n 'DIMAPUR',\n 'PADHAR',\n 'TALIPARAMBA',\n 'UTTAR DINAJPUR',\n 'KOHINOOR CITY MALL MUMBAI',\n 'SINGAPORE',\n 'PAREL MUMBAI',\n 'UJJAIN',\n 'RATNAGIRI',\n 'BANDRA (E) MUMBAI',\n 'BHUJKUTCH',\n 'THANE -WEST',\n 'NO 1 BANJARA HILLS HYDERABAD',\n 'CHHAPRA',\n 'SAFIDON',\n 'DOMBIVALI EAST THANE',\n 'RANGA REDDY SERILINGAMPALLY',\n 'MALAPPURAM',\n 'MEDAK',\n 'DISTRICT BALAGHAT',\n 'AMROHA',\n 'CHIRAG MOTORS SION MUMBAI',\n 'VIJAYAWADA',\n 'NAWANSHAHR',\n 'RD ANDHERI WEST MUMBAI',\n 'OPP HDFC BANGALORE',\n 'OSHIWARA ANDHERI WEST MUMBAI',\n 'RAMPUR',\n 'UNJHA',\n 'VASAI BASEEIN ROAD VASAI THANE',\n 'AMRELI',\n 'HOSPITAL PUNE',\n 'KHANUSA',\n 'HINGOLI',\n 'DURG - DISTRICT',\n 'POLICE STATION BANGALORE',\n 'SUKET',\n 'PAREL (W) MUMBAI',\n 'HIMATNAGAR',\n 'PLAZA THANE',\n 'DHURI',\n 'SARJAPUR MN RD BANGALORE',\n 'GHATKESAR',\n 'DARJEELING',\n 'WHARF RESTAURNT BANGALORE',\n 'WHITEFIELD,BANGALORE',\n 'TIRUVANNAMALAI',\n 'AGARTALA',\n 'NO 2 THANE WEST',\n 'MAPUSA BARDEZ',\n 'SRIKAKULAM',\n 'CHHATTISGARH(RAIGARH)',\n 'MOGA',\n 'VISHNUNAGAR KALYAN THANE',\n 'ASHISH HOTEL PANCHVATI AHMEDABAD',\n 'AZAMGARH',\n 'THIRUVANANTHAPURAM',\n 'HOTEL NAVI MUMBAI',\n 'SONITPUR',\n 'BIDAR DIST KARNATAKA',\n 'STATION CUTTACK',\n 'WEST MIDNAPORE',\n 'KUALA LAMPUR',\n 'G B NAGAR',\n 'MIRZAPUR',\n 'NAGAR PUNE',\n 'LIMITED BILASPUR',\n 'DEESA',\n 'PAONTA SAHIB',\n 'FARIDKOT',\n 'SANAND',\n 'PUDUKOTTAI DT',\n 'KARUR',\n 'PALMS HOTEL MUMBAI',\n 'MAHALAXMI MUMBAI',\n 'MOOSAPET HYDERABAD',\n 'PURULIYA',\n 'GURDASPUR',\n 'BAHADVR GARH',\n 'HALOL',\n 'VALSAD',\n 'BULDANA',\n 'MIDC MUMBAI',\n 'TANAJI NAGAR MALAD E MUMBAI',\n 'KHED',\n 'CIVIL LINE NAGPUR',\n 'KATRA',\n 'TIRUVARUR',\n 'ULHASNAGAR W THANE',\n 'PATTIVEERANPATTI',\n 'PANT NAGAR',\n 'DUNGARPUR',\n 'DOMBIVALI',\n 'SHOWROOM GURGAON',\n 'RAIGARH',\n 'DOMBIVLI AST',\n 'BAGALKOT',\n 'ADILABAD',\n 'UPPER SIANG',\n 'PERUNGUDI CHENNAI',\n 'BETIM BARDEZ',\n 'KAIRA',\n 'MUNDAGOD',\n 'N DELHI',\n 'MAHIM MUMBAI',\n 'HIGH SCHOOL NAVI MUMBAI',\n 'BANKURA',\n 'KANNAUJ',\n 'BUXAR',\n 'NATHDWARA',\n 'SUNDARPUR',\n 'FEROZEPUR',\n 'DOMBIVALI E THANE',\n 'TAL DIST BHIND',\n 'BHAYA SONPUR',\n 'MASA BILIMORA',\n 'BUDAUN',\n 'CORPORATION BANK KOLKATA',\n 'CHANDAULI',\n 'SECUDERABAD',\n 'PUDUKOTTAI',\n 'PUDUCHERRY',\n 'DEOGARH',\n 'SCHOOL MUMBAI',\n 'MOHINDERGARH',\n 'PHARMACY THANE WEST THANE',\n 'CUDDAPAH',\n 'BHILAI',\n 'NAWASHAHR',\n 'SAHNEWAL',\n 'SCHOOL ALIGARH',\n 'DOIMUKH',\n 'GANGANAGAR',\n 'YAVATMAL',\n 'PATAN (GUJARAT)',\n 'MODI NAGAR',\n 'UDHAM SINGH NAGAR',\n 'BHATLURU',\n 'HILLTOP NAGPUR',\n 'PUDUCHRRY',\n 'WEST CHAMPARAN',\n '9A MALLESHWARAM BANGALORE',\n 'NALANDA',\n 'SUBHASH MARG C SCHEME JAIPUR',\n 'UPPERPALLY HYDERABAD',\n 'ABU DHABI',\n 'CANACOWA',\n 'CITY PO BANGALORE',\n 'GODAVARI',\n 'RING ROAD VARTHUR HOBLI BANGALORE',\n 'CHAMARAJANAGAR',\n 'BHILWARA',\n 'CHAKALA ANDHERI E MUMBAI',\n 'PALGHAR THANE',\n 'POWAI',\n 'TOHANA FATEHABAD',\n 'ANANTAPUR',\n 'NEEM KA THANA',\n 'WEST GODAVARI',\n 'MAPUSA (GOA)',\n 'PORVORIM',\n 'KEONJHAR',\n 'EAST THANE',\n 'NEVILLE HOUSE MUMBAI',\n 'BENGUSARAI',\n 'RESAPUVANIPALEM VISAKHAPATNAM',\n 'GUDIWADA',\n 'KANDIVALI W MUMBAI',\n 'LOKHANDWALA RESIDENCY WORLI MUMBAI',\n 'RAMGARH',\n 'PANTNAGAR',\n 'OKHLA INDUSTRIAL ESTATE NEW DELHI',\n 'ASPATAL ASHOK NAGAR MORADABAD',\n 'SAHIB STREET BANGALORE',\n 'NABHA (PUNJAB)',\n 'SCHOOL COIMBATORE',\n 'BUNGLOWS ANAND',\n 'COOCHBEHAR',\n 'VAGATOR',\n 'BAIPAS JAIPUR',\n 'GANESHKHIND PUNE',\n 'BUILDING PUNE',\n 'OXFORD SCHOOL MUMBAI',\n 'DOMBIVALI WEST VISHNUNAGAR THANE',\n 'ROAD BANGALORE',\n 'OF MYSORE PUNE',\n 'GATE BANGALORE',\n 'AMRAVATI ROAD NAGPUR',\n 'DEVANAHALLI BANGALORE',\n 'DANDENONG',\n 'ROAD ANDHERI WEST MUMBAI',\n 'RAMABAI NAGAR',\n 'CHITTOOR',\n 'GANDHIDHAM KUTCH',\n 'BIJPUR',\n 'KURLA W',\n 'SATAVNAGAR HADAPSAR PUNE',\n 'IRANIWADI KANDIVALI (W) MUMBAI',\n 'SANGRUR',\n 'NANI DAMAN',\n 'MALAD WEST MUMBAI',\n 'SITAMARHI',\n 'VARACHHA SURAT',\n 'GOBI',\n 'BARDOLI',\n 'CHAMPARAN MOTIHARI',\n 'GACHIBOWLI HYDERABAD',\n 'AIZAWL',\n 'DADAR WEST BHAWANI SHANKAR MUMBAI',\n 'SIVAGANGAI DIST',\n 'MOOSAPET MOOSAPET HYDERABAD',\n 'RATLAM',\n 'RAJAMUNDRY',\n 'PARK PHASE 1 HINJEWADI PUNE',\n 'IMPHAL',\n 'MANARCADU',\n 'JALORE',\n 'G B ROAD THANE',\n 'SIRMAUR',\n 'SOUTH WEST DELHI',\n 'SIBSAGAR',\n 'NEYYATTINKARA THIRUVANANTHAPURAM',\n 'SAHIBABAD',\n 'BALLABGARH FARIDABAD',\n 'RESTAURANT NEW DELHI',\n 'BIRBHUM',\n 'VILL TOWN CITY KALYAN THANE',\n 'NAKA PUNE',\n 'CANDOLIM',\n 'BHOJPUR',\n 'ANDHERI E MUMBAI',\n 'JASPUR',\n 'TAL DIST PALGHAR BOISAR',\n 'LAXMINAGAR',\n 'REWA',\n 'KUNIYIL',\n 'JHANSI',\n 'RAJSAMAND',\n 'VPO WAZIRABAD',\n 'GHATKOPAR (W) MUMBAI',\n 'JAM KHAMBHALIYA',\n 'WORLI COLONY MUMBAI',\n 'AREA MOHALI',\n 'MUNNEKOLALA MARATHALLI BANGALORE',\n 'BHINMAL',\n 'MALOUT',\n 'KURLA W MUMBAI',\n 'KANNUR',\n 'SALAI CHENNAI',\n 'D MART KANJURMARG W MUMBAI',\n 'PUNE SASWAD ROAD PUNE',\n 'FATEHGARH SAHIB',\n 'MUKERIAN',\n 'NASIRABAD',\n 'COOCH BEHAR',\n 'SAUDAGAR PUNE',\n 'GODHRA (GUJARAT)',\n 'DIST NASHIK',\n 'CENTRE BANKURA',\n 'TARN TARAN',\n 'MULUND',\n 'MEHSANA I E',\n 'BANDRA EAST MUMBAI',\n 'CHIRALA',\n 'JAHANABAD',\n 'DAHOD',\n 'ROAD BKC BANDRA (E) MUMBAI',\n 'HASSAN',\n 'PHASE-1 SOUTH DELHI',\n 'BAWAL',\n 'VARNASI',\n 'JORHAT, ASSAM',\n 'MAIN ROAD MAHADEVAPURA BANGALORE',\n 'JACOB CIRCLE MUMBAI',\n 'RAICHUR',\n 'GURUKUL KUMAR SCHOOL KASA NGR SURAT',\n 'AUNDH CAMP PUNE',\n 'BEHROR',\n 'ANANTNAG',\n 'LOWER PAREL MUMBAI',\n 'BANDRA W MUMBAI',\n 'NARELA',\n 'DEVAJI AND VIPPLAZA ZIRAKPUR',\n 'SIDDHARTHNAGAR',\n 'JIND',\n 'SARAIKELA KHARSAWAN',\n 'PO BOX 28483 DUBAI',\n 'JAYANAGAR BANGALURU',\n 'PONDA',\n 'NARASARAOPET',\n 'SCHOOL WEST TRIPURA',\n 'ELPHINSTONE ROAD MUMBAI',\n 'HADAPSAR PUNE CITY PUNE',\n '24  P G S (S)',\n 'SIVAGANGA',\n 'PIMPLE SAUDAGAR PUNE',\n 'MHAPE NAVI MUMBAI',\n 'U S NAGAR',\n 'BUDDHA NAGAR NOIDA',\n 'GAUTAM BUDHNAGAR',\n '24 PGNS NORTH',\n 'MOTHERSON COMPANY FARIDABAD',\n 'MORENA',\n 'PANCHMAHALS',\n 'NARIMAN POINT  MUMBAI',\n 'CITY FEROZEPUR',\n 'PALAMU',\n 'W MUMBAI',\n '.',\n 'BHAGALPUR',\n 'GRTR MUMBAI MUMBAI',\n 'VADAGAV SHINDE HAVELI PUNE',\n 'TARAN',\n 'KAKKANAD',\n 'BALIKUDA',\n 'FINANCE THIRUVANANTHAPURAM',\n 'STORES MANGALORE',\n 'DENA BANK RADHANPUR ROAD MEHSANA',\n 'MAHENDRAGARH',\n 'TIRUNELVELI',\n 'DIST THANE',\n 'PALLADAM',\n 'BARIPADA',\n 'NR AMITABH BUNGLOW MUMBAI',\n 'JOUNK)DISTT PAURI GARHWAL RISHIKESH',\n 'DOMBIVLI EAST THANE',\n 'PETROL PUMP KOLKATA',\n 'BANSWARA',\n 'KATEMANIVALI KALYAN THANE',\n 'GIRGAON MUMBAI',\n 'MARKET SECUNDRABAD',\n 'BELLARY',\n 'GANDHIDHAM',\n 'BANGALORE SOUTH BANGALORE',\n 'DHARAMSHALA',\n 'CHURU',\n 'VIDHYABHAVAN SURAT',\n 'HYDERABAD RANGAREDDI',\n 'CHEEKA',\n 'CHANDRAPUR DIST',\n 'DIMAPUR, NAGALAND',\n 'VILLUPURAM',\n 'GOREGAO',\n 'MARG LOWER PAREL MUMBAI',\n '21A FARIDABAD',\n 'PATPARGANJ DELHI',\n 'SOUTH DELHI DELHI',\n 'NANDGAON',\n 'KAIMUR',\n 'KHOWAI',\n 'KURUKSHETRA',\n 'DONGARI GOREGAON WEST MUMBAI',\n 'LIPPA',\n 'KOTHANUR BANGALORE',\n 'SARDHANA',\n 'MEDINIPUR',\n 'NIRMAL NAGAR BANDRA (E) S O MUMBAI',\n 'PUKHURIA',\n 'CALCUTTA',\n 'ROAD SATELLITE AHMEDABAD',\n 'TIRUNELVELI DT',\n 'DIST-THANE',\n 'WARDHA',\n 'PURAPUZHA',\n 'TEMPLE BENGALURU',\n 'POLICE STATION KOLKATA',\n 'EAST MUMBAI(SUBURBAN)',\n 'BEGU ROAD SIRSA',\n 'NALLASOPARA E',\n 'TERMINAL 2 WADALA EAST MUMBAI',\n 'FAZILKA',\n 'BANASHANKARI II STAGE BANGALORE',\n 'NAGAR BANGALORE',\n 'SANGHA KOLKATA',\n 'SATNA',\n 'DIST DHANBAD',\n 'RICHARDS TOWN BANGLORE',\n 'HARDWAR',\n 'DERABASSI',\n 'SHAH ALAM',\n 'N T PUNE',\n 'HADPSAR I C PUNE',\n 'AIZAWL, MIZORAM',\n 'STUDIO ANDHERI W MUMBAI',\n 'RACHI',\n 'NAMAKKAL',\n 'SARJAPUR MAIN RD BANGALORE',\n 'AMBIKAPUR',\n 'MAZHAVANTHANGAL VILLAGE',\n 'KORBA',\n 'BUS DEPOT MUMBAI',\n 'ROAD TIRUPUR',\n 'KATARGAM SURAT',\n 'BARIATU ROAD RANCHI',\n 'BHUBANESWER',\n 'OFFICE MRA 62 H N  TRIVANDRUM',\n 'VERNA',\n 'TIRUCHIRAPALLY (TRICHY)',\n 'MEDICAL CENTRE CHENNAI',\n 'PERAMBALUR DT',\n 'RAJASMAND',\n 'TIRUCHIRAPALLI DT',\n 'SILVASSA',\n 'TADEPALLIGUDEM WEST GODAVARI',\n 'DOMBIVLI W',\n 'MUMBAI THANE',\n 'RIYADH',\n 'DHARWARD',\n 'GOKULPUR',\n 'HOSPITAL BANGALORE',\n 'DAKSHINA KANNADA',\n 'DEOPUR DHULE',\n 'ANDHERI E B/H AKRUTI STAR MUMBAI',\n 'KARSOG',\n 'CHAMPAWAT',\n 'EAST MUMBAI',\n 'CHINCHWAD PUNE',\n 'GONDIYA',\n 'CENTER HYDERABAD',\n 'KALAYAN W',\n 'MADHURAI',\n '18 CTS 65 CHEMBUR MUMBAI',\n 'ABUDHABI',\n 'GURGOAN',\n 'GATE NO 4 MUMBAI',\n 'MALDA',\n 'CUDDALORE(DT)',\n 'MUSSOORIE',\n 'MUNCHEN',\n 'SEHORE',\n 'SARAN',\n 'ALAM ROZA AHMEDABAD',\n 'VILLAGE UTTARAHALLI BANGALORE',\n 'PEN',\n 'COMMUNITY HALL HYDERABAD',\n 'RLY STN NAVI MUMBAI',\n 'STATION GURGAON',\n 'KULLU',\n 'PATHANKOT [PB]',\n '(W) MUMBAI',\n 'KUVA WALI GALI GREATER NOIDA',\n 'KAROL BAGH NEW DELHI DELHI',\n 'CHHIBRAMAU',\n 'MUNNAR',\n 'JUNAGADH',\n 'CHICOLNA MORMUGAO',\n 'THANA',\n 'SIGNAL SION (E) MUMBAI',\n 'GONDA',\n 'MUMBAI MUMBAI',\n 'GOVT SCHOOL BENGALURU',\n 'INSTITUTE BURDWAN',\n 'MALLESWARAM WEST BANGALORE',\n 'RANAPRATAP NAGAR NAGPUR',\n 'LASHKAR CITY',\n 'NEW GAJUWAKA VISAKHAPATNAM',\n 'SAGWARA',\n 'ROAD ANDHERI (W) MUMBAI',\n 'KANPUR DEHAT',\n 'KALAHANDI',\n 'THANE THANE',\n 'CHAMPHAI',\n 'SAGAR',\n '24 PGS N',\n 'NANGAL',\n 'PALWAL',\n 'USGAO',\n 'JUBAILI IND CITY',\n 'BHIMTAL',\n 'JEWELLERS HYDERABAD',\n 'MAPUSA',\n 'BARDDHAMAN',\n 'VILUPPURAM',\n 'SBS NAGAR',\n 'MARGAO SALCETE',\n ...]"
     },
     "execution_count": 59,
     "metadata": {},
     "output_type": "execute_result"
    }
   ],
   "source": [
    "list(df['CustLocation'].unique())"
   ]
  },
  {
   "cell_type": "markdown",
   "metadata": {
    "collapsed": false
   },
   "source": [
    "pune, ahmedabad, MUMBAI, BANGALORE, DELHI, RAJKOT, THANE, CHENNAI, COIMBATORE, JAIPUR"
   ]
  },
  {
   "cell_type": "code",
   "execution_count": 60,
   "metadata": {
    "collapsed": false
   },
   "outputs": [],
   "source": [
    "df.replace(r'(.*HYDERABAD.*)','HYDERABAD',regex=True, inplace = True)\n",
    "df.replace(r'(.*PUNE.*)','PUNE',regex=True, inplace = True)\n",
    "df.replace(r'(.*AHMEDABAD.*)','AHMEDABAD',regex=True, inplace = True)\n",
    "df.replace(r'(.*MUMBAI.*)','MUMBAI',regex=True, inplace = True)\n",
    "df.replace(r'(.*BANGALORE.*)','BANGALORE',regex=True, inplace = True)\n",
    "df.replace(r'(.*DELHI.*)','DELHI',regex=True, inplace = True)\n",
    "df.replace(r'(.*RAJKOT.*)','RAJKOT',regex=True, inplace = True)\n",
    "df.replace(r'(.*THANE.*)','THANE',regex=True, inplace = True)\n",
    "df.replace(r'(.*CHENNAI.*)','CHENNAI',regex=True, inplace = True)\n",
    "df.replace(r'(.*COIMBATORE.*)','COIMBATORE',regex=True, inplace = True)\n",
    "df.replace(r'(.*JAIPUR.*)','JAIPUR',regex=True, inplace = True)\n",
    "df.replace(r'(.*KOLKATA.*)','KOLKATA',regex=True, inplace = True)"
   ]
  },
  {
   "cell_type": "code",
   "execution_count": 61,
   "metadata": {
    "collapsed": false
   },
   "outputs": [
    {
     "data": {
      "text/plain": "DELHI                             157192\nMUMBAI                            133119\nBANGALORE                          89160\nGURGAON                            73594\nNOIDA                              32656\n                                   ...  \nPRABHANI                               1\nNEAR SRIYA SQUARE BHUBANESHWAR         1\nSHIMOGA  DIST                          1\nPERTH                                  1\nKARANJIA                               1\nName: CustLocation, Length: 5849, dtype: int64"
     },
     "execution_count": 61,
     "metadata": {},
     "output_type": "execute_result"
    }
   ],
   "source": [
    "df['CustLocation'].value_counts()"
   ]
  },
  {
   "cell_type": "code",
   "execution_count": 62,
   "metadata": {
    "collapsed": false
   },
   "outputs": [
    {
     "data": {
      "text/plain": "array(['JAMSHEDPUR', 'JHAJJAR', 'MUMBAI', ..., 'CUTTACK CUTTACK',\n       'IRVINE', 'KARANJIA'], dtype=object)"
     },
     "execution_count": 62,
     "metadata": {},
     "output_type": "execute_result"
    }
   ],
   "source": [
    "df['CustLocation'].unique()"
   ]
  },
  {
   "cell_type": "code",
   "execution_count": 62,
   "metadata": {
    "collapsed": false
   },
   "outputs": [],
   "source": []
  },
  {
   "cell_type": "code",
   "execution_count": 63,
   "metadata": {
    "collapsed": false
   },
   "outputs": [],
   "source": [
    "cdf = df.drop(columns=['TransactionTime'])\n",
    "cdf.to_csv('data/cleaned_data.csv', index=False)"
   ]
  },
  {
   "cell_type": "code",
   "execution_count": 64,
   "metadata": {
    "collapsed": false
   },
   "outputs": [
    {
     "data": {
      "text/plain": "  TransactionID CustomerID CustomerDOB CustGender CustLocation  \\\n0            T1   C5841053  1994-10-01          F   JAMSHEDPUR   \n1            T2   C2142763  2057-04-04          M      JHAJJAR   \n2            T3   C4417068  1996-11-26          F       MUMBAI   \n3            T4   C5342380  1973-09-14          F       MUMBAI   \n4            T5   C9031234  1988-03-24          F       MUMBAI   \n\n   CustAccountBalance TransactionDate  TransactionTime  \\\n0            17819.05      2016-02-08           143207   \n1             2270.69      2016-02-08           141858   \n2            17874.44      2016-02-08           142712   \n3           866503.21      2016-02-08           142714   \n4             6714.43      2016-02-08           181156   \n\n   TransactionAmount (INR)  CustomerAge  \n0                     25.0           22  \n1                  27999.0          -41  \n2                    459.0           20  \n3                   2060.0           43  \n4                   1762.5           28  ",
      "text/html": "<div>\n<style scoped>\n    .dataframe tbody tr th:only-of-type {\n        vertical-align: middle;\n    }\n\n    .dataframe tbody tr th {\n        vertical-align: top;\n    }\n\n    .dataframe thead th {\n        text-align: right;\n    }\n</style>\n<table border=\"1\" class=\"dataframe\">\n  <thead>\n    <tr style=\"text-align: right;\">\n      <th></th>\n      <th>TransactionID</th>\n      <th>CustomerID</th>\n      <th>CustomerDOB</th>\n      <th>CustGender</th>\n      <th>CustLocation</th>\n      <th>CustAccountBalance</th>\n      <th>TransactionDate</th>\n      <th>TransactionTime</th>\n      <th>TransactionAmount (INR)</th>\n      <th>CustomerAge</th>\n    </tr>\n  </thead>\n  <tbody>\n    <tr>\n      <th>0</th>\n      <td>T1</td>\n      <td>C5841053</td>\n      <td>1994-10-01</td>\n      <td>F</td>\n      <td>JAMSHEDPUR</td>\n      <td>17819.05</td>\n      <td>2016-02-08</td>\n      <td>143207</td>\n      <td>25.0</td>\n      <td>22</td>\n    </tr>\n    <tr>\n      <th>1</th>\n      <td>T2</td>\n      <td>C2142763</td>\n      <td>2057-04-04</td>\n      <td>M</td>\n      <td>JHAJJAR</td>\n      <td>2270.69</td>\n      <td>2016-02-08</td>\n      <td>141858</td>\n      <td>27999.0</td>\n      <td>-41</td>\n    </tr>\n    <tr>\n      <th>2</th>\n      <td>T3</td>\n      <td>C4417068</td>\n      <td>1996-11-26</td>\n      <td>F</td>\n      <td>MUMBAI</td>\n      <td>17874.44</td>\n      <td>2016-02-08</td>\n      <td>142712</td>\n      <td>459.0</td>\n      <td>20</td>\n    </tr>\n    <tr>\n      <th>3</th>\n      <td>T4</td>\n      <td>C5342380</td>\n      <td>1973-09-14</td>\n      <td>F</td>\n      <td>MUMBAI</td>\n      <td>866503.21</td>\n      <td>2016-02-08</td>\n      <td>142714</td>\n      <td>2060.0</td>\n      <td>43</td>\n    </tr>\n    <tr>\n      <th>4</th>\n      <td>T5</td>\n      <td>C9031234</td>\n      <td>1988-03-24</td>\n      <td>F</td>\n      <td>MUMBAI</td>\n      <td>6714.43</td>\n      <td>2016-02-08</td>\n      <td>181156</td>\n      <td>1762.5</td>\n      <td>28</td>\n    </tr>\n  </tbody>\n</table>\n</div>"
     },
     "execution_count": 64,
     "metadata": {},
     "output_type": "execute_result"
    }
   ],
   "source": [
    "df.head()"
   ]
  },
  {
   "cell_type": "code",
   "execution_count": 66,
   "outputs": [
    {
     "name": "stdout",
     "output_type": "stream",
     "text": [
      "<class 'pandas.core.frame.DataFrame'>\n",
      "Int64Index: 1041613 entries, 0 to 1048566\n",
      "Data columns (total 10 columns):\n",
      " #   Column                   Non-Null Count    Dtype         \n",
      "---  ------                   --------------    -----         \n",
      " 0   TransactionID            1041613 non-null  object        \n",
      " 1   CustomerID               1041613 non-null  object        \n",
      " 2   CustomerDOB              1041613 non-null  datetime64[ns]\n",
      " 3   CustGender               1041613 non-null  object        \n",
      " 4   CustLocation             1041613 non-null  object        \n",
      " 5   CustAccountBalance       1041613 non-null  float64       \n",
      " 6   TransactionDate          1041613 non-null  datetime64[ns]\n",
      " 7   TransactionTime          1041613 non-null  int64         \n",
      " 8   TransactionAmount (INR)  1041613 non-null  float64       \n",
      " 9   CustomerAge              1041613 non-null  int64         \n",
      "dtypes: datetime64[ns](2), float64(2), int64(2), object(4)\n",
      "memory usage: 87.4+ MB\n"
     ]
    }
   ],
   "source": [
    "df.info()"
   ],
   "metadata": {
    "collapsed": false
   }
  },
  {
   "cell_type": "code",
   "execution_count": 65,
   "outputs": [
    {
     "ename": "NameError",
     "evalue": "name 'kbkvb' is not defined",
     "output_type": "error",
     "traceback": [
      "\u001B[0;31m---------------------------------------------------------------------------\u001B[0m",
      "\u001B[0;31mNameError\u001B[0m                                 Traceback (most recent call last)",
      "Cell \u001B[0;32mIn[65], line 1\u001B[0m\n\u001B[0;32m----> 1\u001B[0m \u001B[43mkbkvb\u001B[49m\n",
      "\u001B[0;31mNameError\u001B[0m: name 'kbkvb' is not defined"
     ]
    }
   ],
   "source": [
    "kbkvb"
   ],
   "metadata": {
    "collapsed": false
   }
  },
  {
   "cell_type": "markdown",
   "metadata": {
    "collapsed": false
   },
   "source": [
    "## RFM Analysis"
   ]
  },
  {
   "cell_type": "code",
   "execution_count": null,
   "metadata": {
    "collapsed": false
   },
   "outputs": [],
   "source": [
    "df['TransactionDate'].max()"
   ]
  },
  {
   "cell_type": "code",
   "execution_count": null,
   "metadata": {
    "collapsed": false
   },
   "outputs": [],
   "source": [
    "df['TransactionDate1']=df['TransactionDate']"
   ]
  },
  {
   "cell_type": "code",
   "execution_count": null,
   "metadata": {
    "collapsed": false
   },
   "outputs": [],
   "source": [
    "rfm_df = df.groupby('CustomerID').agg(\n",
    "    {\n",
    "        \"TransactionDate1\":\"max\",\n",
    "        \"TransactionID\" : \"count\",\n",
    "        \"TransactionAmount (INR)\" : \"sum\",\n",
    "    }\n",
    ")\n",
    "rfm_df.reset_index()\n",
    "rfm_df.head()"
   ]
  },
  {
   "cell_type": "code",
   "execution_count": null,
   "metadata": {
    "collapsed": false
   },
   "outputs": [],
   "source": [
    "rfm_df.shape"
   ]
  },
  {
   "cell_type": "code",
   "execution_count": null,
   "metadata": {
    "collapsed": false
   },
   "outputs": [],
   "source": [
    "rfm_df['Recency'] = df['TransactionDate'].max() - rfm_df['TransactionDate1']\n",
    "rfm_df['Recency'] = rfm_df['Recency'].dt.days\n",
    "rfm_df.drop('TransactionDate1', axis=1, inplace=True)\n",
    "rfm_df.columns = ['Frequency', 'Monetary', 'Recency']\n",
    "rfm_df.head()"
   ]
  },
  {
   "cell_type": "code",
   "execution_count": null,
   "metadata": {
    "collapsed": false
   },
   "outputs": [],
   "source": [
    "rfm_df['r_quartile'] = pd.qcut(rfm_df['Recency'], 5, [5, 4, 3, 2, 1])\n",
    "rfm_df['m_quartile'] = pd.qcut(rfm_df['Monetary'], 5, [1, 2, 3, 4, 5])\n",
    "rfm_df"
   ]
  },
  {
   "cell_type": "code",
   "execution_count": null,
   "metadata": {
    "collapsed": false
   },
   "outputs": [],
   "source": []
  },
  {
   "cell_type": "markdown",
   "metadata": {
    "collapsed": false
   },
   "source": []
  },
  {
   "cell_type": "code",
   "execution_count": null,
   "metadata": {
    "collapsed": false
   },
   "outputs": [],
   "source": [
    "rfm_df['rfm_score'] = rfm_df.r_quartile.astype(str)+ rfm_df.Frequency.astype(str) + rfm_df.m_quartile.astype(str)\n",
    "rfm_df['rfm_score'] = rfm_df['rfm_score'].astype(int)\n",
    "rfm_df.head()"
   ]
  },
  {
   "cell_type": "markdown",
   "metadata": {
    "collapsed": false
   },
   "source": [
    "### Most Valuable Customers"
   ]
  },
  {
   "cell_type": "code",
   "execution_count": null,
   "metadata": {
    "collapsed": false
   },
   "outputs": [],
   "source": [
    "rfm_df.sort_values('rfm_score', ascending=False)[rfm_df['rfm_score'] >= 444]"
   ]
  },
  {
   "cell_type": "code",
   "execution_count": null,
   "metadata": {
    "collapsed": false
   },
   "outputs": [],
   "source": [
    "rfm = rfm_df.loc[:, ['Recency', 'Frequency', 'Monetary']]\n",
    "cust_id = rfm.index\n",
    "cust_id"
   ]
  },
  {
   "cell_type": "code",
   "execution_count": null,
   "metadata": {
    "collapsed": false
   },
   "outputs": [],
   "source": [
    "rfm.head()"
   ]
  },
  {
   "cell_type": "markdown",
   "metadata": {
    "collapsed": false
   },
   "source": [
    "## Standard Scaler"
   ]
  },
  {
   "cell_type": "code",
   "execution_count": null,
   "metadata": {
    "collapsed": false
   },
   "outputs": [],
   "source": [
    "from sklearn.preprocessing import StandardScaler\n",
    "scaler = StandardScaler()\n",
    "rfm_scaled = scaler.fit_transform(rfm)\n",
    "rfm_scaled"
   ]
  },
  {
   "cell_type": "markdown",
   "metadata": {
    "collapsed": false
   },
   "source": [
    "## KMeans Clustering"
   ]
  },
  {
   "cell_type": "code",
   "execution_count": null,
   "metadata": {
    "collapsed": false
   },
   "outputs": [],
   "source": [
    "from sklearn.cluster import MiniBatchKMeans, KMeans\n",
    "from sklearn.metrics import silhouette_score\n",
    "clusters = 10\n",
    "inertia = []\n",
    "sil_score = []\n",
    "km = []\n",
    "\n",
    "for k in range(2, clusters):\n",
    "    kmeans = KMeans(n_clusters=k, init=\"k-means++\")\n",
    "    km.append(kmeans)\n",
    "    kmeans.fit(rfm_scaled)\n",
    "    inertia.append(kmeans.inertia_)\n",
    "    sil = silhouette_score(rfm_scaled, kmeans.labels_, sample_size=50000)\n",
    "    sil_score.append(sil)\n",
    "\n",
    "plt.grid()\n",
    "plt.plot(range(2, clusters), inertia)\n",
    "plt.xlabel('Number of clusters')\n",
    "plt.ylabel('Inertia')\n",
    "plt.show()\n",
    "plt.plot(range(2, clusters), sil_score)\n",
    "plt.xlabel('Number of clusters')\n",
    "plt.ylabel('score')\n",
    "plt.show()"
   ]
  },
  {
   "cell_type": "code",
   "execution_count": null,
   "metadata": {
    "collapsed": false
   },
   "outputs": [],
   "source": [
    "kmeans = KMeans(n_clusters=5, init=\"k-means++\")\n",
    "kmeans.fit(rfm_scaled)\n",
    "silhouette_score(rfm_scaled, kmeans.labels_, sample_size=50000)"
   ]
  },
  {
   "cell_type": "code",
   "execution_count": null,
   "metadata": {
    "collapsed": false
   },
   "outputs": [],
   "source": [
    "type(rfm_scaled)"
   ]
  },
  {
   "cell_type": "code",
   "execution_count": null,
   "metadata": {
    "collapsed": false
   },
   "outputs": [],
   "source": [
    "rfm_scaled = pd.DataFrame(rfm_scaled, columns=['R', 'F', 'M'])\n",
    "rfm_scaled['labels'] = kmeans.labels_\n",
    "rfm_scaled"
   ]
  },
  {
   "cell_type": "code",
   "execution_count": null,
   "outputs": [],
   "source": [
    "fig = plt.figure(figsize = (10, 7))\n",
    "ax = plt.axes(projection =\"3d\")\n",
    "ax.scatter3D(rfm_scaled['R'], rfm_scaled['F'], rfm_scaled['M'], c=rfm_scaled['labels'])\n",
    "plt.xlabel('Recency')\n",
    "plt.ylabel('Frequency')\n",
    "plt.zlabel('Monetary')\n",
    "plt.legend()\n",
    "plt.show()"
   ],
   "metadata": {
    "collapsed": false
   }
  },
  {
   "cell_type": "code",
   "execution_count": null,
   "metadata": {
    "collapsed": false
   },
   "outputs": [],
   "source": [
    "plt.scatter(rfm_scaled['M'], rfm_scaled['R'], c=rfm_scaled['labels'])\n",
    "plt.xlabel('Monetary')\n",
    "plt.ylabel('Recency')\n",
    "plt.show()"
   ]
  },
  {
   "cell_type": "code",
   "execution_count": null,
   "metadata": {},
   "outputs": [],
   "source": [
    "plt.scatter(rfm_scaled['M'], rfm_scaled['F'], c=rfm_scaled['labels'])\n",
    "plt.xlabel('Monetary')\n",
    "plt.ylabel('Frequency')\n",
    "plt.show()"
   ]
  },
  {
   "cell_type": "code",
   "execution_count": null,
   "metadata": {},
   "outputs": [],
   "source": [
    "plt.scatter(rfm_scaled['F'], rfm_scaled['R'], c=rfm_scaled['labels'])\n",
    "plt.xlabel('Frequency')\n",
    "plt.ylabel('Recency')\n",
    "plt.show()"
   ]
  },
  {
   "cell_type": "code",
   "execution_count": null,
   "metadata": {
    "collapsed": false
   },
   "outputs": [],
   "source": [
    "for c in range(5):\n",
    "    plt.scatter(rfm_scaled[ rfm_scaled['labels'] == c]['R'], rfm_scaled[ rfm_scaled['labels'] == c]['M'])\n",
    "\n",
    "plt.scatter(kmeans.cluster_centers_[:, 0], kmeans.cluster_centers_[:, 1], c='yellow', label = 'Centroids')\n",
    "plt.title('Clusters of Customers')\n",
    "\n",
    "plt.show()"
   ]
  },
  {
   "cell_type": "code",
   "execution_count": null,
   "metadata": {
    "collapsed": false
   },
   "outputs": [],
   "source": [
    "efverve"
   ]
  },
  {
   "cell_type": "markdown",
   "metadata": {
    "collapsed": false
   },
   "source": [
    "# Location wise analysis"
   ]
  },
  {
   "cell_type": "markdown",
   "metadata": {
    "collapsed": false
   },
   "source": [
    "1. age\n",
    "2. gender\n",
    "3. transaction volume\n",
    "4. transaction frequency"
   ]
  },
  {
   "cell_type": "code",
   "execution_count": null,
   "metadata": {
    "collapsed": false
   },
   "outputs": [],
   "source": [
    "df.head()"
   ]
  },
  {
   "cell_type": "code",
   "execution_count": null,
   "metadata": {
    "collapsed": false
   },
   "outputs": [],
   "source": [
    "df.drop(columns=['CustomerDOB', 'TransactionDate1'], inplace=True)\n",
    "df.head()"
   ]
  },
  {
   "cell_type": "code",
   "execution_count": null,
   "metadata": {
    "collapsed": false
   },
   "outputs": [],
   "source": [
    "df['CustLocation'].unique()"
   ]
  },
  {
   "cell_type": "code",
   "execution_count": null,
   "metadata": {
    "collapsed": false
   },
   "outputs": [],
   "source": [
    "df['T1'] = df['TransactionAmount (INR)']"
   ]
  },
  {
   "cell_type": "code",
   "execution_count": null,
   "metadata": {
    "collapsed": false
   },
   "outputs": [],
   "source": [
    "loc_df = df.groupby('CustLocation').agg(\n",
    "    {\n",
    "        'CustomerAge': 'mean',\n",
    "        'TransactionAmount (INR)': 'mean',\n",
    "        'T1': 'count'\n",
    "    }\n",
    ")\n",
    "loc_df.reset_index()\n",
    "loc_df"
   ]
  },
  {
   "cell_type": "code",
   "execution_count": null,
   "metadata": {
    "collapsed": false
   },
   "outputs": [],
   "source": []
  }
 ],
 "metadata": {
  "kernelspec": {
   "display_name": "Python 3",
   "language": "python",
   "name": "python3"
  },
  "language_info": {
   "codemirror_mode": {
    "name": "ipython",
    "version": 3
   },
   "file_extension": ".py",
   "mimetype": "text/x-python",
   "name": "python",
   "nbconvert_exporter": "python",
   "pygments_lexer": "ipython3",
   "version": "3.11.1"
  }
 },
 "nbformat": 4,
 "nbformat_minor": 0
}
