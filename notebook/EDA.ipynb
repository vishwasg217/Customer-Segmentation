{
 "cells": [
  {
   "cell_type": "markdown",
   "source": [
    "# About Dataset"
   ],
   "metadata": {
    "collapsed": false
   }
  },
  {
   "cell_type": "markdown",
   "source": [
    "## Bank Customer Segmentation\n",
    "Most banks have a large customer base - with different characteristics in terms of age, income, values lifestyle, and more. Customer segmentation is the process of dividing a customer dataset into specific groups based on shared traits.\n",
    "\n",
    "According to a report from Ernst & Young, “A more granular understanding of consumers is no longer nice-to-have item, but a strategic and competitive imperative for banking providers. Customer understanding should be a living, breathing part of everyday business, with insights underpinning the full range of banking operations."
   ],
   "metadata": {
    "collapsed": false
   }
  },
  {
   "cell_type": "markdown",
   "source": [
    "## About this Dataset\n",
    "This dataset consists of 1 Million+ transaction by over 800K customers for a bank in India. The data contains information such as - customer age (DOB), location, gender, account balance at the time of the transaction, transaction details, transaction amount, etc.\n",
    "\n",
    "Link: https://www.kaggle.com/datasets/shivamb/bank-customer-segmentation/code?datasetId=1672910&sortBy=voteCount"
   ],
   "metadata": {
    "collapsed": false
   }
  },
  {
   "cell_type": "markdown",
   "source": [
    "## Interesting Analysis Ideas\n",
    "The dataset can be used for different analysis, example -\n",
    "\n",
    "1. Perform Clustering / Segmentation on the dataset and identify popular customer groups along with their definitions/rules\n",
    "2. Perform Location-wise analysis to identify regional trends in India\n",
    "3. Perform transaction-related analysis to identify interesting trends that can be used by a bank to improve / optimize their user experiences\n",
    "4. Customer Recency, Frequency, Monetary analysis\n",
    "5. Network analysis or Graph analysis of customer data."
   ],
   "metadata": {
    "collapsed": false
   }
  },
  {
   "cell_type": "markdown",
   "source": [
    "# EDA"
   ],
   "metadata": {
    "collapsed": false
   }
  },
  {
   "cell_type": "markdown",
   "source": [
    "## Import required modules"
   ],
   "metadata": {
    "collapsed": false
   }
  },
  {
   "cell_type": "code",
   "execution_count": 72,
   "outputs": [],
   "source": [
    "import numpy as np\n",
    "import pandas as pd\n",
    "import seaborn\n",
    "import matplotlib.pyplot as plt\n",
    "%matplotlib inline\n",
    "import warnings\n",
    "warnings.filterwarnings('ignore')"
   ],
   "metadata": {
    "collapsed": false
   }
  },
  {
   "cell_type": "markdown",
   "source": [
    "## Import and display the data"
   ],
   "metadata": {
    "collapsed": false
   }
  },
  {
   "cell_type": "code",
   "execution_count": 73,
   "outputs": [
    {
     "data": {
      "text/plain": "   TransactionID CustomerID CustomerDOB CustGender CustLocation  \\\n0             T1   C5841053     10/1/94          F   JAMSHEDPUR   \n1             T2   C2142763      4/4/57          M      JHAJJAR   \n2             T3   C4417068    26/11/96          F       MUMBAI   \n3             T4   C5342380     14/9/73          F       MUMBAI   \n4             T5   C9031234     24/3/88          F  NAVI MUMBAI   \n5             T6   C1536588     8/10/72          F     ITANAGAR   \n6             T7   C7126560     26/1/92          F       MUMBAI   \n7             T8   C1220223     27/1/82          M       MUMBAI   \n8             T9   C8536061     19/4/88          F      GURGAON   \n9            T10   C6638934     22/6/84          M       MUMBAI   \n10           T11   C5430833     22/7/82          M       MOHALI   \n11           T12   C6939838      7/7/88          M       GUNTUR   \n12           T13   C6339347     13/6/78          M    AHMEDABAD   \n13           T14   C8327851      5/1/92          F        THANE   \n14           T15   C7917151     24/3/78          M         PUNE   \n15           T16   C8334633     10/7/68          F    NEW DELHI   \n16           T17   C1376215    1/1/1800          M       MUMBAI   \n17           T18   C8967349     16/7/89          M       MUMBAI   \n18           T19   C3732016     11/1/91          M       MUMBAI   \n19           T20   C8999019     24/6/85          M         PUNE   \n\n    CustAccountBalance TransactionDate  TransactionTime  \\\n0             17819.05          2/8/16           143207   \n1              2270.69          2/8/16           141858   \n2             17874.44          2/8/16           142712   \n3            866503.21          2/8/16           142714   \n4              6714.43          2/8/16           181156   \n5             53609.20          2/8/16           173940   \n6               973.46          2/8/16           173806   \n7             95075.54          2/8/16           170537   \n8             14906.96          2/8/16           192825   \n9              4279.22          2/8/16           192446   \n10            48429.49          2/8/16           204133   \n11            14613.46          2/8/16           205108   \n12            32274.78          2/8/16           203834   \n13            59950.44          1/8/16            84706   \n14            10100.84          1/8/16            82253   \n15             1283.12          1/8/16           125725   \n16            77495.15          1/8/16           124727   \n17             2177.85          1/8/16           124734   \n18            32816.17          1/8/16           122135   \n19            10643.50          1/8/16           152821   \n\n    TransactionAmount (INR)  \n0                     25.00  \n1                  27999.00  \n2                    459.00  \n3                   2060.00  \n4                   1762.50  \n5                    676.00  \n6                    566.00  \n7                    148.00  \n8                    833.00  \n9                    289.11  \n10                   259.00  \n11                   202.00  \n12                 12300.00  \n13                    50.00  \n14                   338.00  \n15                   250.00  \n16                  1423.11  \n17                    54.00  \n18                   315.00  \n19                   945.00  ",
      "text/html": "<div>\n<style scoped>\n    .dataframe tbody tr th:only-of-type {\n        vertical-align: middle;\n    }\n\n    .dataframe tbody tr th {\n        vertical-align: top;\n    }\n\n    .dataframe thead th {\n        text-align: right;\n    }\n</style>\n<table border=\"1\" class=\"dataframe\">\n  <thead>\n    <tr style=\"text-align: right;\">\n      <th></th>\n      <th>TransactionID</th>\n      <th>CustomerID</th>\n      <th>CustomerDOB</th>\n      <th>CustGender</th>\n      <th>CustLocation</th>\n      <th>CustAccountBalance</th>\n      <th>TransactionDate</th>\n      <th>TransactionTime</th>\n      <th>TransactionAmount (INR)</th>\n    </tr>\n  </thead>\n  <tbody>\n    <tr>\n      <th>0</th>\n      <td>T1</td>\n      <td>C5841053</td>\n      <td>10/1/94</td>\n      <td>F</td>\n      <td>JAMSHEDPUR</td>\n      <td>17819.05</td>\n      <td>2/8/16</td>\n      <td>143207</td>\n      <td>25.00</td>\n    </tr>\n    <tr>\n      <th>1</th>\n      <td>T2</td>\n      <td>C2142763</td>\n      <td>4/4/57</td>\n      <td>M</td>\n      <td>JHAJJAR</td>\n      <td>2270.69</td>\n      <td>2/8/16</td>\n      <td>141858</td>\n      <td>27999.00</td>\n    </tr>\n    <tr>\n      <th>2</th>\n      <td>T3</td>\n      <td>C4417068</td>\n      <td>26/11/96</td>\n      <td>F</td>\n      <td>MUMBAI</td>\n      <td>17874.44</td>\n      <td>2/8/16</td>\n      <td>142712</td>\n      <td>459.00</td>\n    </tr>\n    <tr>\n      <th>3</th>\n      <td>T4</td>\n      <td>C5342380</td>\n      <td>14/9/73</td>\n      <td>F</td>\n      <td>MUMBAI</td>\n      <td>866503.21</td>\n      <td>2/8/16</td>\n      <td>142714</td>\n      <td>2060.00</td>\n    </tr>\n    <tr>\n      <th>4</th>\n      <td>T5</td>\n      <td>C9031234</td>\n      <td>24/3/88</td>\n      <td>F</td>\n      <td>NAVI MUMBAI</td>\n      <td>6714.43</td>\n      <td>2/8/16</td>\n      <td>181156</td>\n      <td>1762.50</td>\n    </tr>\n    <tr>\n      <th>5</th>\n      <td>T6</td>\n      <td>C1536588</td>\n      <td>8/10/72</td>\n      <td>F</td>\n      <td>ITANAGAR</td>\n      <td>53609.20</td>\n      <td>2/8/16</td>\n      <td>173940</td>\n      <td>676.00</td>\n    </tr>\n    <tr>\n      <th>6</th>\n      <td>T7</td>\n      <td>C7126560</td>\n      <td>26/1/92</td>\n      <td>F</td>\n      <td>MUMBAI</td>\n      <td>973.46</td>\n      <td>2/8/16</td>\n      <td>173806</td>\n      <td>566.00</td>\n    </tr>\n    <tr>\n      <th>7</th>\n      <td>T8</td>\n      <td>C1220223</td>\n      <td>27/1/82</td>\n      <td>M</td>\n      <td>MUMBAI</td>\n      <td>95075.54</td>\n      <td>2/8/16</td>\n      <td>170537</td>\n      <td>148.00</td>\n    </tr>\n    <tr>\n      <th>8</th>\n      <td>T9</td>\n      <td>C8536061</td>\n      <td>19/4/88</td>\n      <td>F</td>\n      <td>GURGAON</td>\n      <td>14906.96</td>\n      <td>2/8/16</td>\n      <td>192825</td>\n      <td>833.00</td>\n    </tr>\n    <tr>\n      <th>9</th>\n      <td>T10</td>\n      <td>C6638934</td>\n      <td>22/6/84</td>\n      <td>M</td>\n      <td>MUMBAI</td>\n      <td>4279.22</td>\n      <td>2/8/16</td>\n      <td>192446</td>\n      <td>289.11</td>\n    </tr>\n    <tr>\n      <th>10</th>\n      <td>T11</td>\n      <td>C5430833</td>\n      <td>22/7/82</td>\n      <td>M</td>\n      <td>MOHALI</td>\n      <td>48429.49</td>\n      <td>2/8/16</td>\n      <td>204133</td>\n      <td>259.00</td>\n    </tr>\n    <tr>\n      <th>11</th>\n      <td>T12</td>\n      <td>C6939838</td>\n      <td>7/7/88</td>\n      <td>M</td>\n      <td>GUNTUR</td>\n      <td>14613.46</td>\n      <td>2/8/16</td>\n      <td>205108</td>\n      <td>202.00</td>\n    </tr>\n    <tr>\n      <th>12</th>\n      <td>T13</td>\n      <td>C6339347</td>\n      <td>13/6/78</td>\n      <td>M</td>\n      <td>AHMEDABAD</td>\n      <td>32274.78</td>\n      <td>2/8/16</td>\n      <td>203834</td>\n      <td>12300.00</td>\n    </tr>\n    <tr>\n      <th>13</th>\n      <td>T14</td>\n      <td>C8327851</td>\n      <td>5/1/92</td>\n      <td>F</td>\n      <td>THANE</td>\n      <td>59950.44</td>\n      <td>1/8/16</td>\n      <td>84706</td>\n      <td>50.00</td>\n    </tr>\n    <tr>\n      <th>14</th>\n      <td>T15</td>\n      <td>C7917151</td>\n      <td>24/3/78</td>\n      <td>M</td>\n      <td>PUNE</td>\n      <td>10100.84</td>\n      <td>1/8/16</td>\n      <td>82253</td>\n      <td>338.00</td>\n    </tr>\n    <tr>\n      <th>15</th>\n      <td>T16</td>\n      <td>C8334633</td>\n      <td>10/7/68</td>\n      <td>F</td>\n      <td>NEW DELHI</td>\n      <td>1283.12</td>\n      <td>1/8/16</td>\n      <td>125725</td>\n      <td>250.00</td>\n    </tr>\n    <tr>\n      <th>16</th>\n      <td>T17</td>\n      <td>C1376215</td>\n      <td>1/1/1800</td>\n      <td>M</td>\n      <td>MUMBAI</td>\n      <td>77495.15</td>\n      <td>1/8/16</td>\n      <td>124727</td>\n      <td>1423.11</td>\n    </tr>\n    <tr>\n      <th>17</th>\n      <td>T18</td>\n      <td>C8967349</td>\n      <td>16/7/89</td>\n      <td>M</td>\n      <td>MUMBAI</td>\n      <td>2177.85</td>\n      <td>1/8/16</td>\n      <td>124734</td>\n      <td>54.00</td>\n    </tr>\n    <tr>\n      <th>18</th>\n      <td>T19</td>\n      <td>C3732016</td>\n      <td>11/1/91</td>\n      <td>M</td>\n      <td>MUMBAI</td>\n      <td>32816.17</td>\n      <td>1/8/16</td>\n      <td>122135</td>\n      <td>315.00</td>\n    </tr>\n    <tr>\n      <th>19</th>\n      <td>T20</td>\n      <td>C8999019</td>\n      <td>24/6/85</td>\n      <td>M</td>\n      <td>PUNE</td>\n      <td>10643.50</td>\n      <td>1/8/16</td>\n      <td>152821</td>\n      <td>945.00</td>\n    </tr>\n  </tbody>\n</table>\n</div>"
     },
     "execution_count": 73,
     "metadata": {},
     "output_type": "execute_result"
    }
   ],
   "source": [
    "df = pd.read_csv('data/bank_transactions.csv')\n",
    "df.head(20)"
   ],
   "metadata": {
    "collapsed": false
   }
  },
  {
   "cell_type": "markdown",
   "source": [
    "## Data Checks to perform\n",
    "Check Missing values\n",
    "Check Duplicates\n",
    "Check data type\n",
    "Check the number of unique values of each column\n",
    "Check statistics of data set\n",
    "Check various categories present in the different categorical column"
   ],
   "metadata": {
    "collapsed": false
   }
  },
  {
   "cell_type": "markdown",
   "source": [
    "## Missing Values"
   ],
   "metadata": {
    "collapsed": false
   }
  },
  {
   "cell_type": "code",
   "execution_count": 74,
   "outputs": [
    {
     "data": {
      "text/plain": "(1048567, 9)"
     },
     "execution_count": 74,
     "metadata": {},
     "output_type": "execute_result"
    }
   ],
   "source": [
    "df.shape"
   ],
   "metadata": {
    "collapsed": false
   }
  },
  {
   "cell_type": "code",
   "execution_count": 75,
   "outputs": [
    {
     "data": {
      "text/plain": "TransactionID                 0\nCustomerID                    0\nCustomerDOB                3397\nCustGender                 1100\nCustLocation                151\nCustAccountBalance         2369\nTransactionDate               0\nTransactionTime               0\nTransactionAmount (INR)       0\ndtype: int64"
     },
     "execution_count": 75,
     "metadata": {},
     "output_type": "execute_result"
    }
   ],
   "source": [
    "df.isna().sum()"
   ],
   "metadata": {
    "collapsed": false
   }
  },
  {
   "cell_type": "code",
   "execution_count": 76,
   "outputs": [],
   "source": [
    "df.dropna(inplace=True)"
   ],
   "metadata": {
    "collapsed": false
   }
  },
  {
   "cell_type": "code",
   "execution_count": 77,
   "outputs": [
    {
     "data": {
      "text/plain": "TransactionID              0\nCustomerID                 0\nCustomerDOB                0\nCustGender                 0\nCustLocation               0\nCustAccountBalance         0\nTransactionDate            0\nTransactionTime            0\nTransactionAmount (INR)    0\ndtype: int64"
     },
     "execution_count": 77,
     "metadata": {},
     "output_type": "execute_result"
    }
   ],
   "source": [
    "df.isna().sum()"
   ],
   "metadata": {
    "collapsed": false
   }
  },
  {
   "cell_type": "markdown",
   "source": [
    "## Check duplicates"
   ],
   "metadata": {
    "collapsed": false
   }
  },
  {
   "cell_type": "code",
   "execution_count": 78,
   "outputs": [
    {
     "data": {
      "text/plain": "0"
     },
     "execution_count": 78,
     "metadata": {},
     "output_type": "execute_result"
    }
   ],
   "source": [
    "df.duplicated().sum()"
   ],
   "metadata": {
    "collapsed": false
   }
  },
  {
   "cell_type": "markdown",
   "source": [
    "## Check Datatypes"
   ],
   "metadata": {
    "collapsed": false
   }
  },
  {
   "cell_type": "code",
   "execution_count": 79,
   "outputs": [
    {
     "name": "stdout",
     "output_type": "stream",
     "text": [
      "<class 'pandas.core.frame.DataFrame'>\n",
      "Int64Index: 1041614 entries, 0 to 1048566\n",
      "Data columns (total 9 columns):\n",
      " #   Column                   Non-Null Count    Dtype  \n",
      "---  ------                   --------------    -----  \n",
      " 0   TransactionID            1041614 non-null  object \n",
      " 1   CustomerID               1041614 non-null  object \n",
      " 2   CustomerDOB              1041614 non-null  object \n",
      " 3   CustGender               1041614 non-null  object \n",
      " 4   CustLocation             1041614 non-null  object \n",
      " 5   CustAccountBalance       1041614 non-null  float64\n",
      " 6   TransactionDate          1041614 non-null  object \n",
      " 7   TransactionTime          1041614 non-null  int64  \n",
      " 8   TransactionAmount (INR)  1041614 non-null  float64\n",
      "dtypes: float64(2), int64(1), object(6)\n",
      "memory usage: 79.5+ MB\n"
     ]
    }
   ],
   "source": [
    "df.info()"
   ],
   "metadata": {
    "collapsed": false
   }
  },
  {
   "cell_type": "markdown",
   "source": [
    "## Check Unique Values"
   ],
   "metadata": {
    "collapsed": false
   }
  },
  {
   "cell_type": "code",
   "execution_count": 80,
   "outputs": [
    {
     "data": {
      "text/plain": "TransactionID              1041614\nCustomerID                  879358\nCustomerDOB                  17233\nCustGender                       3\nCustLocation                  9275\nCustAccountBalance          160723\nTransactionDate                 55\nTransactionTime              81855\nTransactionAmount (INR)      92391\ndtype: int64"
     },
     "execution_count": 80,
     "metadata": {},
     "output_type": "execute_result"
    }
   ],
   "source": [
    "df.nunique()"
   ],
   "metadata": {
    "collapsed": false
   }
  },
  {
   "cell_type": "markdown",
   "source": [
    "## Statistics"
   ],
   "metadata": {
    "collapsed": false
   }
  },
  {
   "cell_type": "code",
   "execution_count": 81,
   "outputs": [
    {
     "data": {
      "text/plain": "       CustAccountBalance  TransactionTime  TransactionAmount (INR)\ncount        1.041614e+06     1.041614e+06             1.041614e+06\nmean         1.149986e+05     1.571221e+05             1.566096e+03\nstd          8.467609e+05     5.126352e+04             6.561464e+03\nmin          0.000000e+00     0.000000e+00             0.000000e+00\n25%          4.728140e+03     1.240410e+05             1.600000e+02\n50%          1.676852e+04     1.642470e+05             4.575000e+02\n75%          5.742885e+04     2.000220e+05             1.200000e+03\nmax          1.150355e+08     2.359590e+05             1.560035e+06",
      "text/html": "<div>\n<style scoped>\n    .dataframe tbody tr th:only-of-type {\n        vertical-align: middle;\n    }\n\n    .dataframe tbody tr th {\n        vertical-align: top;\n    }\n\n    .dataframe thead th {\n        text-align: right;\n    }\n</style>\n<table border=\"1\" class=\"dataframe\">\n  <thead>\n    <tr style=\"text-align: right;\">\n      <th></th>\n      <th>CustAccountBalance</th>\n      <th>TransactionTime</th>\n      <th>TransactionAmount (INR)</th>\n    </tr>\n  </thead>\n  <tbody>\n    <tr>\n      <th>count</th>\n      <td>1.041614e+06</td>\n      <td>1.041614e+06</td>\n      <td>1.041614e+06</td>\n    </tr>\n    <tr>\n      <th>mean</th>\n      <td>1.149986e+05</td>\n      <td>1.571221e+05</td>\n      <td>1.566096e+03</td>\n    </tr>\n    <tr>\n      <th>std</th>\n      <td>8.467609e+05</td>\n      <td>5.126352e+04</td>\n      <td>6.561464e+03</td>\n    </tr>\n    <tr>\n      <th>min</th>\n      <td>0.000000e+00</td>\n      <td>0.000000e+00</td>\n      <td>0.000000e+00</td>\n    </tr>\n    <tr>\n      <th>25%</th>\n      <td>4.728140e+03</td>\n      <td>1.240410e+05</td>\n      <td>1.600000e+02</td>\n    </tr>\n    <tr>\n      <th>50%</th>\n      <td>1.676852e+04</td>\n      <td>1.642470e+05</td>\n      <td>4.575000e+02</td>\n    </tr>\n    <tr>\n      <th>75%</th>\n      <td>5.742885e+04</td>\n      <td>2.000220e+05</td>\n      <td>1.200000e+03</td>\n    </tr>\n    <tr>\n      <th>max</th>\n      <td>1.150355e+08</td>\n      <td>2.359590e+05</td>\n      <td>1.560035e+06</td>\n    </tr>\n  </tbody>\n</table>\n</div>"
     },
     "execution_count": 81,
     "metadata": {},
     "output_type": "execute_result"
    }
   ],
   "source": [
    "df.describe()"
   ],
   "metadata": {
    "collapsed": false
   }
  },
  {
   "cell_type": "markdown",
   "source": [
    "## Cleaning"
   ],
   "metadata": {
    "collapsed": false
   }
  },
  {
   "cell_type": "markdown",
   "source": [
    "## change dob and transaction date dtypes"
   ],
   "metadata": {
    "collapsed": false
   }
  },
  {
   "cell_type": "code",
   "execution_count": 82,
   "outputs": [
    {
     "data": {
      "text/plain": "  TransactionID CustomerID CustomerDOB CustGender CustLocation  \\\n0            T1   C5841053  1994-10-01          F   JAMSHEDPUR   \n1            T2   C2142763  2057-04-04          M      JHAJJAR   \n2            T3   C4417068  1996-11-26          F       MUMBAI   \n3            T4   C5342380  1973-09-14          F       MUMBAI   \n4            T5   C9031234  1988-03-24          F  NAVI MUMBAI   \n\n   CustAccountBalance TransactionDate  TransactionTime  \\\n0            17819.05      2016-02-08           143207   \n1             2270.69      2016-02-08           141858   \n2            17874.44      2016-02-08           142712   \n3           866503.21      2016-02-08           142714   \n4             6714.43      2016-02-08           181156   \n\n   TransactionAmount (INR)  \n0                     25.0  \n1                  27999.0  \n2                    459.0  \n3                   2060.0  \n4                   1762.5  ",
      "text/html": "<div>\n<style scoped>\n    .dataframe tbody tr th:only-of-type {\n        vertical-align: middle;\n    }\n\n    .dataframe tbody tr th {\n        vertical-align: top;\n    }\n\n    .dataframe thead th {\n        text-align: right;\n    }\n</style>\n<table border=\"1\" class=\"dataframe\">\n  <thead>\n    <tr style=\"text-align: right;\">\n      <th></th>\n      <th>TransactionID</th>\n      <th>CustomerID</th>\n      <th>CustomerDOB</th>\n      <th>CustGender</th>\n      <th>CustLocation</th>\n      <th>CustAccountBalance</th>\n      <th>TransactionDate</th>\n      <th>TransactionTime</th>\n      <th>TransactionAmount (INR)</th>\n    </tr>\n  </thead>\n  <tbody>\n    <tr>\n      <th>0</th>\n      <td>T1</td>\n      <td>C5841053</td>\n      <td>1994-10-01</td>\n      <td>F</td>\n      <td>JAMSHEDPUR</td>\n      <td>17819.05</td>\n      <td>2016-02-08</td>\n      <td>143207</td>\n      <td>25.0</td>\n    </tr>\n    <tr>\n      <th>1</th>\n      <td>T2</td>\n      <td>C2142763</td>\n      <td>2057-04-04</td>\n      <td>M</td>\n      <td>JHAJJAR</td>\n      <td>2270.69</td>\n      <td>2016-02-08</td>\n      <td>141858</td>\n      <td>27999.0</td>\n    </tr>\n    <tr>\n      <th>2</th>\n      <td>T3</td>\n      <td>C4417068</td>\n      <td>1996-11-26</td>\n      <td>F</td>\n      <td>MUMBAI</td>\n      <td>17874.44</td>\n      <td>2016-02-08</td>\n      <td>142712</td>\n      <td>459.0</td>\n    </tr>\n    <tr>\n      <th>3</th>\n      <td>T4</td>\n      <td>C5342380</td>\n      <td>1973-09-14</td>\n      <td>F</td>\n      <td>MUMBAI</td>\n      <td>866503.21</td>\n      <td>2016-02-08</td>\n      <td>142714</td>\n      <td>2060.0</td>\n    </tr>\n    <tr>\n      <th>4</th>\n      <td>T5</td>\n      <td>C9031234</td>\n      <td>1988-03-24</td>\n      <td>F</td>\n      <td>NAVI MUMBAI</td>\n      <td>6714.43</td>\n      <td>2016-02-08</td>\n      <td>181156</td>\n      <td>1762.5</td>\n    </tr>\n  </tbody>\n</table>\n</div>"
     },
     "execution_count": 82,
     "metadata": {},
     "output_type": "execute_result"
    }
   ],
   "source": [
    "df['CustomerDOB'] = pd.to_datetime(df['CustomerDOB'])\n",
    "df['TransactionDate'] = pd.to_datetime(df['TransactionDate'])\n",
    "df.head()"
   ],
   "metadata": {
    "collapsed": false
   }
  },
  {
   "cell_type": "code",
   "execution_count": 83,
   "outputs": [
    {
     "name": "stdout",
     "output_type": "stream",
     "text": [
      "<class 'pandas.core.frame.DataFrame'>\n",
      "Int64Index: 1041614 entries, 0 to 1048566\n",
      "Data columns (total 9 columns):\n",
      " #   Column                   Non-Null Count    Dtype         \n",
      "---  ------                   --------------    -----         \n",
      " 0   TransactionID            1041614 non-null  object        \n",
      " 1   CustomerID               1041614 non-null  object        \n",
      " 2   CustomerDOB              1041614 non-null  datetime64[ns]\n",
      " 3   CustGender               1041614 non-null  object        \n",
      " 4   CustLocation             1041614 non-null  object        \n",
      " 5   CustAccountBalance       1041614 non-null  float64       \n",
      " 6   TransactionDate          1041614 non-null  datetime64[ns]\n",
      " 7   TransactionTime          1041614 non-null  int64         \n",
      " 8   TransactionAmount (INR)  1041614 non-null  float64       \n",
      "dtypes: datetime64[ns](2), float64(2), int64(1), object(4)\n",
      "memory usage: 79.5+ MB\n"
     ]
    }
   ],
   "source": [
    "df.info()"
   ],
   "metadata": {
    "collapsed": false
   }
  },
  {
   "cell_type": "code",
   "execution_count": 84,
   "outputs": [
    {
     "data": {
      "text/plain": "  TransactionID CustomerID CustomerDOB CustGender CustLocation  \\\n0            T1   C5841053  1994-10-01          F   JAMSHEDPUR   \n1            T2   C2142763  2057-04-04          M      JHAJJAR   \n2            T3   C4417068  1996-11-26          F       MUMBAI   \n3            T4   C5342380  1973-09-14          F       MUMBAI   \n4            T5   C9031234  1988-03-24          F  NAVI MUMBAI   \n\n   CustAccountBalance TransactionDate  TransactionTime  \\\n0            17819.05      2016-02-08           143207   \n1             2270.69      2016-02-08           141858   \n2            17874.44      2016-02-08           142712   \n3           866503.21      2016-02-08           142714   \n4             6714.43      2016-02-08           181156   \n\n   TransactionAmount (INR)  CustomerAge  \n0                     25.0           22  \n1                  27999.0          -41  \n2                    459.0           20  \n3                   2060.0           43  \n4                   1762.5           28  ",
      "text/html": "<div>\n<style scoped>\n    .dataframe tbody tr th:only-of-type {\n        vertical-align: middle;\n    }\n\n    .dataframe tbody tr th {\n        vertical-align: top;\n    }\n\n    .dataframe thead th {\n        text-align: right;\n    }\n</style>\n<table border=\"1\" class=\"dataframe\">\n  <thead>\n    <tr style=\"text-align: right;\">\n      <th></th>\n      <th>TransactionID</th>\n      <th>CustomerID</th>\n      <th>CustomerDOB</th>\n      <th>CustGender</th>\n      <th>CustLocation</th>\n      <th>CustAccountBalance</th>\n      <th>TransactionDate</th>\n      <th>TransactionTime</th>\n      <th>TransactionAmount (INR)</th>\n      <th>CustomerAge</th>\n    </tr>\n  </thead>\n  <tbody>\n    <tr>\n      <th>0</th>\n      <td>T1</td>\n      <td>C5841053</td>\n      <td>1994-10-01</td>\n      <td>F</td>\n      <td>JAMSHEDPUR</td>\n      <td>17819.05</td>\n      <td>2016-02-08</td>\n      <td>143207</td>\n      <td>25.0</td>\n      <td>22</td>\n    </tr>\n    <tr>\n      <th>1</th>\n      <td>T2</td>\n      <td>C2142763</td>\n      <td>2057-04-04</td>\n      <td>M</td>\n      <td>JHAJJAR</td>\n      <td>2270.69</td>\n      <td>2016-02-08</td>\n      <td>141858</td>\n      <td>27999.0</td>\n      <td>-41</td>\n    </tr>\n    <tr>\n      <th>2</th>\n      <td>T3</td>\n      <td>C4417068</td>\n      <td>1996-11-26</td>\n      <td>F</td>\n      <td>MUMBAI</td>\n      <td>17874.44</td>\n      <td>2016-02-08</td>\n      <td>142712</td>\n      <td>459.0</td>\n      <td>20</td>\n    </tr>\n    <tr>\n      <th>3</th>\n      <td>T4</td>\n      <td>C5342380</td>\n      <td>1973-09-14</td>\n      <td>F</td>\n      <td>MUMBAI</td>\n      <td>866503.21</td>\n      <td>2016-02-08</td>\n      <td>142714</td>\n      <td>2060.0</td>\n      <td>43</td>\n    </tr>\n    <tr>\n      <th>4</th>\n      <td>T5</td>\n      <td>C9031234</td>\n      <td>1988-03-24</td>\n      <td>F</td>\n      <td>NAVI MUMBAI</td>\n      <td>6714.43</td>\n      <td>2016-02-08</td>\n      <td>181156</td>\n      <td>1762.5</td>\n      <td>28</td>\n    </tr>\n  </tbody>\n</table>\n</div>"
     },
     "execution_count": 84,
     "metadata": {},
     "output_type": "execute_result"
    }
   ],
   "source": [
    "df['CustomerAge'] = df['TransactionDate'].dt.year - df['CustomerDOB'].dt.year\n",
    "df.head()"
   ],
   "metadata": {
    "collapsed": false
   }
  },
  {
   "cell_type": "code",
   "execution_count": 85,
   "outputs": [],
   "source": [
    "df.drop('TransactionTime', axis=1, inplace=True)"
   ],
   "metadata": {
    "collapsed": false
   }
  },
  {
   "cell_type": "code",
   "execution_count": 86,
   "outputs": [
    {
     "data": {
      "text/plain": "M    760978\nF    280635\nT         1\nName: CustGender, dtype: int64"
     },
     "execution_count": 86,
     "metadata": {},
     "output_type": "execute_result"
    }
   ],
   "source": [
    "df['CustGender'].value_counts()"
   ],
   "metadata": {
    "collapsed": false
   }
  },
  {
   "cell_type": "code",
   "execution_count": 87,
   "outputs": [],
   "source": [
    "df.drop(df[df['CustGender'] == 'T'].index, inplace=True)"
   ],
   "metadata": {
    "collapsed": false
   }
  },
  {
   "cell_type": "markdown",
   "source": [
    "## RFM Analysis"
   ],
   "metadata": {
    "collapsed": false
   }
  },
  {
   "cell_type": "code",
   "execution_count": 88,
   "outputs": [
    {
     "data": {
      "text/plain": "Timestamp('2016-12-09 00:00:00')"
     },
     "execution_count": 88,
     "metadata": {},
     "output_type": "execute_result"
    }
   ],
   "source": [
    "df['TransactionDate'].max()"
   ],
   "metadata": {
    "collapsed": false
   }
  },
  {
   "cell_type": "code",
   "execution_count": 89,
   "outputs": [],
   "source": [
    "df['TransactionDate1']=df['TransactionDate']"
   ],
   "metadata": {
    "collapsed": false
   }
  },
  {
   "cell_type": "code",
   "execution_count": 90,
   "outputs": [
    {
     "data": {
      "text/plain": "           TransactionDate1  TransactionID  TransactionAmount (INR)\nCustomerID                                                         \nC1010011         2016-09-26              2                   5106.0\nC1010012         2016-08-14              1                   1499.0\nC1010014         2016-07-08              2                   1455.0\nC1010018         2016-09-15              1                     30.0\nC1010024         2016-08-18              1                   5000.0",
      "text/html": "<div>\n<style scoped>\n    .dataframe tbody tr th:only-of-type {\n        vertical-align: middle;\n    }\n\n    .dataframe tbody tr th {\n        vertical-align: top;\n    }\n\n    .dataframe thead th {\n        text-align: right;\n    }\n</style>\n<table border=\"1\" class=\"dataframe\">\n  <thead>\n    <tr style=\"text-align: right;\">\n      <th></th>\n      <th>TransactionDate1</th>\n      <th>TransactionID</th>\n      <th>TransactionAmount (INR)</th>\n    </tr>\n    <tr>\n      <th>CustomerID</th>\n      <th></th>\n      <th></th>\n      <th></th>\n    </tr>\n  </thead>\n  <tbody>\n    <tr>\n      <th>C1010011</th>\n      <td>2016-09-26</td>\n      <td>2</td>\n      <td>5106.0</td>\n    </tr>\n    <tr>\n      <th>C1010012</th>\n      <td>2016-08-14</td>\n      <td>1</td>\n      <td>1499.0</td>\n    </tr>\n    <tr>\n      <th>C1010014</th>\n      <td>2016-07-08</td>\n      <td>2</td>\n      <td>1455.0</td>\n    </tr>\n    <tr>\n      <th>C1010018</th>\n      <td>2016-09-15</td>\n      <td>1</td>\n      <td>30.0</td>\n    </tr>\n    <tr>\n      <th>C1010024</th>\n      <td>2016-08-18</td>\n      <td>1</td>\n      <td>5000.0</td>\n    </tr>\n  </tbody>\n</table>\n</div>"
     },
     "execution_count": 90,
     "metadata": {},
     "output_type": "execute_result"
    }
   ],
   "source": [
    "rfm_df = df.groupby('CustomerID').agg(\n",
    "    {\n",
    "        \"TransactionDate1\":\"max\",\n",
    "        \"TransactionID\" : \"count\",\n",
    "        \"TransactionAmount (INR)\" : \"sum\",\n",
    "    }\n",
    ")\n",
    "rfm_df.reset_index()\n",
    "rfm_df.head()"
   ],
   "metadata": {
    "collapsed": false
   }
  },
  {
   "cell_type": "code",
   "execution_count": 91,
   "outputs": [
    {
     "data": {
      "text/plain": "(879357, 3)"
     },
     "execution_count": 91,
     "metadata": {},
     "output_type": "execute_result"
    }
   ],
   "source": [
    "rfm_df.shape"
   ],
   "metadata": {
    "collapsed": false
   }
  },
  {
   "cell_type": "code",
   "execution_count": 92,
   "outputs": [
    {
     "data": {
      "text/plain": "            Frequency  Monetary  Recency\nCustomerID                              \nC1010011            2    5106.0       74\nC1010012            1    1499.0      117\nC1010014            2    1455.0      154\nC1010018            1      30.0       85\nC1010024            1    5000.0      113",
      "text/html": "<div>\n<style scoped>\n    .dataframe tbody tr th:only-of-type {\n        vertical-align: middle;\n    }\n\n    .dataframe tbody tr th {\n        vertical-align: top;\n    }\n\n    .dataframe thead th {\n        text-align: right;\n    }\n</style>\n<table border=\"1\" class=\"dataframe\">\n  <thead>\n    <tr style=\"text-align: right;\">\n      <th></th>\n      <th>Frequency</th>\n      <th>Monetary</th>\n      <th>Recency</th>\n    </tr>\n    <tr>\n      <th>CustomerID</th>\n      <th></th>\n      <th></th>\n      <th></th>\n    </tr>\n  </thead>\n  <tbody>\n    <tr>\n      <th>C1010011</th>\n      <td>2</td>\n      <td>5106.0</td>\n      <td>74</td>\n    </tr>\n    <tr>\n      <th>C1010012</th>\n      <td>1</td>\n      <td>1499.0</td>\n      <td>117</td>\n    </tr>\n    <tr>\n      <th>C1010014</th>\n      <td>2</td>\n      <td>1455.0</td>\n      <td>154</td>\n    </tr>\n    <tr>\n      <th>C1010018</th>\n      <td>1</td>\n      <td>30.0</td>\n      <td>85</td>\n    </tr>\n    <tr>\n      <th>C1010024</th>\n      <td>1</td>\n      <td>5000.0</td>\n      <td>113</td>\n    </tr>\n  </tbody>\n</table>\n</div>"
     },
     "execution_count": 92,
     "metadata": {},
     "output_type": "execute_result"
    }
   ],
   "source": [
    "rfm_df['Recency'] = df['TransactionDate'].max() - rfm_df['TransactionDate1']\n",
    "rfm_df['Recency'] = rfm_df['Recency'].dt.days\n",
    "rfm_df.drop('TransactionDate1', axis=1, inplace=True)\n",
    "rfm_df.columns = ['Frequency', 'Monetary', 'Recency']\n",
    "rfm_df.head()"
   ],
   "metadata": {
    "collapsed": false
   }
  },
  {
   "cell_type": "code",
   "execution_count": 97,
   "outputs": [
    {
     "data": {
      "text/plain": "            Frequency  Monetary  Recency r_quartile m_quartile  rfm_score\nCustomerID                                                               \nC1010011            2    5106.0       74          5          5        521\nC1010012            1    1499.0      117          2          4        212\nC1010014            2    1455.0      154          2          4        222\nC1010018            1      30.0       85          4          1        415\nC1010024            1    5000.0      113          3          5        311\n...               ...       ...      ...        ...        ...        ...\nC9099836            1     691.0      154          2          3        213\nC9099877            1     222.0       85          4          2        414\nC9099919            1     126.0      113          3          1        315\nC9099941            1      50.0      103          4          1        415\nC9099956            1     855.0       75          5          4        512\n\n[879357 rows x 6 columns]",
      "text/html": "<div>\n<style scoped>\n    .dataframe tbody tr th:only-of-type {\n        vertical-align: middle;\n    }\n\n    .dataframe tbody tr th {\n        vertical-align: top;\n    }\n\n    .dataframe thead th {\n        text-align: right;\n    }\n</style>\n<table border=\"1\" class=\"dataframe\">\n  <thead>\n    <tr style=\"text-align: right;\">\n      <th></th>\n      <th>Frequency</th>\n      <th>Monetary</th>\n      <th>Recency</th>\n      <th>r_quartile</th>\n      <th>m_quartile</th>\n      <th>rfm_score</th>\n    </tr>\n    <tr>\n      <th>CustomerID</th>\n      <th></th>\n      <th></th>\n      <th></th>\n      <th></th>\n      <th></th>\n      <th></th>\n    </tr>\n  </thead>\n  <tbody>\n    <tr>\n      <th>C1010011</th>\n      <td>2</td>\n      <td>5106.0</td>\n      <td>74</td>\n      <td>5</td>\n      <td>5</td>\n      <td>521</td>\n    </tr>\n    <tr>\n      <th>C1010012</th>\n      <td>1</td>\n      <td>1499.0</td>\n      <td>117</td>\n      <td>2</td>\n      <td>4</td>\n      <td>212</td>\n    </tr>\n    <tr>\n      <th>C1010014</th>\n      <td>2</td>\n      <td>1455.0</td>\n      <td>154</td>\n      <td>2</td>\n      <td>4</td>\n      <td>222</td>\n    </tr>\n    <tr>\n      <th>C1010018</th>\n      <td>1</td>\n      <td>30.0</td>\n      <td>85</td>\n      <td>4</td>\n      <td>1</td>\n      <td>415</td>\n    </tr>\n    <tr>\n      <th>C1010024</th>\n      <td>1</td>\n      <td>5000.0</td>\n      <td>113</td>\n      <td>3</td>\n      <td>5</td>\n      <td>311</td>\n    </tr>\n    <tr>\n      <th>...</th>\n      <td>...</td>\n      <td>...</td>\n      <td>...</td>\n      <td>...</td>\n      <td>...</td>\n      <td>...</td>\n    </tr>\n    <tr>\n      <th>C9099836</th>\n      <td>1</td>\n      <td>691.0</td>\n      <td>154</td>\n      <td>2</td>\n      <td>3</td>\n      <td>213</td>\n    </tr>\n    <tr>\n      <th>C9099877</th>\n      <td>1</td>\n      <td>222.0</td>\n      <td>85</td>\n      <td>4</td>\n      <td>2</td>\n      <td>414</td>\n    </tr>\n    <tr>\n      <th>C9099919</th>\n      <td>1</td>\n      <td>126.0</td>\n      <td>113</td>\n      <td>3</td>\n      <td>1</td>\n      <td>315</td>\n    </tr>\n    <tr>\n      <th>C9099941</th>\n      <td>1</td>\n      <td>50.0</td>\n      <td>103</td>\n      <td>4</td>\n      <td>1</td>\n      <td>415</td>\n    </tr>\n    <tr>\n      <th>C9099956</th>\n      <td>1</td>\n      <td>855.0</td>\n      <td>75</td>\n      <td>5</td>\n      <td>4</td>\n      <td>512</td>\n    </tr>\n  </tbody>\n</table>\n<p>879357 rows × 6 columns</p>\n</div>"
     },
     "execution_count": 97,
     "metadata": {},
     "output_type": "execute_result"
    }
   ],
   "source": [
    "rfm_df['r_quartile'] = pd.qcut(rfm_df['Recency'], 5, [5, 4, 3, 2, 1])\n",
    "rfm_df['m_quartile'] = pd.qcut(rfm_df['Monetary'], 5, [1, 2, 3, 4, 5])\n",
    "rfm_df"
   ],
   "metadata": {
    "collapsed": false
   }
  },
  {
   "cell_type": "code",
   "execution_count": 98,
   "outputs": [
    {
     "data": {
      "text/plain": "            Frequency  Monetary  Recency r_quartile m_quartile  rfm_score\nCustomerID                                                               \nC1010011            2    5106.0       74          5          5        525\nC1010012            1    1499.0      117          2          4        214\nC1010014            2    1455.0      154          2          4        224\nC1010018            1      30.0       85          4          1        411\nC1010024            1    5000.0      113          3          5        315",
      "text/html": "<div>\n<style scoped>\n    .dataframe tbody tr th:only-of-type {\n        vertical-align: middle;\n    }\n\n    .dataframe tbody tr th {\n        vertical-align: top;\n    }\n\n    .dataframe thead th {\n        text-align: right;\n    }\n</style>\n<table border=\"1\" class=\"dataframe\">\n  <thead>\n    <tr style=\"text-align: right;\">\n      <th></th>\n      <th>Frequency</th>\n      <th>Monetary</th>\n      <th>Recency</th>\n      <th>r_quartile</th>\n      <th>m_quartile</th>\n      <th>rfm_score</th>\n    </tr>\n    <tr>\n      <th>CustomerID</th>\n      <th></th>\n      <th></th>\n      <th></th>\n      <th></th>\n      <th></th>\n      <th></th>\n    </tr>\n  </thead>\n  <tbody>\n    <tr>\n      <th>C1010011</th>\n      <td>2</td>\n      <td>5106.0</td>\n      <td>74</td>\n      <td>5</td>\n      <td>5</td>\n      <td>525</td>\n    </tr>\n    <tr>\n      <th>C1010012</th>\n      <td>1</td>\n      <td>1499.0</td>\n      <td>117</td>\n      <td>2</td>\n      <td>4</td>\n      <td>214</td>\n    </tr>\n    <tr>\n      <th>C1010014</th>\n      <td>2</td>\n      <td>1455.0</td>\n      <td>154</td>\n      <td>2</td>\n      <td>4</td>\n      <td>224</td>\n    </tr>\n    <tr>\n      <th>C1010018</th>\n      <td>1</td>\n      <td>30.0</td>\n      <td>85</td>\n      <td>4</td>\n      <td>1</td>\n      <td>411</td>\n    </tr>\n    <tr>\n      <th>C1010024</th>\n      <td>1</td>\n      <td>5000.0</td>\n      <td>113</td>\n      <td>3</td>\n      <td>5</td>\n      <td>315</td>\n    </tr>\n  </tbody>\n</table>\n</div>"
     },
     "execution_count": 98,
     "metadata": {},
     "output_type": "execute_result"
    }
   ],
   "source": [
    "rfm_df['rfm_score'] = rfm_df.r_quartile.astype(str)+ rfm_df.Frequency.astype(str) + rfm_df.m_quartile.astype(str)\n",
    "rfm_df['rfm_score'] = rfm_df['rfm_score'].astype(int)\n",
    "rfm_df.head()"
   ],
   "metadata": {
    "collapsed": false
   }
  },
  {
   "cell_type": "markdown",
   "source": [
    "### Most Valuable Customers"
   ],
   "metadata": {
    "collapsed": false
   }
  },
  {
   "cell_type": "code",
   "execution_count": 99,
   "outputs": [
    {
     "data": {
      "text/plain": "            Frequency  Monetary  Recency r_quartile m_quartile  rfm_score\nCustomerID                                                               \nC5418253          6.0   5722.78      1.0          5          5      565.0\nC6222360          6.0   5825.00      0.0          5          5      565.0\nC4513786          6.0  12800.00     61.0          5          5      565.0\nC6735477          6.0   2504.00      0.0          5          5      565.0\nC7537344          6.0  21597.50      0.0          5          5      565.0\n...               ...       ...      ...        ...        ...        ...\nC7730325          NaN       NaN      NaN        NaN        NaN        NaN\nC4013143          NaN       NaN      NaN        NaN        NaN        NaN\nC6890362          NaN       NaN      NaN        NaN        NaN        NaN\nC5722139          NaN       NaN      NaN        NaN        NaN        NaN\nC1275570          NaN       NaN      NaN        NaN        NaN        NaN\n\n[879357 rows x 6 columns]",
      "text/html": "<div>\n<style scoped>\n    .dataframe tbody tr th:only-of-type {\n        vertical-align: middle;\n    }\n\n    .dataframe tbody tr th {\n        vertical-align: top;\n    }\n\n    .dataframe thead th {\n        text-align: right;\n    }\n</style>\n<table border=\"1\" class=\"dataframe\">\n  <thead>\n    <tr style=\"text-align: right;\">\n      <th></th>\n      <th>Frequency</th>\n      <th>Monetary</th>\n      <th>Recency</th>\n      <th>r_quartile</th>\n      <th>m_quartile</th>\n      <th>rfm_score</th>\n    </tr>\n    <tr>\n      <th>CustomerID</th>\n      <th></th>\n      <th></th>\n      <th></th>\n      <th></th>\n      <th></th>\n      <th></th>\n    </tr>\n  </thead>\n  <tbody>\n    <tr>\n      <th>C5418253</th>\n      <td>6.0</td>\n      <td>5722.78</td>\n      <td>1.0</td>\n      <td>5</td>\n      <td>5</td>\n      <td>565.0</td>\n    </tr>\n    <tr>\n      <th>C6222360</th>\n      <td>6.0</td>\n      <td>5825.00</td>\n      <td>0.0</td>\n      <td>5</td>\n      <td>5</td>\n      <td>565.0</td>\n    </tr>\n    <tr>\n      <th>C4513786</th>\n      <td>6.0</td>\n      <td>12800.00</td>\n      <td>61.0</td>\n      <td>5</td>\n      <td>5</td>\n      <td>565.0</td>\n    </tr>\n    <tr>\n      <th>C6735477</th>\n      <td>6.0</td>\n      <td>2504.00</td>\n      <td>0.0</td>\n      <td>5</td>\n      <td>5</td>\n      <td>565.0</td>\n    </tr>\n    <tr>\n      <th>C7537344</th>\n      <td>6.0</td>\n      <td>21597.50</td>\n      <td>0.0</td>\n      <td>5</td>\n      <td>5</td>\n      <td>565.0</td>\n    </tr>\n    <tr>\n      <th>...</th>\n      <td>...</td>\n      <td>...</td>\n      <td>...</td>\n      <td>...</td>\n      <td>...</td>\n      <td>...</td>\n    </tr>\n    <tr>\n      <th>C7730325</th>\n      <td>NaN</td>\n      <td>NaN</td>\n      <td>NaN</td>\n      <td>NaN</td>\n      <td>NaN</td>\n      <td>NaN</td>\n    </tr>\n    <tr>\n      <th>C4013143</th>\n      <td>NaN</td>\n      <td>NaN</td>\n      <td>NaN</td>\n      <td>NaN</td>\n      <td>NaN</td>\n      <td>NaN</td>\n    </tr>\n    <tr>\n      <th>C6890362</th>\n      <td>NaN</td>\n      <td>NaN</td>\n      <td>NaN</td>\n      <td>NaN</td>\n      <td>NaN</td>\n      <td>NaN</td>\n    </tr>\n    <tr>\n      <th>C5722139</th>\n      <td>NaN</td>\n      <td>NaN</td>\n      <td>NaN</td>\n      <td>NaN</td>\n      <td>NaN</td>\n      <td>NaN</td>\n    </tr>\n    <tr>\n      <th>C1275570</th>\n      <td>NaN</td>\n      <td>NaN</td>\n      <td>NaN</td>\n      <td>NaN</td>\n      <td>NaN</td>\n      <td>NaN</td>\n    </tr>\n  </tbody>\n</table>\n<p>879357 rows × 6 columns</p>\n</div>"
     },
     "execution_count": 99,
     "metadata": {},
     "output_type": "execute_result"
    }
   ],
   "source": [
    "rfm_df.sort_values('rfm_score', ascending=False).where(rfm_df['rfm_score'] >= 444)"
   ],
   "metadata": {
    "collapsed": false
   }
  },
  {
   "cell_type": "code",
   "execution_count": 95,
   "outputs": [],
   "source": [],
   "metadata": {
    "collapsed": false
   }
  }
 ],
 "metadata": {
  "kernelspec": {
   "display_name": "Python 3",
   "language": "python",
   "name": "python3"
  },
  "language_info": {
   "codemirror_mode": {
    "name": "ipython",
    "version": 2
   },
   "file_extension": ".py",
   "mimetype": "text/x-python",
   "name": "python",
   "nbconvert_exporter": "python",
   "pygments_lexer": "ipython2",
   "version": "2.7.6"
  }
 },
 "nbformat": 4,
 "nbformat_minor": 0
}
