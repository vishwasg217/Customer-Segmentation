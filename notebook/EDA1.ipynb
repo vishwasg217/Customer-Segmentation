{
 "cells": [
  {
   "cell_type": "code",
   "execution_count": 12,
   "metadata": {
    "ExecuteTime": {
     "end_time": "2023-04-24T23:17:13.453022Z",
     "start_time": "2023-04-24T23:17:13.334830Z"
    },
    "collapsed": true
   },
   "outputs": [
    {
     "name": "stdout",
     "output_type": "stream",
     "text": [
      "Libraries imported.\n"
     ]
    }
   ],
   "source": [
    "import numpy as np\n",
    "import matplotlib.pyplot as plt\n",
    "import pandas as pd\n",
    "import seaborn as sns\n",
    "import plotly.express as px\n",
    "import plotly.graph_objects as go\n",
    "print('Libraries imported.')"
   ]
  },
  {
   "cell_type": "code",
   "execution_count": 13,
   "metadata": {
    "ExecuteTime": {
     "end_time": "2023-04-24T23:17:14.820192Z",
     "start_time": "2023-04-24T23:17:13.454090Z"
    },
    "collapsed": false
   },
   "outputs": [
    {
     "data": {
      "text/html": [
       "<div>\n",
       "<style scoped>\n",
       "    .dataframe tbody tr th:only-of-type {\n",
       "        vertical-align: middle;\n",
       "    }\n",
       "\n",
       "    .dataframe tbody tr th {\n",
       "        vertical-align: top;\n",
       "    }\n",
       "\n",
       "    .dataframe thead th {\n",
       "        text-align: right;\n",
       "    }\n",
       "</style>\n",
       "<table border=\"1\" class=\"dataframe\">\n",
       "  <thead>\n",
       "    <tr style=\"text-align: right;\">\n",
       "      <th></th>\n",
       "      <th>TransactionID</th>\n",
       "      <th>CustomerID</th>\n",
       "      <th>CustomerDOB</th>\n",
       "      <th>CustGender</th>\n",
       "      <th>CustLocation</th>\n",
       "      <th>CustAccountBalance</th>\n",
       "      <th>TransactionDate</th>\n",
       "      <th>TransactionTime</th>\n",
       "      <th>TransactionAmount (INR)</th>\n",
       "    </tr>\n",
       "  </thead>\n",
       "  <tbody>\n",
       "    <tr>\n",
       "      <th>0</th>\n",
       "      <td>T1</td>\n",
       "      <td>C5841053</td>\n",
       "      <td>10/1/94</td>\n",
       "      <td>F</td>\n",
       "      <td>JAMSHEDPUR</td>\n",
       "      <td>17819.05</td>\n",
       "      <td>2/8/16</td>\n",
       "      <td>143207</td>\n",
       "      <td>25.0</td>\n",
       "    </tr>\n",
       "    <tr>\n",
       "      <th>1</th>\n",
       "      <td>T2</td>\n",
       "      <td>C2142763</td>\n",
       "      <td>4/4/57</td>\n",
       "      <td>M</td>\n",
       "      <td>JHAJJAR</td>\n",
       "      <td>2270.69</td>\n",
       "      <td>2/8/16</td>\n",
       "      <td>141858</td>\n",
       "      <td>27999.0</td>\n",
       "    </tr>\n",
       "    <tr>\n",
       "      <th>2</th>\n",
       "      <td>T3</td>\n",
       "      <td>C4417068</td>\n",
       "      <td>26/11/96</td>\n",
       "      <td>F</td>\n",
       "      <td>MUMBAI</td>\n",
       "      <td>17874.44</td>\n",
       "      <td>2/8/16</td>\n",
       "      <td>142712</td>\n",
       "      <td>459.0</td>\n",
       "    </tr>\n",
       "    <tr>\n",
       "      <th>3</th>\n",
       "      <td>T4</td>\n",
       "      <td>C5342380</td>\n",
       "      <td>14/9/73</td>\n",
       "      <td>F</td>\n",
       "      <td>MUMBAI</td>\n",
       "      <td>866503.21</td>\n",
       "      <td>2/8/16</td>\n",
       "      <td>142714</td>\n",
       "      <td>2060.0</td>\n",
       "    </tr>\n",
       "    <tr>\n",
       "      <th>4</th>\n",
       "      <td>T5</td>\n",
       "      <td>C9031234</td>\n",
       "      <td>24/3/88</td>\n",
       "      <td>F</td>\n",
       "      <td>NAVI MUMBAI</td>\n",
       "      <td>6714.43</td>\n",
       "      <td>2/8/16</td>\n",
       "      <td>181156</td>\n",
       "      <td>1762.5</td>\n",
       "    </tr>\n",
       "  </tbody>\n",
       "</table>\n",
       "</div>"
      ],
      "text/plain": [
       "  TransactionID CustomerID CustomerDOB CustGender CustLocation  \\\n",
       "0            T1   C5841053     10/1/94          F   JAMSHEDPUR   \n",
       "1            T2   C2142763      4/4/57          M      JHAJJAR   \n",
       "2            T3   C4417068    26/11/96          F       MUMBAI   \n",
       "3            T4   C5342380     14/9/73          F       MUMBAI   \n",
       "4            T5   C9031234     24/3/88          F  NAVI MUMBAI   \n",
       "\n",
       "   CustAccountBalance TransactionDate  TransactionTime  \\\n",
       "0            17819.05          2/8/16           143207   \n",
       "1             2270.69          2/8/16           141858   \n",
       "2            17874.44          2/8/16           142712   \n",
       "3           866503.21          2/8/16           142714   \n",
       "4             6714.43          2/8/16           181156   \n",
       "\n",
       "   TransactionAmount (INR)  \n",
       "0                     25.0  \n",
       "1                  27999.0  \n",
       "2                    459.0  \n",
       "3                   2060.0  \n",
       "4                   1762.5  "
      ]
     },
     "execution_count": 13,
     "metadata": {},
     "output_type": "execute_result"
    }
   ],
   "source": [
    "df = pd.read_csv('data/bank_transactions.csv')\n",
    "df.head()"
   ]
  },
  {
   "cell_type": "code",
   "execution_count": 14,
   "metadata": {
    "ExecuteTime": {
     "end_time": "2023-04-24T23:17:15.514586Z",
     "start_time": "2023-04-24T23:17:14.821940Z"
    },
    "collapsed": false
   },
   "outputs": [
    {
     "name": "stdout",
     "output_type": "stream",
     "text": [
      "<class 'pandas.core.frame.DataFrame'>\n",
      "RangeIndex: 1048567 entries, 0 to 1048566\n",
      "Data columns (total 9 columns):\n",
      " #   Column                   Non-Null Count    Dtype  \n",
      "---  ------                   --------------    -----  \n",
      " 0   TransactionID            1048567 non-null  object \n",
      " 1   CustomerID               1048567 non-null  object \n",
      " 2   CustomerDOB              1045170 non-null  object \n",
      " 3   CustGender               1047467 non-null  object \n",
      " 4   CustLocation             1048416 non-null  object \n",
      " 5   CustAccountBalance       1046198 non-null  float64\n",
      " 6   TransactionDate          1048567 non-null  object \n",
      " 7   TransactionTime          1048567 non-null  int64  \n",
      " 8   TransactionAmount (INR)  1048567 non-null  float64\n",
      "dtypes: float64(2), int64(1), object(6)\n",
      "memory usage: 72.0+ MB\n"
     ]
    }
   ],
   "source": [
    "df.info()"
   ]
  },
  {
   "cell_type": "code",
   "execution_count": 15,
   "metadata": {
    "ExecuteTime": {
     "end_time": "2023-04-24T23:17:16.392949Z",
     "start_time": "2023-04-24T23:17:15.515197Z"
    },
    "collapsed": false
   },
   "outputs": [
    {
     "data": {
      "text/plain": [
       "TransactionID              0.000000\n",
       "CustomerID                 0.000000\n",
       "CustomerDOB                0.323966\n",
       "CustGender                 0.104905\n",
       "CustLocation               0.014401\n",
       "CustAccountBalance         0.225927\n",
       "TransactionDate            0.000000\n",
       "TransactionTime            0.000000\n",
       "TransactionAmount (INR)    0.000000\n",
       "dtype: float64"
      ]
     },
     "execution_count": 15,
     "metadata": {},
     "output_type": "execute_result"
    }
   ],
   "source": [
    "df.isnull().sum()/len(df) * 100"
   ]
  },
  {
   "cell_type": "markdown",
   "metadata": {
    "collapsed": false
   },
   "source": [
    "since percentage of missing values is very less, we will just drop the missing value columns."
   ]
  },
  {
   "cell_type": "code",
   "execution_count": 16,
   "metadata": {
    "ExecuteTime": {
     "end_time": "2023-04-24T23:17:17.934824Z",
     "start_time": "2023-04-24T23:17:16.394151Z"
    },
    "collapsed": false
   },
   "outputs": [
    {
     "data": {
      "text/plain": [
       "TransactionID              0.0\n",
       "CustomerID                 0.0\n",
       "CustomerDOB                0.0\n",
       "CustGender                 0.0\n",
       "CustLocation               0.0\n",
       "CustAccountBalance         0.0\n",
       "TransactionDate            0.0\n",
       "TransactionTime            0.0\n",
       "TransactionAmount (INR)    0.0\n",
       "dtype: float64"
      ]
     },
     "execution_count": 16,
     "metadata": {},
     "output_type": "execute_result"
    }
   ],
   "source": [
    "df.dropna(inplace=True)\n",
    "df.isnull().sum()/len(df) * 100"
   ]
  },
  {
   "cell_type": "code",
   "execution_count": 17,
   "metadata": {},
   "outputs": [
    {
     "data": {
      "text/html": [
       "<div>\n",
       "<style scoped>\n",
       "    .dataframe tbody tr th:only-of-type {\n",
       "        vertical-align: middle;\n",
       "    }\n",
       "\n",
       "    .dataframe tbody tr th {\n",
       "        vertical-align: top;\n",
       "    }\n",
       "\n",
       "    .dataframe thead th {\n",
       "        text-align: right;\n",
       "    }\n",
       "</style>\n",
       "<table border=\"1\" class=\"dataframe\">\n",
       "  <thead>\n",
       "    <tr style=\"text-align: right;\">\n",
       "      <th></th>\n",
       "      <th>CustAccountBalance</th>\n",
       "      <th>TransactionTime</th>\n",
       "      <th>TransactionAmount (INR)</th>\n",
       "    </tr>\n",
       "  </thead>\n",
       "  <tbody>\n",
       "    <tr>\n",
       "      <th>count</th>\n",
       "      <td>1.041614e+06</td>\n",
       "      <td>1.041614e+06</td>\n",
       "      <td>1.041614e+06</td>\n",
       "    </tr>\n",
       "    <tr>\n",
       "      <th>mean</th>\n",
       "      <td>1.149986e+05</td>\n",
       "      <td>1.571221e+05</td>\n",
       "      <td>1.566096e+03</td>\n",
       "    </tr>\n",
       "    <tr>\n",
       "      <th>std</th>\n",
       "      <td>8.467609e+05</td>\n",
       "      <td>5.126352e+04</td>\n",
       "      <td>6.561464e+03</td>\n",
       "    </tr>\n",
       "    <tr>\n",
       "      <th>min</th>\n",
       "      <td>0.000000e+00</td>\n",
       "      <td>0.000000e+00</td>\n",
       "      <td>0.000000e+00</td>\n",
       "    </tr>\n",
       "    <tr>\n",
       "      <th>25%</th>\n",
       "      <td>4.728140e+03</td>\n",
       "      <td>1.240410e+05</td>\n",
       "      <td>1.600000e+02</td>\n",
       "    </tr>\n",
       "    <tr>\n",
       "      <th>50%</th>\n",
       "      <td>1.676852e+04</td>\n",
       "      <td>1.642470e+05</td>\n",
       "      <td>4.575000e+02</td>\n",
       "    </tr>\n",
       "    <tr>\n",
       "      <th>75%</th>\n",
       "      <td>5.742885e+04</td>\n",
       "      <td>2.000220e+05</td>\n",
       "      <td>1.200000e+03</td>\n",
       "    </tr>\n",
       "    <tr>\n",
       "      <th>max</th>\n",
       "      <td>1.150355e+08</td>\n",
       "      <td>2.359590e+05</td>\n",
       "      <td>1.560035e+06</td>\n",
       "    </tr>\n",
       "  </tbody>\n",
       "</table>\n",
       "</div>"
      ],
      "text/plain": [
       "       CustAccountBalance  TransactionTime  TransactionAmount (INR)\n",
       "count        1.041614e+06     1.041614e+06             1.041614e+06\n",
       "mean         1.149986e+05     1.571221e+05             1.566096e+03\n",
       "std          8.467609e+05     5.126352e+04             6.561464e+03\n",
       "min          0.000000e+00     0.000000e+00             0.000000e+00\n",
       "25%          4.728140e+03     1.240410e+05             1.600000e+02\n",
       "50%          1.676852e+04     1.642470e+05             4.575000e+02\n",
       "75%          5.742885e+04     2.000220e+05             1.200000e+03\n",
       "max          1.150355e+08     2.359590e+05             1.560035e+06"
      ]
     },
     "execution_count": 17,
     "metadata": {},
     "output_type": "execute_result"
    }
   ],
   "source": [
    "df.describe()"
   ]
  },
  {
   "cell_type": "code",
   "execution_count": 18,
   "metadata": {},
   "outputs": [
    {
     "data": {
      "text/html": [
       "<div>\n",
       "<style scoped>\n",
       "    .dataframe tbody tr th:only-of-type {\n",
       "        vertical-align: middle;\n",
       "    }\n",
       "\n",
       "    .dataframe tbody tr th {\n",
       "        vertical-align: top;\n",
       "    }\n",
       "\n",
       "    .dataframe thead th {\n",
       "        text-align: right;\n",
       "    }\n",
       "</style>\n",
       "<table border=\"1\" class=\"dataframe\">\n",
       "  <thead>\n",
       "    <tr style=\"text-align: right;\">\n",
       "      <th></th>\n",
       "      <th>CustAccountBalance</th>\n",
       "      <th>TransactionAmount (INR)</th>\n",
       "    </tr>\n",
       "  </thead>\n",
       "  <tbody>\n",
       "    <tr>\n",
       "      <th>count</th>\n",
       "      <td>1.041614e+06</td>\n",
       "      <td>1.041614e+06</td>\n",
       "    </tr>\n",
       "    <tr>\n",
       "      <th>mean</th>\n",
       "      <td>1.149986e+05</td>\n",
       "      <td>1.566096e+03</td>\n",
       "    </tr>\n",
       "    <tr>\n",
       "      <th>std</th>\n",
       "      <td>8.467609e+05</td>\n",
       "      <td>6.561464e+03</td>\n",
       "    </tr>\n",
       "    <tr>\n",
       "      <th>min</th>\n",
       "      <td>0.000000e+00</td>\n",
       "      <td>0.000000e+00</td>\n",
       "    </tr>\n",
       "    <tr>\n",
       "      <th>25%</th>\n",
       "      <td>4.728140e+03</td>\n",
       "      <td>1.600000e+02</td>\n",
       "    </tr>\n",
       "    <tr>\n",
       "      <th>50%</th>\n",
       "      <td>1.676852e+04</td>\n",
       "      <td>4.575000e+02</td>\n",
       "    </tr>\n",
       "    <tr>\n",
       "      <th>75%</th>\n",
       "      <td>5.742885e+04</td>\n",
       "      <td>1.200000e+03</td>\n",
       "    </tr>\n",
       "    <tr>\n",
       "      <th>max</th>\n",
       "      <td>1.150355e+08</td>\n",
       "      <td>1.560035e+06</td>\n",
       "    </tr>\n",
       "  </tbody>\n",
       "</table>\n",
       "</div>"
      ],
      "text/plain": [
       "       CustAccountBalance  TransactionAmount (INR)\n",
       "count        1.041614e+06             1.041614e+06\n",
       "mean         1.149986e+05             1.566096e+03\n",
       "std          8.467609e+05             6.561464e+03\n",
       "min          0.000000e+00             0.000000e+00\n",
       "25%          4.728140e+03             1.600000e+02\n",
       "50%          1.676852e+04             4.575000e+02\n",
       "75%          5.742885e+04             1.200000e+03\n",
       "max          1.150355e+08             1.560035e+06"
      ]
     },
     "execution_count": 18,
     "metadata": {},
     "output_type": "execute_result"
    }
   ],
   "source": [
    "df = df[df['CustAccountBalance'] >= 0]\n",
    "df = df[df['TransactionAmount (INR)'] >= 0]\n",
    "df.drop(columns='TransactionTime',axis=1, inplace=True)\n",
    "df.describe()"
   ]
  },
  {
   "cell_type": "markdown",
   "metadata": {
    "ExecuteTime": {
     "end_time": "2023-04-24T23:17:45.901214Z",
     "start_time": "2023-04-24T23:17:17.961981Z"
    },
    "collapsed": false
   },
   "source": [
    "## Feature Engineering"
   ]
  },
  {
   "cell_type": "code",
   "execution_count": 19,
   "metadata": {
    "ExecuteTime": {
     "end_time": "2023-04-24T23:17:46.027715Z",
     "start_time": "2023-04-24T23:17:45.903950Z"
    },
    "collapsed": false
   },
   "outputs": [
    {
     "data": {
      "text/html": [
       "<div>\n",
       "<style scoped>\n",
       "    .dataframe tbody tr th:only-of-type {\n",
       "        vertical-align: middle;\n",
       "    }\n",
       "\n",
       "    .dataframe tbody tr th {\n",
       "        vertical-align: top;\n",
       "    }\n",
       "\n",
       "    .dataframe thead th {\n",
       "        text-align: right;\n",
       "    }\n",
       "</style>\n",
       "<table border=\"1\" class=\"dataframe\">\n",
       "  <thead>\n",
       "    <tr style=\"text-align: right;\">\n",
       "      <th></th>\n",
       "      <th>TransactionID</th>\n",
       "      <th>CustomerID</th>\n",
       "      <th>CustomerDOB</th>\n",
       "      <th>CustGender</th>\n",
       "      <th>CustLocation</th>\n",
       "      <th>CustAccountBalance</th>\n",
       "      <th>TransactionDate</th>\n",
       "      <th>TransactionAmount (INR)</th>\n",
       "    </tr>\n",
       "  </thead>\n",
       "  <tbody>\n",
       "    <tr>\n",
       "      <th>0</th>\n",
       "      <td>T1</td>\n",
       "      <td>C5841053</td>\n",
       "      <td>1994-10-01</td>\n",
       "      <td>F</td>\n",
       "      <td>JAMSHEDPUR</td>\n",
       "      <td>17819.05</td>\n",
       "      <td>2016-02-08</td>\n",
       "      <td>25.0</td>\n",
       "    </tr>\n",
       "    <tr>\n",
       "      <th>1</th>\n",
       "      <td>T2</td>\n",
       "      <td>C2142763</td>\n",
       "      <td>2057-04-04</td>\n",
       "      <td>M</td>\n",
       "      <td>JHAJJAR</td>\n",
       "      <td>2270.69</td>\n",
       "      <td>2016-02-08</td>\n",
       "      <td>27999.0</td>\n",
       "    </tr>\n",
       "    <tr>\n",
       "      <th>2</th>\n",
       "      <td>T3</td>\n",
       "      <td>C4417068</td>\n",
       "      <td>1996-11-26</td>\n",
       "      <td>F</td>\n",
       "      <td>MUMBAI</td>\n",
       "      <td>17874.44</td>\n",
       "      <td>2016-02-08</td>\n",
       "      <td>459.0</td>\n",
       "    </tr>\n",
       "    <tr>\n",
       "      <th>3</th>\n",
       "      <td>T4</td>\n",
       "      <td>C5342380</td>\n",
       "      <td>1973-09-14</td>\n",
       "      <td>F</td>\n",
       "      <td>MUMBAI</td>\n",
       "      <td>866503.21</td>\n",
       "      <td>2016-02-08</td>\n",
       "      <td>2060.0</td>\n",
       "    </tr>\n",
       "    <tr>\n",
       "      <th>4</th>\n",
       "      <td>T5</td>\n",
       "      <td>C9031234</td>\n",
       "      <td>1988-03-24</td>\n",
       "      <td>F</td>\n",
       "      <td>NAVI MUMBAI</td>\n",
       "      <td>6714.43</td>\n",
       "      <td>2016-02-08</td>\n",
       "      <td>1762.5</td>\n",
       "    </tr>\n",
       "  </tbody>\n",
       "</table>\n",
       "</div>"
      ],
      "text/plain": [
       "  TransactionID CustomerID CustomerDOB CustGender CustLocation  \\\n",
       "0            T1   C5841053  1994-10-01          F   JAMSHEDPUR   \n",
       "1            T2   C2142763  2057-04-04          M      JHAJJAR   \n",
       "2            T3   C4417068  1996-11-26          F       MUMBAI   \n",
       "3            T4   C5342380  1973-09-14          F       MUMBAI   \n",
       "4            T5   C9031234  1988-03-24          F  NAVI MUMBAI   \n",
       "\n",
       "   CustAccountBalance TransactionDate  TransactionAmount (INR)  \n",
       "0            17819.05      2016-02-08                     25.0  \n",
       "1             2270.69      2016-02-08                  27999.0  \n",
       "2            17874.44      2016-02-08                    459.0  \n",
       "3           866503.21      2016-02-08                   2060.0  \n",
       "4             6714.43      2016-02-08                   1762.5  "
      ]
     },
     "execution_count": 19,
     "metadata": {},
     "output_type": "execute_result"
    }
   ],
   "source": [
    "df['CustomerDOB'] = pd.to_datetime(df['CustomerDOB'])\n",
    "df['TransactionDate'] = pd.to_datetime(df['TransactionDate'])\n",
    "df.head()"
   ]
  },
  {
   "cell_type": "code",
   "execution_count": 20,
   "metadata": {
    "ExecuteTime": {
     "end_time": "2023-04-24T23:18:13.799708Z",
     "start_time": "2023-04-24T23:17:46.010881Z"
    },
    "collapsed": false
   },
   "outputs": [
    {
     "data": {
      "text/html": [
       "<div>\n",
       "<style scoped>\n",
       "    .dataframe tbody tr th:only-of-type {\n",
       "        vertical-align: middle;\n",
       "    }\n",
       "\n",
       "    .dataframe tbody tr th {\n",
       "        vertical-align: top;\n",
       "    }\n",
       "\n",
       "    .dataframe thead th {\n",
       "        text-align: right;\n",
       "    }\n",
       "</style>\n",
       "<table border=\"1\" class=\"dataframe\">\n",
       "  <thead>\n",
       "    <tr style=\"text-align: right;\">\n",
       "      <th></th>\n",
       "      <th>TransactionID</th>\n",
       "      <th>CustomerID</th>\n",
       "      <th>CustomerDOB</th>\n",
       "      <th>CustGender</th>\n",
       "      <th>CustLocation</th>\n",
       "      <th>CustAccountBalance</th>\n",
       "      <th>TransactionDate</th>\n",
       "      <th>TransactionAmount (INR)</th>\n",
       "      <th>CustomerAge</th>\n",
       "    </tr>\n",
       "  </thead>\n",
       "  <tbody>\n",
       "    <tr>\n",
       "      <th>0</th>\n",
       "      <td>T1</td>\n",
       "      <td>C5841053</td>\n",
       "      <td>1994-10-01</td>\n",
       "      <td>F</td>\n",
       "      <td>JAMSHEDPUR</td>\n",
       "      <td>17819.05</td>\n",
       "      <td>2016-02-08</td>\n",
       "      <td>25.0</td>\n",
       "      <td>22</td>\n",
       "    </tr>\n",
       "    <tr>\n",
       "      <th>2</th>\n",
       "      <td>T3</td>\n",
       "      <td>C4417068</td>\n",
       "      <td>1996-11-26</td>\n",
       "      <td>F</td>\n",
       "      <td>MUMBAI</td>\n",
       "      <td>17874.44</td>\n",
       "      <td>2016-02-08</td>\n",
       "      <td>459.0</td>\n",
       "      <td>20</td>\n",
       "    </tr>\n",
       "    <tr>\n",
       "      <th>3</th>\n",
       "      <td>T4</td>\n",
       "      <td>C5342380</td>\n",
       "      <td>1973-09-14</td>\n",
       "      <td>F</td>\n",
       "      <td>MUMBAI</td>\n",
       "      <td>866503.21</td>\n",
       "      <td>2016-02-08</td>\n",
       "      <td>2060.0</td>\n",
       "      <td>43</td>\n",
       "    </tr>\n",
       "    <tr>\n",
       "      <th>4</th>\n",
       "      <td>T5</td>\n",
       "      <td>C9031234</td>\n",
       "      <td>1988-03-24</td>\n",
       "      <td>F</td>\n",
       "      <td>NAVI MUMBAI</td>\n",
       "      <td>6714.43</td>\n",
       "      <td>2016-02-08</td>\n",
       "      <td>1762.5</td>\n",
       "      <td>28</td>\n",
       "    </tr>\n",
       "    <tr>\n",
       "      <th>6</th>\n",
       "      <td>T7</td>\n",
       "      <td>C7126560</td>\n",
       "      <td>1992-01-26</td>\n",
       "      <td>F</td>\n",
       "      <td>MUMBAI</td>\n",
       "      <td>973.46</td>\n",
       "      <td>2016-02-08</td>\n",
       "      <td>566.0</td>\n",
       "      <td>24</td>\n",
       "    </tr>\n",
       "  </tbody>\n",
       "</table>\n",
       "</div>"
      ],
      "text/plain": [
       "  TransactionID CustomerID CustomerDOB CustGender CustLocation  \\\n",
       "0            T1   C5841053  1994-10-01          F   JAMSHEDPUR   \n",
       "2            T3   C4417068  1996-11-26          F       MUMBAI   \n",
       "3            T4   C5342380  1973-09-14          F       MUMBAI   \n",
       "4            T5   C9031234  1988-03-24          F  NAVI MUMBAI   \n",
       "6            T7   C7126560  1992-01-26          F       MUMBAI   \n",
       "\n",
       "   CustAccountBalance TransactionDate  TransactionAmount (INR)  CustomerAge  \n",
       "0            17819.05      2016-02-08                     25.0           22  \n",
       "2            17874.44      2016-02-08                    459.0           20  \n",
       "3           866503.21      2016-02-08                   2060.0           43  \n",
       "4             6714.43      2016-02-08                   1762.5           28  \n",
       "6              973.46      2016-02-08                    566.0           24  "
      ]
     },
     "execution_count": 20,
     "metadata": {},
     "output_type": "execute_result"
    }
   ],
   "source": [
    "df['CustomerAge'] = df['TransactionDate'].dt.year - df['CustomerDOB'].dt.year\n",
    "df = df[(df['CustomerAge'] >= 0) & (df['CustomerAge'] <= 100)]\n",
    "df.head()"
   ]
  },
  {
   "cell_type": "code",
   "execution_count": 21,
   "metadata": {},
   "outputs": [
    {
     "name": "stdout",
     "output_type": "stream",
     "text": [
      "<class 'pandas.core.frame.DataFrame'>\n",
      "Int64Index: 901348 entries, 0 to 1048566\n",
      "Data columns (total 9 columns):\n",
      " #   Column                   Non-Null Count   Dtype         \n",
      "---  ------                   --------------   -----         \n",
      " 0   TransactionID            901348 non-null  object        \n",
      " 1   CustomerID               901348 non-null  object        \n",
      " 2   CustomerDOB              901348 non-null  datetime64[ns]\n",
      " 3   CustGender               901348 non-null  object        \n",
      " 4   CustLocation             901348 non-null  object        \n",
      " 5   CustAccountBalance       901348 non-null  float64       \n",
      " 6   TransactionDate          901348 non-null  datetime64[ns]\n",
      " 7   TransactionAmount (INR)  901348 non-null  float64       \n",
      " 8   CustomerAge              901348 non-null  int64         \n",
      "dtypes: datetime64[ns](2), float64(2), int64(1), object(4)\n",
      "memory usage: 68.8+ MB\n"
     ]
    }
   ],
   "source": [
    "df.info()"
   ]
  },
  {
   "cell_type": "code",
   "execution_count": 22,
   "metadata": {
    "ExecuteTime": {
     "end_time": "2023-04-24T23:32:14.573510Z",
     "start_time": "2023-04-24T23:32:14.564880Z"
    },
    "collapsed": false
   },
   "outputs": [],
   "source": [
    "df.replace(r'(.*HYDERABAD.*)','HYDERABAD',regex=True, inplace = True)\n",
    "df.replace(r'(.*PUNE.*)','PUNE',regex=True, inplace = True)\n",
    "df.replace(r'(.*AHMEDABAD.*)','AHMEDABAD',regex=True, inplace = True)\n",
    "df.replace(r'(.*MUMBAI.*)','MUMBAI',regex=True, inplace = True)\n",
    "df.replace(r'(.*BANGALORE.*)','BANGALORE',regex=True, inplace = True)\n",
    "df.replace(r'(.*DELHI.*)','DELHI',regex=True, inplace = True)\n",
    "df.replace(r'(.*RAJKOT.*)','RAJKOT',regex=True, inplace = True)\n",
    "df.replace(r'(.*THANE.*)','THANE',regex=True, inplace = True)\n",
    "df.replace(r'(.*CHENNAI.*)','CHENNAI',regex=True, inplace = True)\n",
    "df.replace(r'(.*COIMBATORE.*)','COIMBATORE',regex=True, inplace = True)\n",
    "df.replace(r'(.*JAIPUR.*)','JAIPUR',regex=True, inplace = True)\n",
    "df.replace(r'(.*KOLKATA.*)','KOLKATA',regex=True, inplace = True)"
   ]
  },
  {
   "attachments": {},
   "cell_type": "markdown",
   "metadata": {},
   "source": [
    "## Location Analysis\n",
    "### Top 20 Cities in terms of number of transactions"
   ]
  },
  {
   "cell_type": "code",
   "execution_count": 23,
   "metadata": {},
   "outputs": [
    {
     "data": {
      "text/html": [
       "<div>\n",
       "<style scoped>\n",
       "    .dataframe tbody tr th:only-of-type {\n",
       "        vertical-align: middle;\n",
       "    }\n",
       "\n",
       "    .dataframe tbody tr th {\n",
       "        vertical-align: top;\n",
       "    }\n",
       "\n",
       "    .dataframe thead th {\n",
       "        text-align: right;\n",
       "    }\n",
       "</style>\n",
       "<table border=\"1\" class=\"dataframe\">\n",
       "  <thead>\n",
       "    <tr style=\"text-align: right;\">\n",
       "      <th></th>\n",
       "      <th>City</th>\n",
       "      <th>Count</th>\n",
       "    </tr>\n",
       "  </thead>\n",
       "  <tbody>\n",
       "    <tr>\n",
       "      <th>0</th>\n",
       "      <td>DELHI</td>\n",
       "      <td>131411</td>\n",
       "    </tr>\n",
       "    <tr>\n",
       "      <th>1</th>\n",
       "      <td>MUMBAI</td>\n",
       "      <td>114718</td>\n",
       "    </tr>\n",
       "    <tr>\n",
       "      <th>2</th>\n",
       "      <td>BANGALORE</td>\n",
       "      <td>78595</td>\n",
       "    </tr>\n",
       "    <tr>\n",
       "      <th>3</th>\n",
       "      <td>GURGAON</td>\n",
       "      <td>64564</td>\n",
       "    </tr>\n",
       "    <tr>\n",
       "      <th>4</th>\n",
       "      <td>NOIDA</td>\n",
       "      <td>29340</td>\n",
       "    </tr>\n",
       "    <tr>\n",
       "      <th>...</th>\n",
       "      <td>...</td>\n",
       "      <td>...</td>\n",
       "    </tr>\n",
       "    <tr>\n",
       "      <th>5088</th>\n",
       "      <td>SCHOOL KHARAGPUR</td>\n",
       "      <td>1</td>\n",
       "    </tr>\n",
       "    <tr>\n",
       "      <th>5089</th>\n",
       "      <td>GANDHI NAGR</td>\n",
       "      <td>1</td>\n",
       "    </tr>\n",
       "    <tr>\n",
       "      <th>5090</th>\n",
       "      <td>PERIYAR NAOTER</td>\n",
       "      <td>1</td>\n",
       "    </tr>\n",
       "    <tr>\n",
       "      <th>5091</th>\n",
       "      <td>SWINDON</td>\n",
       "      <td>1</td>\n",
       "    </tr>\n",
       "    <tr>\n",
       "      <th>5092</th>\n",
       "      <td>KARANJIA</td>\n",
       "      <td>1</td>\n",
       "    </tr>\n",
       "  </tbody>\n",
       "</table>\n",
       "<p>5093 rows × 2 columns</p>\n",
       "</div>"
      ],
      "text/plain": [
       "                  City   Count\n",
       "0                DELHI  131411\n",
       "1               MUMBAI  114718\n",
       "2            BANGALORE   78595\n",
       "3              GURGAON   64564\n",
       "4                NOIDA   29340\n",
       "...                ...     ...\n",
       "5088  SCHOOL KHARAGPUR       1\n",
       "5089       GANDHI NAGR       1\n",
       "5090    PERIYAR NAOTER       1\n",
       "5091           SWINDON       1\n",
       "5092          KARANJIA       1\n",
       "\n",
       "[5093 rows x 2 columns]"
      ]
     },
     "execution_count": 23,
     "metadata": {},
     "output_type": "execute_result"
    }
   ],
   "source": [
    "loc_count = df['CustLocation'].value_counts()\n",
    "loc_count = pd.DataFrame(loc_count)\n",
    "loc_count.reset_index(inplace=True)\n",
    "loc_count.columns = ['City','Count']\n",
    "loc_count"
   ]
  },
  {
   "cell_type": "code",
   "execution_count": 24,
   "metadata": {},
   "outputs": [
    {
     "data": {
      "text/plain": [
       "128470     0\n",
       "114611     0\n",
       "161006     1\n",
       "638862     1\n",
       "839617     1\n",
       "          ..\n",
       "494756    43\n",
       "966521    43\n",
       "274085    43\n",
       "495631    43\n",
       "141190    43\n",
       "Name: CustomerAge, Length: 901348, dtype: int64"
      ]
     },
     "execution_count": 24,
     "metadata": {},
     "output_type": "execute_result"
    }
   ],
   "source": [
    "df['CustomerAge'].sort_values()"
   ]
  },
  {
   "cell_type": "code",
   "execution_count": 25,
   "metadata": {},
   "outputs": [
    {
     "data": {
      "text/plain": [
       "<Axes: xlabel='Count', ylabel='City'>"
      ]
     },
     "execution_count": 25,
     "metadata": {},
     "output_type": "execute_result"
    },
    {
     "data": {
      "image/png": "[encoded data removed]",
      "text/plain": [
       "<Figure size 640x480 with 1 Axes>"
      ]
     },
     "metadata": {},
     "output_type": "display_data"
    }
   ],
   "source": [
    "top = 20\n",
    "loc_count = loc_count[:top]\n",
    "sns.barplot(y='City', x='Count', data=loc_count)"
   ]
  },
  {
   "cell_type": "code",
   "execution_count": 26,
   "metadata": {},
   "outputs": [
    {
     "data": {
      "text/plain": [
       "['KRISHNA NAGAR',\n",
       " 'PH III GURGAON',\n",
       " 'BEKHAMPUR',\n",
       " 'XAVIERS HIGH SCHOOL SURAT',\n",
       " 'BH SRUNGERI SERVICE STATION',\n",
       " 'MANDI GURHARSAHI',\n",
       " 'ALWAR RAJ',\n",
       " 'PHAPHUNO',\n",
       " 'PATNA SADAR PATNA',\n",
       " 'MAHADEV MANDIR  SURAT',\n",
       " 'ASSAM NEAR SBI JORHAT',\n",
       " 'BASMAT',\n",
       " 'KHANDAVALLI WEST GODAVARI',\n",
       " 'HANAMKONDA,WARANGAL',\n",
       " 'BERI',\n",
       " 'HAMPSHIRE',\n",
       " 'MATIHA',\n",
       " 'SINGHANA',\n",
       " 'GAUTTAM BUDDA NAGAR',\n",
       " 'RANGAREDDY RANGAREDDY',\n",
       " 'DIST AMRITSAR AMRITSAR',\n",
       " 'THANABHAWAN',\n",
       " 'PRAKASAM DISTT',\n",
       " 'NR COMMUNITY HALL SURAT',\n",
       " 'TIRUPPUR DIST',\n",
       " 'SALVADOR DO MUNDO',\n",
       " 'BISTUPUR JAMSHEDPUR',\n",
       " 'MONALI',\n",
       " 'THANI',\n",
       " 'GANDHI NAGAR NASHIK',\n",
       " 'CAVELOSSIM SALCETE',\n",
       " 'DAHANU ROAD W',\n",
       " 'MANDIR ASANSOL',\n",
       " 'ASKAGANJAM',\n",
       " 'KOPPARA',\n",
       " 'KILLORGLIN',\n",
       " 'JAJPUR(DISTRICT)',\n",
       " 'DIVA E',\n",
       " 'CHIKKKABALLAPUR',\n",
       " 'AMBIVLI WEST',\n",
       " 'KALNA',\n",
       " 'BEGUMPET',\n",
       " 'ALTO-PROVORIM',\n",
       " 'KUNDLI SONIPAT',\n",
       " 'CHOURAHA PATNA',\n",
       " 'SIMBEGA',\n",
       " 'NALASOPARA E',\n",
       " 'KARKALA TALUK',\n",
       " 'COLLEGE NASHIK',\n",
       " 'TAL KANCHEEPURAM DIST KANCHEEPURAM',\n",
       " 'TAMBHERE',\n",
       " 'BAKROL (PART)',\n",
       " 'DIST SENAPATI',\n",
       " 'NEHRU GARDEN COLONY KAITHAL',\n",
       " 'BADAGARA',\n",
       " 'KUMATA DIST',\n",
       " 'NORTH PARAVUR',\n",
       " 'BEAWAR D AJMER',\n",
       " 'JALOUN',\n",
       " 'MAHABUBNGAR',\n",
       " 'DWARAKATIRUMALA',\n",
       " 'UDHAM SINGHNAGAR',\n",
       " 'KARUVAMBARAM',\n",
       " 'KOPERKHARINE',\n",
       " 'ABHIJATRI CLUB KHARAGPUR',\n",
       " 'TRIPURA NR UNAKOTI NORTH TRIPURA',\n",
       " 'KUPPAM KILVAYATHINANKUPPAM VELLORE',\n",
       " 'SHRIGONDA',\n",
       " 'RAJIPUR',\n",
       " 'KANAYANNUR',\n",
       " 'KHAMMAM DT',\n",
       " 'HATHIN',\n",
       " 'COLOUR CITY BOISAR W',\n",
       " 'NORTH 24 PARGANAS COLKATA',\n",
       " 'VISAKHA PATNAM',\n",
       " 'DISTT-REWARI',\n",
       " 'SILIGURI SILIGURI',\n",
       " 'SAS NAGAR(MOHALI)',\n",
       " 'KOTESHWARA',\n",
       " 'ULHASNAGAR 3',\n",
       " 'KUPWARA',\n",
       " 'TIRUVANAMALAI',\n",
       " 'SARAHAN',\n",
       " 'NAGAR PARVATI NAGAR NAGPUR NAGPUR',\n",
       " 'CHERUVALLOOR',\n",
       " 'TEMPLE BHUBANESWAR',\n",
       " 'UDALI KHURD',\n",
       " 'MAKDAVAN',\n",
       " 'BORAWAR',\n",
       " 'SHIRALA',\n",
       " 'GOSSAIPUR',\n",
       " 'GOPALPUR',\n",
       " 'BIKANER EAST',\n",
       " 'MARDOL',\n",
       " 'KURNOOL DIST',\n",
       " 'ANUPSHAHR',\n",
       " 'KUSTAGI',\n",
       " 'SUPAUL DARBHANGA',\n",
       " 'MAHALPAT KANGRA',\n",
       " 'KHED RAJGURUNAGAR',\n",
       " 'VAJEDA',\n",
       " 'JAM KHAMBHALIYA',\n",
       " 'THRIUVALLUR',\n",
       " 'MAHINDER GARH',\n",
       " 'VELOOR',\n",
       " 'SAHIBGANJ',\n",
       " 'STILLORGAN',\n",
       " 'MADURAI DIST',\n",
       " 'DHAKOLI',\n",
       " 'MASKI',\n",
       " 'DISTRICT GHAZIABAD GHAZIABAD',\n",
       " 'PUMP SURAT',\n",
       " 'NIMAR',\n",
       " 'KENDRAPARA KENDRAPARA',\n",
       " 'NAWPARA',\n",
       " 'PATNA PATNA CITY PATNA',\n",
       " 'CHEMMUMIAPET',\n",
       " 'THAKURLI',\n",
       " 'IRVINE',\n",
       " 'MOHALI ZIRAKPUR',\n",
       " 'UTHUKOTTA I',\n",
       " 'HIGH SCHOOL AURANGABAD',\n",
       " 'KUDAVOOR',\n",
       " 'DEVAGHAR',\n",
       " 'TIRUCHIRAPPALLY',\n",
       " 'TANJAVORE',\n",
       " 'KUNNAMKULAM',\n",
       " 'SRIPERUMBUDUR TALUK KANCHEEPURAM',\n",
       " 'GWALIOR RESIDENCY',\n",
       " '24 PARGANAS SOUTH 24 PARGANAS',\n",
       " 'SCHOOL WEST TRIPURA',\n",
       " 'ARRAH',\n",
       " 'BANGALOE',\n",
       " 'MHASAWAD',\n",
       " 'BANGKOK',\n",
       " 'RAJASAMAND',\n",
       " 'KATHOLI',\n",
       " 'LONAR',\n",
       " 'HATKANANGLE',\n",
       " 'TAL BHIWANDI',\n",
       " 'BHAWANIGARH',\n",
       " 'PAKARPUR',\n",
       " 'YANBU AL BAHAR',\n",
       " 'HANAMANTKHEDSIM',\n",
       " 'HOSPITAL SURATHKAL IDDYA SURATHKAL',\n",
       " 'BHAWANIPATNA',\n",
       " 'VALPARAI',\n",
       " 'NARAYANPUR',\n",
       " 'PAVRIGARWAL',\n",
       " 'TIRUCHI',\n",
       " 'SHIBPUR HOWRAH',\n",
       " 'BHIWADHI',\n",
       " 'VANBHORI',\n",
       " 'VELLAVOOR',\n",
       " 'TATANAGAR',\n",
       " 'GOKARN',\n",
       " 'DOIMUKH',\n",
       " 'CHAMRAJANAGAR',\n",
       " 'DABHAN',\n",
       " 'PANCHAYATHA KOLLAM',\n",
       " 'ARAKONAM',\n",
       " 'MUNGRA BADSHAHPUR',\n",
       " 'KANGRA KANGRA',\n",
       " 'PARBAT',\n",
       " 'SHIRSUFAL',\n",
       " 'NALLOSAPARA',\n",
       " 'BAKSAR',\n",
       " 'MOTA KAPRA',\n",
       " 'FALNA',\n",
       " 'GUJARAT PALANPUR',\n",
       " 'PUTHUR',\n",
       " 'SAROOR NAGAR',\n",
       " 'IQBALGADH',\n",
       " 'CHAS BOKARO',\n",
       " 'TILAKNAGAR',\n",
       " 'COLLEGE GUNTUR',\n",
       " 'NAMSAI',\n",
       " 'COLLEGE VIJAYAWADA',\n",
       " 'MOBARA',\n",
       " 'V.V.NAGAR',\n",
       " 'PRANTIJ',\n",
       " 'CHEENAI',\n",
       " 'MOHALI CHANDIGARH',\n",
       " 'DT HOSUR',\n",
       " 'CHORAO',\n",
       " 'CIRCLE KATARGAM SURAT',\n",
       " 'PUTPUTIA',\n",
       " 'PO DHANBAD DHANBAD',\n",
       " 'NAMCHI',\n",
       " 'BHADRA HANUMANGARH',\n",
       " 'SAI GANGA NAGAR',\n",
       " 'COPENHAGEN',\n",
       " 'PORE NAIHATI',\n",
       " 'VADODARA VADODARA',\n",
       " 'UTTARAKHAND (PITHORAGARH)',\n",
       " 'UXBRIDGE',\n",
       " 'BHAWARNA',\n",
       " 'ATMAKUR',\n",
       " 'AUNDH SANEWADI',\n",
       " 'NAVI MUMBI',\n",
       " 'KUMARANELLOOR',\n",
       " 'JHUNJHUNUN',\n",
       " 'ZIRAKHPUR',\n",
       " 'PS-WEST AGARTALA WEST TRIPURA',\n",
       " 'BISSAR',\n",
       " 'DEBAI',\n",
       " 'PO ADITYAPUR 1',\n",
       " 'THOLICODE',\n",
       " 'BADLAPUR (W)',\n",
       " 'BHAVANI GEMS SURAT',\n",
       " 'DENAP',\n",
       " 'RAI SONEPAT',\n",
       " 'SOUTH TWENTY FOUR PARAGANAS',\n",
       " 'UNAKOTI',\n",
       " 'JAGDISHPUR',\n",
       " 'C C PUR',\n",
       " 'SONEPUR',\n",
       " 'PANANGAD',\n",
       " 'THIRUNINRAVAR',\n",
       " 'ELAPPULLY PANCHAYATH',\n",
       " 'OMAXE GURGAON',\n",
       " 'SRINGERI',\n",
       " 'MIRZAPAR',\n",
       " '24 AND 25A GURGAON',\n",
       " 'DUTTA LANE BIRENDRA APPT SILCHAR',\n",
       " 'MUNICH',\n",
       " 'GHATAL',\n",
       " 'HAYATPUR RURKI',\n",
       " 'JAGDALPUR',\n",
       " 'SCHOOL SIBSAGAR',\n",
       " 'CHUVANNAMANNU',\n",
       " 'BONASOLA',\n",
       " 'SAUDI ARABIA SAUDI ARABIA',\n",
       " 'SIVAKASI-TK',\n",
       " 'TITWALA EAST',\n",
       " 'NORTH SYDNEY',\n",
       " 'BANALORE',\n",
       " 'STCRUZ',\n",
       " 'SCHOOL NASHIK',\n",
       " 'THAKURPUKUR',\n",
       " 'BUXI BAZAR CUTTACK',\n",
       " 'GADHINGLAJ',\n",
       " 'DOCKLANDS',\n",
       " 'HAJO',\n",
       " 'BEHIND BIRLA TEXTILE BADDI',\n",
       " 'AHMADPUR',\n",
       " 'ADITYAPUR',\n",
       " 'SHAHBAD M',\n",
       " 'MANDAWALI',\n",
       " 'BAURIPADA',\n",
       " 'KHARAUNDHA',\n",
       " 'KADUTHURUTHY',\n",
       " 'NILOKHERI',\n",
       " 'JIRANIA',\n",
       " 'LAKHTAR',\n",
       " 'KOLAR-DIST',\n",
       " 'ANDAL BURDWAN',\n",
       " 'MANDIR HATIARA NORTH 24 PARGANAS',\n",
       " 'GURDAS PUR',\n",
       " 'UDALPUR',\n",
       " 'PULIYOOR',\n",
       " 'NANDIA',\n",
       " 'UTTAR DHINAJPUR',\n",
       " 'KAROLEE',\n",
       " 'GANDEED',\n",
       " 'SUMBAL',\n",
       " 'PARVAT PATIA SURAT',\n",
       " 'KORMANGALA 1ST BLOCK BANGLORE',\n",
       " 'MALIGRAM',\n",
       " 'SAHEBGANJ',\n",
       " 'VARCA SALCETTE',\n",
       " 'UMARGAM',\n",
       " 'YEOLA DIST NASIK',\n",
       " 'JANDIALA',\n",
       " 'MANDIR GOHANA',\n",
       " 'ULUNDURPETTAI',\n",
       " 'JIAGANJ',\n",
       " 'TUTIKURIN',\n",
       " 'DOMBIVALI-W',\n",
       " 'MOHAN NAGAR CHINCHWAD',\n",
       " 'VIDHALAYA NOIDA',\n",
       " 'VASUNDHARA GZB',\n",
       " 'JAYANKONDAM',\n",
       " 'KHAMAM',\n",
       " 'SONAMURA',\n",
       " 'BANDRA (W)',\n",
       " 'MOGAR',\n",
       " 'T V MALAI DIST',\n",
       " 'AZAWL',\n",
       " 'RABURURA',\n",
       " 'NR KEREGUDDADAHALLI BUS STOP',\n",
       " 'BAIRIYA',\n",
       " 'MUGLISARA SURAT CITY SURAT',\n",
       " 'ACANTT',\n",
       " 'ARMULA',\n",
       " 'PANVEL OLD PANVEL DIST RAIGAD',\n",
       " 'YENAMALAKUDURU VIJAYAWADA',\n",
       " 'CURCHOREM SOUTTH GOA',\n",
       " 'BENGALURU DAKSHIN',\n",
       " 'SAHIBJADA AJIT SINGH NAGAR MOHALI',\n",
       " 'SRIPERUMBUDUR TALUK KANCHIPURAM DT',\n",
       " 'KHANUSA',\n",
       " 'HARIPAD',\n",
       " 'SAANTACRUZ',\n",
       " 'RUDARPUR',\n",
       " 'KRISHNAGIRI(DT) HOSUR',\n",
       " 'FZCO DUBAI',\n",
       " 'TAINAN',\n",
       " 'KAMBARASAPURAM',\n",
       " 'JAITARAN',\n",
       " 'KOTRI RAJSAMAND',\n",
       " 'JARADA',\n",
       " 'DISTRICT KENDRAPARA',\n",
       " 'PALDA INDORE',\n",
       " 'FARIDABAD SECTOR-22 FARIDABAD',\n",
       " 'NEGARA',\n",
       " 'KODOM',\n",
       " 'PARNER',\n",
       " 'WEST TRIPURA AGARTALA',\n",
       " 'BAROTHA',\n",
       " 'CHINNAPANAICKENPALAYAM CUDDALORE',\n",
       " 'TUMKUR DISTRICT',\n",
       " 'BALUGAON',\n",
       " 'PETROL PUMP NAGPUR',\n",
       " 'TIRUVAURR',\n",
       " 'UDEYPUR (RAJ)',\n",
       " 'RAIGAD PANVEL',\n",
       " 'HAUZ RANI',\n",
       " 'UNION CITY',\n",
       " 'KUSHMANDI',\n",
       " '24 PARGANAS NORTH',\n",
       " 'DHARAPURAM MAIN ROAD TIRUPUR',\n",
       " 'KUCHAMAN CITY',\n",
       " 'CHEERALA',\n",
       " 'AGILA COMPANY BACK SIDE HOSUR',\n",
       " 'EAST TAMBARAM',\n",
       " 'MOHINDARGARH',\n",
       " 'TANDULWADI',\n",
       " 'MAJARI',\n",
       " 'SWAMY TEMPLE GUNTUR',\n",
       " 'GAUTAM BUDDHA NGR',\n",
       " 'JAWALI',\n",
       " 'UPPALAPADU',\n",
       " 'I BARDDHAMAN',\n",
       " 'UDALA',\n",
       " 'MADURAI DISTRICT',\n",
       " 'VAISHALI VAISHALI',\n",
       " 'MANNHEIM',\n",
       " 'MARGAO SOUTH',\n",
       " 'PO JAJARDEWAL PITHORAGARH',\n",
       " 'UT OF DADRA AND NAGAR',\n",
       " 'HUTHUKUR ROAD NELLORE',\n",
       " 'KALANAUR',\n",
       " 'HIRAPURA',\n",
       " 'POYIL',\n",
       " 'HARSOLI',\n",
       " 'GORAUL',\n",
       " 'MUGHALSARAI',\n",
       " 'KANGHTALI',\n",
       " 'INDRI',\n",
       " 'SHAHAD',\n",
       " 'PHASE 1 GURGAON',\n",
       " 'DT-UDHAM SINGH NGR RUDRAPUR',\n",
       " 'GONTUVANI PALEM',\n",
       " 'TALUKA ANJAR  GANDHIDHAM',\n",
       " 'PANDALAM',\n",
       " 'M GARH MAHENDERGARH',\n",
       " 'NR JAGAT FARM GREATER NOIDA',\n",
       " 'LORETO COLLEGE DARJEELING',\n",
       " 'MEDCHAL',\n",
       " 'ERUMATHALA',\n",
       " 'KUBRI',\n",
       " 'ALLD',\n",
       " 'AMBALACANTT',\n",
       " 'DEPALPUR',\n",
       " 'DHANBAD DIST',\n",
       " 'HHI BHUBANESWAR',\n",
       " 'LALGUDI',\n",
       " 'JINDWARI',\n",
       " 'MARG LOWER PAREL',\n",
       " 'BHIMRANA',\n",
       " 'AIRTEL BLDG GURGAON',\n",
       " 'REIS MAGOS',\n",
       " 'MURGASOL',\n",
       " 'BARAI',\n",
       " 'NADAVAYAL',\n",
       " 'POPHALI',\n",
       " 'AMBEGAON BK',\n",
       " 'AMBARNATH EAST',\n",
       " 'NR SARADA MATH NORTH 24 PARGANAS',\n",
       " 'NADUVIL PANCHAYATH',\n",
       " 'BALLABHGARH',\n",
       " 'HYEDERABAD',\n",
       " 'NANDURABAR',\n",
       " 'ANDUL',\n",
       " 'STOCKHOLM',\n",
       " 'QUTHBULLAPUR',\n",
       " 'SRIPERUMBVDUR',\n",
       " 'BANGALOR',\n",
       " 'MAUR MANDI',\n",
       " 'RAIGARG',\n",
       " 'BHEL',\n",
       " 'NEEMKATHANA',\n",
       " 'KOSAMBA',\n",
       " 'RAIGAD NR BANSAL FARM KHALAPUR',\n",
       " 'DEN HAAG',\n",
       " 'PURBA MIDNAPUR',\n",
       " 'NADAUN',\n",
       " 'KADAVUR TALUK',\n",
       " 'AUCKLAND',\n",
       " 'VELPUR',\n",
       " 'KHAMGAON',\n",
       " 'NR MACH FACTORY GOMATI',\n",
       " 'BARPETA',\n",
       " 'BELAUKH',\n",
       " 'SANGRUR DHURI',\n",
       " 'TODAMPARA',\n",
       " 'ROAD KATARGAM SURAT',\n",
       " 'PONDA NORTH GOA',\n",
       " 'THANJAVVR',\n",
       " 'TAMIL NADU  HOSUR',\n",
       " 'MAWANA (MEERUT)',\n",
       " 'I E BHILAI DURG',\n",
       " 'KUTCH GANDHIDHAM',\n",
       " 'AFZALGARH',\n",
       " 'PRABHANI',\n",
       " 'JHARSUGUDA',\n",
       " 'CHOMU',\n",
       " 'SCHOOL DOMBIVALI WEST',\n",
       " 'KALYAN-W',\n",
       " 'VIRAR E PALGHAR',\n",
       " 'CHANDRASEKHARPUR BHUBANESWAR',\n",
       " 'GANESH MANDIR BHANDARA',\n",
       " 'BID',\n",
       " 'KUZHIMATTOM',\n",
       " 'RAJASTHAN JHALAWAR',\n",
       " 'MORVI',\n",
       " 'HYDERBAD',\n",
       " 'KUALA BELAIT',\n",
       " 'SIVAKASI TK',\n",
       " 'JAMSAEDPUR',\n",
       " 'BAYAD',\n",
       " 'SHIMOGA  DIST',\n",
       " 'SRIGANAGAR',\n",
       " 'BAPAT MARG LOWER PAREL WORLI',\n",
       " 'PALAKKAD (DT)',\n",
       " 'KOLAGHAT',\n",
       " 'PONNAGAR TRICHY',\n",
       " 'ADARSHA JALPAIGURI',\n",
       " 'VIRUDHUNAGAR (TK)',\n",
       " 'TALAULIM',\n",
       " 'CHIKBALLAPUR',\n",
       " 'ROAD NEAR JAGAT FARM GREATER NOIDA',\n",
       " 'PAZHAVARICKAL',\n",
       " 'SONPETH',\n",
       " 'PRAKASHAM',\n",
       " 'TRIVANDRUM DT',\n",
       " 'GUHAGAR',\n",
       " 'ICHALAKARANJI',\n",
       " 'HOSPET',\n",
       " 'BISALPUR',\n",
       " '1601672 BANGALOE',\n",
       " 'THISUNG GUMPA MANGAN',\n",
       " 'EKHJAULI MADHUBANI',\n",
       " 'KHARAGPUR RLY STN KHARAGPUR',\n",
       " 'THIRUVANNAMALAI (D)',\n",
       " 'MANGUESHI',\n",
       " 'KOPERKAIRNE',\n",
       " 'DANDELI',\n",
       " 'DEVAS',\n",
       " 'TIRUMALGERRY SECUNDERADAD',\n",
       " 'ASHOK NAGAR,MADHYA PRADESH',\n",
       " 'AMBIVALI EAST',\n",
       " 'VINAYAGAR KOIL SALEM',\n",
       " 'HIGHCOURTJABALPUR',\n",
       " 'SANAWAD',\n",
       " 'BROOKLYN',\n",
       " 'MANTAPA HALL MANGALORE',\n",
       " 'QUEPEM GOA',\n",
       " 'SHAHAJAHAYEPUR',\n",
       " 'GOPALPURI TALUKA -ANJAR GANDHIDHAM',\n",
       " 'BOISAR WEST',\n",
       " 'SULDUNG',\n",
       " 'PANCHLULA',\n",
       " 'JWALAPUR TEH HARIDWAR HARIDWAR',\n",
       " 'AMRAVATI WARUD',\n",
       " 'SPAZE GURGAON',\n",
       " 'MARIPEDA WARANGAL',\n",
       " 'PALA',\n",
       " 'TALEIGAO PANAJI',\n",
       " 'ARIYALUR (DT)',\n",
       " 'TEMPLE PORT BLAIR',\n",
       " 'POST OFFICE ZIRAKPUR',\n",
       " 'P AND T COLONY (VM) VISAKHAPATNAM',\n",
       " 'EDINBURGH',\n",
       " 'DHARVHERA REWARI',\n",
       " 'VRINDAVAN',\n",
       " 'DHANBAD NIRSA',\n",
       " 'MANDIR DHANBAD',\n",
       " 'NEW MILFORD',\n",
       " 'BALASAUR',\n",
       " 'BISHUNPUR',\n",
       " 'SITHAURA',\n",
       " 'SEHORE SEHORE',\n",
       " 'TAMPA',\n",
       " 'THALAPPALLY',\n",
       " 'CLEAR WATER',\n",
       " 'KUNDHA',\n",
       " 'PAHARGONDA RANCHI',\n",
       " 'NR POORNIMA THEATRE KALYAN WEST',\n",
       " 'NEELAMANGALAM',\n",
       " 'BADAPARA',\n",
       " 'OMAN',\n",
       " 'NAGAL CHOUDHARY',\n",
       " 'GARHSHANKER',\n",
       " 'HUSHIARPUR',\n",
       " 'DISTT UDHAM SINGH NAGAR RUDRAPUR',\n",
       " 'AMBAK',\n",
       " 'PAVANSERE',\n",
       " '21 A FARIDABAD',\n",
       " 'EMAKULAM',\n",
       " 'TAMAKARI SCHOOL WEST TRIPURA',\n",
       " 'DUBAI -UNITED ARAB EMIRATES DUBAI',\n",
       " 'THIDANADU',\n",
       " 'TADIPATRI',\n",
       " 'NAINA DEVI',\n",
       " 'AUBURN',\n",
       " 'MANDIR  NAGPUR',\n",
       " 'BALIMORA',\n",
       " 'SEBASTIAN CHURCH KOCHUPALLY',\n",
       " 'TANAKPUR CHAMPAWAT',\n",
       " 'MURLIGANJ',\n",
       " 'UMROLI',\n",
       " 'MUCHINTALA KRISHNA',\n",
       " 'HIMACHAL PRADESH BILASPUR',\n",
       " 'REPUBLIC DEMOCRATIC OF CANGO',\n",
       " 'THOTTHUKUDI',\n",
       " 'LOUTOLIM SALCETE',\n",
       " 'OFFICE KALYAN WEST KALYAN',\n",
       " 'VYARA',\n",
       " 'FOUR PARGANAS',\n",
       " 'DIST-LAKHIMPUR',\n",
       " 'IPOH',\n",
       " 'VISAKHAPATNAM (URBAN)',\n",
       " 'TEMPLE U BALANKA EAST GODAVARI DT',\n",
       " 'PATHANKOT PATHANKOT',\n",
       " 'GURGGAON',\n",
       " 'HINJEWADI PHASE 3',\n",
       " 'VASCO DA GAMA SOUTH',\n",
       " 'MONTESORRI BENGALURU',\n",
       " 'ADSULIM SALCETE',\n",
       " 'BANGARAPET KOLAR',\n",
       " 'ADALAJ',\n",
       " 'MOHAMADPUR',\n",
       " 'ANIKKADU',\n",
       " 'HASAN',\n",
       " 'EDOGAWA KU',\n",
       " 'BAGARAPET KOLAR',\n",
       " 'THE DANGS',\n",
       " 'CHINCHINIM',\n",
       " 'KANDIWALI EAST',\n",
       " 'VENKURINNJI',\n",
       " 'NAMBOL',\n",
       " 'SENAI',\n",
       " 'THRISSUR DISTRICT',\n",
       " 'KALAMB',\n",
       " 'BAER GREATER NOIDA',\n",
       " 'PHENSONG',\n",
       " 'NALAGONDA DISTRICT',\n",
       " 'JANJGIR-CHAMPA',\n",
       " 'KONDA VIJAYAWADA',\n",
       " 'BAMBOLIA',\n",
       " 'KODIGHALII RLY STN BANGLORE',\n",
       " 'VAISHALI NAGAR RANGAREDDI',\n",
       " 'E WORLD CYBER CAFÉ IMPHAL WEST',\n",
       " 'DISTT LATUR LATUR',\n",
       " 'SHARMA GENERAL STORE GHAZIABAD',\n",
       " 'CENTER DUBAI',\n",
       " 'KANGAYAM TK',\n",
       " 'GOMATI',\n",
       " 'SWAIMADHOPUR',\n",
       " 'SHAHAPUR',\n",
       " 'BALOD',\n",
       " 'NR SANTOSHI MATA MANDIR DOMBIVALI W',\n",
       " 'CHUVACHANPUR',\n",
       " 'NAGANUR',\n",
       " 'NABHA DISTT  PATIALA',\n",
       " 'NARASARAOPET GUNTUR D T',\n",
       " 'SCHOOL MOHANPUR',\n",
       " 'UMTA',\n",
       " 'BANTWAL TQ',\n",
       " 'BADALAPUR W',\n",
       " 'MANDSAVR',\n",
       " 'YELLADGUNDI',\n",
       " 'MANPURA',\n",
       " 'KHERI FARIDABAD',\n",
       " 'JAMUL',\n",
       " 'GANGNAPUR',\n",
       " 'AKSHAYA NAGAR',\n",
       " 'PASHCHIM CHAMPARAN',\n",
       " 'KOLHAPUR RANGOLI',\n",
       " 'RIVERSIDE',\n",
       " 'REVDER',\n",
       " 'DIST UKHRUL',\n",
       " 'AFZLAPUR',\n",
       " 'UDUMALPET TIRUPUR (DT)',\n",
       " 'GHATKOPAR W',\n",
       " 'ATELI',\n",
       " 'ROHAN',\n",
       " 'GOA VELHA',\n",
       " 'KHAIR',\n",
       " 'RANGAREEDI P AND T CLY RANGAREDDI',\n",
       " 'CANACONA SOUTH GOA',\n",
       " 'GARHIAGAON JHANSI',\n",
       " 'BRAJARAJNAGAR',\n",
       " 'AL NAHDA',\n",
       " 'PETROL PUMP SURAT',\n",
       " 'BADAUN BADAUN',\n",
       " 'BELAN GANJ AGRA',\n",
       " 'TALUKA-ANJAR  GANDHIDHAM',\n",
       " 'NEENDOOR',\n",
       " 'AJWA ROAD BARODA',\n",
       " 'LALIT PUR',\n",
       " 'PIRAVOM',\n",
       " 'JAYAPURA MYSORE',\n",
       " 'JAFRABAD',\n",
       " 'DHARMSHALA',\n",
       " 'TIRUNELVELI DIST',\n",
       " 'EDMONTON AB',\n",
       " 'LASHKAR GWALIOR',\n",
       " 'EXTON',\n",
       " 'THOOTHOKUDI',\n",
       " 'MURADNAGAR',\n",
       " 'GAITHERSBURG',\n",
       " 'KARUR DI',\n",
       " 'SIMLA',\n",
       " 'SAHARANPUR SAHARANPUR',\n",
       " 'KOTDWARA PAURI GARHWAL',\n",
       " 'CHEYYAR',\n",
       " 'GORAKH PUR',\n",
       " 'DADARI',\n",
       " 'VANGANI E',\n",
       " 'NAKA VADODARA',\n",
       " 'SONATIKARI',\n",
       " 'ROPNAGAR',\n",
       " 'METRO STATION FARIDABAD',\n",
       " 'MITUANI',\n",
       " 'VADTHAL',\n",
       " 'CHIKKAMGALURU',\n",
       " 'NILUPPURAM',\n",
       " 'GOPALPURA',\n",
       " 'NEW PANVEL W',\n",
       " 'GROSSERY SHOP MEDINIPUR',\n",
       " 'TAURU TAORU MEWAT',\n",
       " 'RUDEL',\n",
       " 'CHANGLANG',\n",
       " 'CHHIPIPURA BORISARAY E NIRMAR',\n",
       " 'TROMBAY',\n",
       " 'SANTIAGO',\n",
       " 'C GURGAON',\n",
       " 'KODUR',\n",
       " 'CHEMBUR FCI MUMABI',\n",
       " 'WARD NO 75 NAGPUR',\n",
       " 'BALODA',\n",
       " 'BAHULA NASHIK',\n",
       " 'NIDIGONDA',\n",
       " 'PURWI CHAMPARAN',\n",
       " 'ZAHIRABAD',\n",
       " 'MADHUGORA',\n",
       " 'UMKDAIT',\n",
       " 'JETALSAR',\n",
       " 'PASWADA GHAZIABAD',\n",
       " 'PALLIPPATU',\n",
       " 'CHIKKAMAGALUR',\n",
       " 'YANBU-41912',\n",
       " 'PHULBANI',\n",
       " 'HUNG HOM',\n",
       " 'RAIBAREILY',\n",
       " 'WALCHANDNAGAR',\n",
       " 'AKHINI',\n",
       " 'PANOOR',\n",
       " 'SAIPUR',\n",
       " 'CHINGLEPUT',\n",
       " 'RAPAR',\n",
       " 'SALEM (DT)',\n",
       " 'PONDA SOUTH',\n",
       " 'TIRUPATHI URBAN',\n",
       " 'BANASHANKARI2ND STAGE',\n",
       " 'CHOPDA',\n",
       " 'BALURGHAT',\n",
       " 'NOUGAWAN',\n",
       " 'TAL PALGHAR DIST PALGHAR',\n",
       " 'GOMEWADI',\n",
       " 'SRIPERUMBUDUR TALUK KANCHIPURAM',\n",
       " 'SALALAH',\n",
       " 'UDUMBANCHOLA UDUMBANCHOLA',\n",
       " 'TOONGABBIE',\n",
       " 'CHEMBIKULAM',\n",
       " 'HOSHANGABAD ITARSI',\n",
       " 'HOSUR TALUK',\n",
       " 'BARSHI',\n",
       " 'CIRCLE ITANAGAR',\n",
       " 'DHURWA',\n",
       " 'SRIPRUMBUDUR',\n",
       " 'KHUSKHERA',\n",
       " 'BHADURGARH',\n",
       " 'CHANANACHERRY',\n",
       " 'YERRAVARIPALEM',\n",
       " 'PHABAT RD ZIRAKPUR',\n",
       " 'KUKATPALLY HYDEABAD',\n",
       " 'MEDINIPUR WEST',\n",
       " 'KRISHNA DT',\n",
       " 'RAYMOND GROCERY SHOP ASANSOL',\n",
       " 'SCARBOROUGH',\n",
       " 'VASAI (WEST)',\n",
       " 'MAHARASHTRA CHIPLUN',\n",
       " 'SONAPUR',\n",
       " 'COLONY JAMMU',\n",
       " 'RAJSAMAND RAJSAMAND',\n",
       " 'DIST JAUNPUR',\n",
       " 'THIRUPATHI CHITTOOR',\n",
       " 'GAHAMAR',\n",
       " 'NORTH CAROLINA',\n",
       " 'MUNIRKA',\n",
       " 'STORE NEEM KA THANA',\n",
       " 'SRIPERUMBUDHUR',\n",
       " 'NEAR SRIYA SQUARE BHUBANESHWAR',\n",
       " 'JUNNAR',\n",
       " 'THIRUVANMIYUR',\n",
       " 'CHAPRELI',\n",
       " 'BUDRUK',\n",
       " 'KANGEYAM',\n",
       " 'AJITGARH',\n",
       " 'SUBHASH NAGAR II',\n",
       " 'MANDYA DT',\n",
       " 'EXCHANGE PATHANKOT',\n",
       " 'MANIMANGALAM',\n",
       " 'PEN DIST RAIGAD',\n",
       " 'AKSHAR CMPL SURAT',\n",
       " 'LUDHUINANA',\n",
       " 'UTTARSANDA',\n",
       " 'NR CHHAYA PUBLIC SCHOOL GHAZIABAD',\n",
       " 'JALGON',\n",
       " 'SURYAPET,NALGONDA(DIST)',\n",
       " 'HANUMAN TEMPLE JAJPUR',\n",
       " 'DIST-SONIPAT GOHANA',\n",
       " 'R R DISTRICT',\n",
       " 'SEWATA',\n",
       " 'CHALAKKUDI',\n",
       " 'AMBAD NASHIK',\n",
       " 'GOBARDANGA',\n",
       " 'UMRETH',\n",
       " 'HASANPUR',\n",
       " 'GUDGAON',\n",
       " 'SALIGAO',\n",
       " 'AMBELIM',\n",
       " 'SANYUKTA NAGAR NALLASOPARA EAST',\n",
       " 'VIVEKANAND STATUE DURGAPUR',\n",
       " 'MAYYIL',\n",
       " 'KACHCHH BHUJ',\n",
       " 'ABU DHABI 303',\n",
       " 'JALALABAD WEST',\n",
       " 'TIRUNELVLI',\n",
       " 'HALL GHAZIABAD',\n",
       " 'GAYZING',\n",
       " 'BEGU ROAD SIRSA',\n",
       " 'SCHOOL DOMBIVALI EAST',\n",
       " 'MUDPAR',\n",
       " 'JAWALAMUKHI',\n",
       " 'KHUSKHERA BHIWADI ALWAR RD ALWAR',\n",
       " 'SHAH ALAM',\n",
       " 'PHASE-III GURGAON',\n",
       " 'CHAKDAHA',\n",
       " 'JANDIALA GURU',\n",
       " 'ZUNHEBOTO',\n",
       " 'KUSUNDA',\n",
       " 'RAKASHWADI',\n",
       " 'BHUBANESWER',\n",
       " 'ROOMFORD',\n",
       " 'MAHUAR',\n",
       " 'ANDAL',\n",
       " 'ALATHUR',\n",
       " 'HINGANGHAT',\n",
       " 'SABARKANTHA MEGHRAJ',\n",
       " 'NORWICH',\n",
       " 'PAREL BHOIWADA',\n",
       " 'DIST VALSAD',\n",
       " 'EAST SIANG',\n",
       " 'NIRMAL',\n",
       " 'MARINE LINE E',\n",
       " 'KANKROLI RAJSAMAND',\n",
       " 'INDRANA',\n",
       " 'KHOWAI',\n",
       " 'GANDHIDHAM-KUTCH',\n",
       " 'NASHIK 3',\n",
       " 'DONGARGAON',\n",
       " 'VASIND E',\n",
       " 'BELAPUR',\n",
       " '(SOMWARPET KODAGU)',\n",
       " 'GAUTAM BUDDHA',\n",
       " 'NELLORE DARGAMITTA',\n",
       " 'BHUNNA',\n",
       " 'CENTRE VIJAYAWADA',\n",
       " 'VIJAY NAGAR',\n",
       " 'BAREGARH',\n",
       " 'RANAPRATAP NAGAR NAGPUR',\n",
       " 'BERGEN',\n",
       " 'MUMA',\n",
       " 'ARUSHA',\n",
       " 'BANGARUPALEM',\n",
       " 'RI-BHOI',\n",
       " 'NAGAPATTINAM (TK) (P)',\n",
       " 'KURKIHAR',\n",
       " 'BADULI SAHARANPUR',\n",
       " 'KAVERI PATTINAM',\n",
       " 'COLONY GORAKHPUR',\n",
       " 'THIRSSUR',\n",
       " 'PO BOX 33060 DUBAI DUBAI',\n",
       " 'TALUK KANCHIPURAM DISTRICT',\n",
       " 'KADOD KALAN',\n",
       " 'DEHRADUN DEHRADUN',\n",
       " 'ASPUR',\n",
       " 'MANDIR SAMALKHA',\n",
       " 'WANKANER',\n",
       " 'NALASOPARA (E)',\n",
       " 'SLG DARJEELING',\n",
       " 'GUJRAT VADODARA',\n",
       " 'HOSPITAL VISAKHAPATNAM',\n",
       " 'KASARAGOD DT',\n",
       " 'DEVALI',\n",
       " 'ZADESHWAR',\n",
       " 'RAOTA',\n",
       " 'HOSHANGABAD PIPARIYA',\n",
       " 'BHAINDER EAST',\n",
       " 'SHAHIBABAD',\n",
       " 'NR BNS CLUB PUR SURAH HOOGHLY',\n",
       " 'INSTITUTE BURDWAN',\n",
       " 'KOTHAPUR',\n",
       " 'PERTH',\n",
       " 'RORKEE',\n",
       " 'NASIK ROAD NASIK',\n",
       " 'VILLOONNI',\n",
       " 'KAKRABAN H S SCHOOL GOMATI',\n",
       " 'KOCHI 12',\n",
       " 'DHARMPUR',\n",
       " 'MANIGACHHI',\n",
       " 'GHIKARA',\n",
       " 'BEAWER',\n",
       " 'PROPERTY DEALER ST NO-12 LUDHIANA',\n",
       " 'VINAYAGAR KOVIL HOSUR',\n",
       " 'APPT PATNA',\n",
       " 'VALLABH-VIDYA NAGAR',\n",
       " 'KALLAKURICHI',\n",
       " 'GUTHANISIWAN',\n",
       " 'NAKHATRANA',\n",
       " 'MAUN',\n",
       " 'RING ROAD VADODARA',\n",
       " 'CYBERCITY GURGAON',\n",
       " 'GUDIVADA',\n",
       " 'SANGHA CLUB NORTH 24 PARGANAS',\n",
       " 'MADHUBAN TOWNSHIP',\n",
       " 'LAIKOL',\n",
       " 'KADUR',\n",
       " 'PARK SOC SURAT',\n",
       " 'PEEDAL',\n",
       " 'PAYAGPUR',\n",
       " 'KOVVUR WEST GODAVARI',\n",
       " 'SHOP BAGHPAT',\n",
       " 'DHARAPURAH TK',\n",
       " 'JAMBUDA',\n",
       " 'DODDABALLAPURA',\n",
       " 'KHUTWAD NGR NASHIK',\n",
       " 'DIST AURANGABAD',\n",
       " 'JALLANDHAR',\n",
       " 'GREATOR NOIDA WEST',\n",
       " 'SEATTLE',\n",
       " 'AL KHOBAR 31952',\n",
       " 'KOZHA',\n",
       " 'LESRIWAL',\n",
       " 'MANGALORE D K',\n",
       " 'NALLASOPARA EAST PALGHAR',\n",
       " 'NAGAR KOTA KOTA',\n",
       " 'KALAYAT',\n",
       " 'AL WAKRA',\n",
       " 'CHANDRAPURNAGAR NO 01 RAMNAGAR',\n",
       " 'UKBRUL',\n",
       " 'MANDIGOBINGARH',\n",
       " 'SHIRGAON BADLAPUR',\n",
       " 'JAWAJA',\n",
       " 'KALIGIRI',\n",
       " 'PENNAGARAM',\n",
       " 'KUTTANAD',\n",
       " 'GAIGHATA',\n",
       " 'KYOTO',\n",
       " 'BSNL OFFICE WEST TRIPURA',\n",
       " '13 GORAKHPUR',\n",
       " 'DIST BHOPAL',\n",
       " 'LUPUNG',\n",
       " 'RUDRAPUR DIST U S NAGAR RUDRAPUR',\n",
       " 'BORIAVI ANAND',\n",
       " 'MANKUVA KUTCH',\n",
       " 'NIPHAD',\n",
       " 'SANDESAR',\n",
       " 'VELVI',\n",
       " 'NASIRDA',\n",
       " 'SAMLETI',\n",
       " 'KHONGJOM',\n",
       " 'HERNDON',\n",
       " 'PO DAKPATHAR DIST DEHRADUN DEHRADUN',\n",
       " 'DHOVI GHAAT ITARSI',\n",
       " 'PAMOL',\n",
       " 'RAJASMAND',\n",
       " 'VARLADEVI MANDIR BHIWANDI',\n",
       " 'MAYILDUTHURAI NAGAI DIST',\n",
       " 'KANJIRAKODE',\n",
       " 'THIRUVULLORE',\n",
       " 'PAPUMPARE NAHARLAGUN',\n",
       " 'SCHOOL STREET RAJAHMUNDRY',\n",
       " 'THANJVUR',\n",
       " 'NEAR BHAKTINAGAR THANA SILIGURI',\n",
       " 'KARJAN',\n",
       " 'PANIAPT',\n",
       " 'LIKABALI',\n",
       " 'LANE GANDHI NGR BORING RD PATNA',\n",
       " 'BAGHPAT BARAUT',\n",
       " 'RAS TANURA',\n",
       " 'PAPANASAM THANJAVUR',\n",
       " 'PEDAGANTYADA BHPV VISAKHAPATNAM',\n",
       " 'TOSHAM',\n",
       " 'NAR',\n",
       " 'TIRUVANNAMAI',\n",
       " 'CHUNGI SYANA',\n",
       " 'BARDEZ BETIM',\n",
       " 'PONDA TISCA',\n",
       " 'HANUMAN JUNCTION',\n",
       " 'THERKU VENGANALLUR',\n",
       " 'UCHANA',\n",
       " 'PARATWADA',\n",
       " 'BISHESHARGANJ',\n",
       " 'LINGASUGUR HQ',\n",
       " 'DISTT NASHIK NASHIK',\n",
       " 'MELUR',\n",
       " 'JHAYESI',\n",
       " 'TALEIGAO TISWADI',\n",
       " 'KARKALA',\n",
       " 'KODINAR',\n",
       " 'SPEYER',\n",
       " 'KANDIVALI  WEST',\n",
       " 'KOTTANGAL',\n",
       " 'CUMMING',\n",
       " 'OUTERRING ROAD BANGLORE',\n",
       " 'DHANSOR',\n",
       " 'TRIPURA TELIAMURA',\n",
       " 'MADHYA PRADESH',\n",
       " 'CHATARA',\n",
       " 'YADQIR',\n",
       " 'IRRUNGATTUKOTTAI IRRUNGATTUKUTTAI',\n",
       " 'THRRUVARUR',\n",
       " 'RAJAHMUNDRY URBAN',\n",
       " 'VADTAL',\n",
       " 'RAHON',\n",
       " 'BERAMPUR',\n",
       " 'HOSHIAR PUR',\n",
       " 'DISTRICT PURI',\n",
       " 'RAIGAD RAIGAD',\n",
       " 'PIDUGURALLA',\n",
       " 'KAMALPUR',\n",
       " 'DOYLESTOWN',\n",
       " 'MUKSAR',\n",
       " 'KADAVUR',\n",
       " 'PILKHI',\n",
       " 'SANCOALE',\n",
       " 'PREMISES ULHASNAGAR',\n",
       " 'LANE ITARSI',\n",
       " 'RUDRAPUR DISTT U S N RUDRAPUR',\n",
       " 'SAHIBABAD GHAZIABAD',\n",
       " 'BHAYANDER W',\n",
       " 'ATA CHAKKI KHARAR',\n",
       " 'BAPAT MARG LOWER PAREL',\n",
       " 'PALAVAYAL',\n",
       " 'LEIKAI',\n",
       " 'TANENGLONG',\n",
       " 'SHAHBAD (M)',\n",
       " 'JOHAR',\n",
       " 'SCHOOL KHARAGPUR',\n",
       " 'GANDHI NAGR',\n",
       " 'PERIYAR NAOTER',\n",
       " 'SWINDON',\n",
       " 'KARANJIA']"
      ]
     },
     "execution_count": 26,
     "metadata": {},
     "output_type": "execute_result"
    }
   ],
   "source": [
    "x = pd.DataFrame(df['CustLocation'].value_counts())\n",
    "x = x.reset_index()\n",
    "x.columns = ['City','Count']\n",
    "one = list(x.loc[x['Count'] == 1]['City'])\n",
    "one"
   ]
  },
  {
   "cell_type": "code",
   "execution_count": 27,
   "metadata": {},
   "outputs": [
    {
     "data": {
      "text/plain": [
       "(901348, 9)"
      ]
     },
     "execution_count": 27,
     "metadata": {},
     "output_type": "execute_result"
    }
   ],
   "source": [
    "df.shape"
   ]
  },
  {
   "cell_type": "code",
   "execution_count": 28,
   "metadata": {},
   "outputs": [
    {
     "data": {
      "text/plain": [
       "(900359, 9)"
      ]
     },
     "execution_count": 28,
     "metadata": {},
     "output_type": "execute_result"
    }
   ],
   "source": [
    "df.drop(df[df['CustLocation'].isin(one)].index, inplace=True)\n",
    "df.shape"
   ]
  },
  {
   "attachments": {},
   "cell_type": "markdown",
   "metadata": {},
   "source": [
    "## Transaction Analysis"
   ]
  },
  {
   "cell_type": "code",
   "execution_count": 29,
   "metadata": {},
   "outputs": [
    {
     "data": {
      "text/html": [
       "<div>\n",
       "<style scoped>\n",
       "    .dataframe tbody tr th:only-of-type {\n",
       "        vertical-align: middle;\n",
       "    }\n",
       "\n",
       "    .dataframe tbody tr th {\n",
       "        vertical-align: top;\n",
       "    }\n",
       "\n",
       "    .dataframe thead th {\n",
       "        text-align: right;\n",
       "    }\n",
       "</style>\n",
       "<table border=\"1\" class=\"dataframe\">\n",
       "  <thead>\n",
       "    <tr style=\"text-align: right;\">\n",
       "      <th></th>\n",
       "      <th>TransactionID</th>\n",
       "      <th>CustomerID</th>\n",
       "      <th>CustomerDOB</th>\n",
       "      <th>CustGender</th>\n",
       "      <th>CustLocation</th>\n",
       "      <th>CustAccountBalance</th>\n",
       "      <th>TransactionDate</th>\n",
       "      <th>TransactionAmount (INR)</th>\n",
       "      <th>CustomerAge</th>\n",
       "      <th>month_year</th>\n",
       "    </tr>\n",
       "  </thead>\n",
       "  <tbody>\n",
       "    <tr>\n",
       "      <th>0</th>\n",
       "      <td>T1</td>\n",
       "      <td>C5841053</td>\n",
       "      <td>1994-10-01</td>\n",
       "      <td>F</td>\n",
       "      <td>JAMSHEDPUR</td>\n",
       "      <td>17819.05</td>\n",
       "      <td>2016-02-08</td>\n",
       "      <td>25.0</td>\n",
       "      <td>22</td>\n",
       "      <td>2016-02-01</td>\n",
       "    </tr>\n",
       "    <tr>\n",
       "      <th>2</th>\n",
       "      <td>T3</td>\n",
       "      <td>C4417068</td>\n",
       "      <td>1996-11-26</td>\n",
       "      <td>F</td>\n",
       "      <td>MUMBAI</td>\n",
       "      <td>17874.44</td>\n",
       "      <td>2016-02-08</td>\n",
       "      <td>459.0</td>\n",
       "      <td>20</td>\n",
       "      <td>2016-02-01</td>\n",
       "    </tr>\n",
       "    <tr>\n",
       "      <th>3</th>\n",
       "      <td>T4</td>\n",
       "      <td>C5342380</td>\n",
       "      <td>1973-09-14</td>\n",
       "      <td>F</td>\n",
       "      <td>MUMBAI</td>\n",
       "      <td>866503.21</td>\n",
       "      <td>2016-02-08</td>\n",
       "      <td>2060.0</td>\n",
       "      <td>43</td>\n",
       "      <td>2016-02-01</td>\n",
       "    </tr>\n",
       "    <tr>\n",
       "      <th>4</th>\n",
       "      <td>T5</td>\n",
       "      <td>C9031234</td>\n",
       "      <td>1988-03-24</td>\n",
       "      <td>F</td>\n",
       "      <td>MUMBAI</td>\n",
       "      <td>6714.43</td>\n",
       "      <td>2016-02-08</td>\n",
       "      <td>1762.5</td>\n",
       "      <td>28</td>\n",
       "      <td>2016-02-01</td>\n",
       "    </tr>\n",
       "    <tr>\n",
       "      <th>6</th>\n",
       "      <td>T7</td>\n",
       "      <td>C7126560</td>\n",
       "      <td>1992-01-26</td>\n",
       "      <td>F</td>\n",
       "      <td>MUMBAI</td>\n",
       "      <td>973.46</td>\n",
       "      <td>2016-02-08</td>\n",
       "      <td>566.0</td>\n",
       "      <td>24</td>\n",
       "      <td>2016-02-01</td>\n",
       "    </tr>\n",
       "  </tbody>\n",
       "</table>\n",
       "</div>"
      ],
      "text/plain": [
       "  TransactionID CustomerID CustomerDOB CustGender CustLocation  \\\n",
       "0            T1   C5841053  1994-10-01          F   JAMSHEDPUR   \n",
       "2            T3   C4417068  1996-11-26          F       MUMBAI   \n",
       "3            T4   C5342380  1973-09-14          F       MUMBAI   \n",
       "4            T5   C9031234  1988-03-24          F       MUMBAI   \n",
       "6            T7   C7126560  1992-01-26          F       MUMBAI   \n",
       "\n",
       "   CustAccountBalance TransactionDate  TransactionAmount (INR)  CustomerAge  \\\n",
       "0            17819.05      2016-02-08                     25.0           22   \n",
       "2            17874.44      2016-02-08                    459.0           20   \n",
       "3           866503.21      2016-02-08                   2060.0           43   \n",
       "4             6714.43      2016-02-08                   1762.5           28   \n",
       "6              973.46      2016-02-08                    566.0           24   \n",
       "\n",
       "  month_year  \n",
       "0 2016-02-01  \n",
       "2 2016-02-01  \n",
       "3 2016-02-01  \n",
       "4 2016-02-01  \n",
       "6 2016-02-01  "
      ]
     },
     "execution_count": 29,
     "metadata": {},
     "output_type": "execute_result"
    }
   ],
   "source": [
    "df['month_year'] = df['TransactionDate'].dt.strftime('%b %Y')\n",
    "df['month_year'] = pd.to_datetime(df['month_year'])\n",
    "df.head()"
   ]
  },
  {
   "cell_type": "code",
   "execution_count": 30,
   "metadata": {},
   "outputs": [
    {
     "data": {
      "text/html": [
       "<div>\n",
       "<style scoped>\n",
       "    .dataframe tbody tr th:only-of-type {\n",
       "        vertical-align: middle;\n",
       "    }\n",
       "\n",
       "    .dataframe tbody tr th {\n",
       "        vertical-align: top;\n",
       "    }\n",
       "\n",
       "    .dataframe thead th {\n",
       "        text-align: right;\n",
       "    }\n",
       "</style>\n",
       "<table border=\"1\" class=\"dataframe\">\n",
       "  <thead>\n",
       "    <tr style=\"text-align: right;\">\n",
       "      <th></th>\n",
       "      <th>Date</th>\n",
       "      <th>Amount</th>\n",
       "    </tr>\n",
       "  </thead>\n",
       "  <tbody>\n",
       "    <tr>\n",
       "      <th>0</th>\n",
       "      <td>2016-01-08</td>\n",
       "      <td>21410135.98</td>\n",
       "    </tr>\n",
       "    <tr>\n",
       "      <th>1</th>\n",
       "      <td>2016-01-09</td>\n",
       "      <td>23329591.09</td>\n",
       "    </tr>\n",
       "    <tr>\n",
       "      <th>2</th>\n",
       "      <td>2016-02-08</td>\n",
       "      <td>21895509.24</td>\n",
       "    </tr>\n",
       "    <tr>\n",
       "      <th>3</th>\n",
       "      <td>2016-02-09</td>\n",
       "      <td>25881037.38</td>\n",
       "    </tr>\n",
       "    <tr>\n",
       "      <th>4</th>\n",
       "      <td>2016-03-08</td>\n",
       "      <td>22305940.04</td>\n",
       "    </tr>\n",
       "  </tbody>\n",
       "</table>\n",
       "</div>"
      ],
      "text/plain": [
       "        Date       Amount\n",
       "0 2016-01-08  21410135.98\n",
       "1 2016-01-09  23329591.09\n",
       "2 2016-02-08  21895509.24\n",
       "3 2016-02-09  25881037.38\n",
       "4 2016-03-08  22305940.04"
      ]
     },
     "execution_count": 30,
     "metadata": {},
     "output_type": "execute_result"
    }
   ],
   "source": [
    "time = df.groupby('TransactionDate').agg({'TransactionAmount (INR)':'sum'})\n",
    "time = time.reset_index()\n",
    "time.columns = ['Date','Amount']\n",
    "time.head()"
   ]
  },
  {
   "cell_type": "code",
   "execution_count": 31,
   "metadata": {},
   "outputs": [
    {
     "data": {
      "text/html": [
       "<div>\n",
       "<style scoped>\n",
       "    .dataframe tbody tr th:only-of-type {\n",
       "        vertical-align: middle;\n",
       "    }\n",
       "\n",
       "    .dataframe tbody tr th {\n",
       "        vertical-align: top;\n",
       "    }\n",
       "\n",
       "    .dataframe thead th {\n",
       "        text-align: right;\n",
       "    }\n",
       "</style>\n",
       "<table border=\"1\" class=\"dataframe\">\n",
       "  <thead>\n",
       "    <tr style=\"text-align: right;\">\n",
       "      <th></th>\n",
       "      <th>Date</th>\n",
       "      <th>Amount</th>\n",
       "    </tr>\n",
       "  </thead>\n",
       "  <tbody>\n",
       "    <tr>\n",
       "      <th>0</th>\n",
       "      <td>2016-01-08</td>\n",
       "      <td>21410135.98</td>\n",
       "    </tr>\n",
       "    <tr>\n",
       "      <th>1</th>\n",
       "      <td>2016-01-09</td>\n",
       "      <td>23329591.09</td>\n",
       "    </tr>\n",
       "    <tr>\n",
       "      <th>2</th>\n",
       "      <td>2016-02-08</td>\n",
       "      <td>21895509.24</td>\n",
       "    </tr>\n",
       "    <tr>\n",
       "      <th>3</th>\n",
       "      <td>2016-02-09</td>\n",
       "      <td>25881037.38</td>\n",
       "    </tr>\n",
       "    <tr>\n",
       "      <th>4</th>\n",
       "      <td>2016-03-08</td>\n",
       "      <td>22305940.04</td>\n",
       "    </tr>\n",
       "  </tbody>\n",
       "</table>\n",
       "</div>"
      ],
      "text/plain": [
       "        Date       Amount\n",
       "0 2016-01-08  21410135.98\n",
       "1 2016-01-09  23329591.09\n",
       "2 2016-02-08  21895509.24\n",
       "3 2016-02-09  25881037.38\n",
       "4 2016-03-08  22305940.04"
      ]
     },
     "execution_count": 31,
     "metadata": {},
     "output_type": "execute_result"
    }
   ],
   "source": [
    "time.sort_values(by='Date', inplace=True, ascending=True)\n",
    "time.head()"
   ]
  },
  {
   "cell_type": "code",
   "execution_count": 32,
   "metadata": {},
   "outputs": [
    {
     "data": {
      "application/vnd.plotly.v1+json": {
       "config": {
        "plotlyServerURL": "https://plot.ly"
       },
       "data": [
        {
         "hovertemplate": "Date=%{x}<br>Amount=%{y}<extra></extra>",
         "legendgroup": "",
         "line": {
          "color": "#636efa",
          "dash": "solid"
         },
         "marker": {
          "symbol": "circle"
         },
         "mode": "lines",
         "name": "",
         "orientation": "v",
         "showlegend": false,
         "type": "scatter",
         "x": [
          "2016-01-08T00:00:00",
          "2016-01-09T00:00:00",
          "2016-02-08T00:00:00",
          "2016-02-09T00:00:00",
          "2016-03-08T00:00:00",
          "2016-03-09T00:00:00",
          "2016-04-08T00:00:00",
          "2016-04-09T00:00:00",
          "2016-05-08T00:00:00",
          "2016-05-09T00:00:00",
          "2016-06-08T00:00:00",
          "2016-06-09T00:00:00",
          "2016-07-08T00:00:00",
          "2016-07-09T00:00:00",
          "2016-08-08T00:00:00",
          "2016-08-09T00:00:00",
          "2016-08-13T00:00:00",
          "2016-08-14T00:00:00",
          "2016-08-15T00:00:00",
          "2016-08-16T00:00:00",
          "2016-08-17T00:00:00",
          "2016-08-18T00:00:00",
          "2016-08-19T00:00:00",
          "2016-08-20T00:00:00",
          "2016-08-21T00:00:00",
          "2016-08-22T00:00:00",
          "2016-08-23T00:00:00",
          "2016-08-24T00:00:00",
          "2016-08-25T00:00:00",
          "2016-08-26T00:00:00",
          "2016-08-27T00:00:00",
          "2016-08-28T00:00:00",
          "2016-08-29T00:00:00",
          "2016-08-30T00:00:00",
          "2016-08-31T00:00:00",
          "2016-09-08T00:00:00",
          "2016-09-09T00:00:00",
          "2016-09-13T00:00:00",
          "2016-09-14T00:00:00",
          "2016-09-15T00:00:00",
          "2016-09-18T00:00:00",
          "2016-09-22T00:00:00",
          "2016-09-23T00:00:00",
          "2016-09-25T00:00:00",
          "2016-09-26T00:00:00",
          "2016-09-27T00:00:00",
          "2016-09-30T00:00:00",
          "2016-10-08T00:00:00",
          "2016-10-09T00:00:00",
          "2016-10-16T00:00:00",
          "2016-10-21T00:00:00",
          "2016-11-08T00:00:00",
          "2016-11-09T00:00:00",
          "2016-12-08T00:00:00",
          "2016-12-09T00:00:00"
         ],
         "xaxis": "x",
         "y": [
          21410135.98,
          23329591.09,
          21895509.24,
          25881037.38,
          22305940.04,
          33775138.66,
          25761675.24,
          34592985.33,
          25846912.44,
          24105885.4,
          36207640.12,
          20380230.42,
          33720111.73,
          21624333.64,
          21419922.07,
          23826356.64,
          33413794.78,
          32860868.93,
          31924010.96,
          22378779.12,
          23265483.68,
          20962357.46,
          17974780.81,
          23923815.89,
          24253085.94,
          21130703.8,
          17983353.62,
          19318068.68,
          18882555.56,
          17396173.65,
          25715175.5,
          22891638.09,
          16036436.07,
          17248121.31,
          20086302.45,
          22837100.86,
          24039217.79,
          21387068.85,
          20213092.27,
          19746003.15,
          17146092.77,
          7740650.37,
          3223435.89,
          9325964.78,
          13578410.61,
          7108356.9,
          2184463.48,
          22889551.03,
          29055849.93,
          1042,
          5439611.12,
          22613273.29,
          30931059.53,
          24092558.92,
          21109087.74
         ],
         "yaxis": "y"
        }
       ],
       "layout": {
        "legend": {
         "tracegroupgap": 0
        },
        "template": {
         "data": {
          "bar": [
           {
            "error_x": {
             "color": "#2a3f5f"
            },
            "error_y": {
             "color": "#2a3f5f"
            },
            "marker": {
             "line": {
              "color": "#E5ECF6",
              "width": 0.5
             },
             "pattern": {
              "fillmode": "overlay",
              "size": 10,
              "solidity": 0.2
             }
            },
            "type": "bar"
           }
          ],
          "barpolar": [
           {
            "marker": {
             "line": {
              "color": "#E5ECF6",
              "width": 0.5
             },
             "pattern": {
              "fillmode": "overlay",
              "size": 10,
              "solidity": 0.2
             }
            },
            "type": "barpolar"
           }
          ],
          "carpet": [
           {
            "aaxis": {
             "endlinecolor": "#2a3f5f",
             "gridcolor": "white",
             "linecolor": "white",
             "minorgridcolor": "white",
             "startlinecolor": "#2a3f5f"
            },
            "baxis": {
             "endlinecolor": "#2a3f5f",
             "gridcolor": "white",
             "linecolor": "white",
             "minorgridcolor": "white",
             "startlinecolor": "#2a3f5f"
            },
            "type": "carpet"
           }
          ],
          "choropleth": [
           {
            "colorbar": {
             "outlinewidth": 0,
             "ticks": ""
            },
            "type": "choropleth"
           }
          ],
          "contour": [
           {
            "colorbar": {
             "outlinewidth": 0,
             "ticks": ""
            },
            "colorscale": [
             [
              0,
              "#0d0887"
             ],
             [
              0.1111111111111111,
              "#46039f"
             ],
             [
              0.2222222222222222,
              "#7201a8"
             ],
             [
              0.3333333333333333,
              "#9c179e"
             ],
             [
              0.4444444444444444,
              "#bd3786"
             ],
             [
              0.5555555555555556,
              "#d8576b"
             ],
             [
              0.6666666666666666,
              "#ed7953"
             ],
             [
              0.7777777777777778,
              "#fb9f3a"
             ],
             [
              0.8888888888888888,
              "#fdca26"
             ],
             [
              1,
              "#f0f921"
             ]
            ],
            "type": "contour"
           }
          ],
          "contourcarpet": [
           {
            "colorbar": {
             "outlinewidth": 0,
             "ticks": ""
            },
            "type": "contourcarpet"
           }
          ],
          "heatmap": [
           {
            "colorbar": {
             "outlinewidth": 0,
             "ticks": ""
            },
            "colorscale": [
             [
              0,
              "#0d0887"
             ],
             [
              0.1111111111111111,
              "#46039f"
             ],
             [
              0.2222222222222222,
              "#7201a8"
             ],
             [
              0.3333333333333333,
              "#9c179e"
             ],
             [
              0.4444444444444444,
              "#bd3786"
             ],
             [
              0.5555555555555556,
              "#d8576b"
             ],
             [
              0.6666666666666666,
              "#ed7953"
             ],
             [
              0.7777777777777778,
              "#fb9f3a"
             ],
             [
              0.8888888888888888,
              "#fdca26"
             ],
             [
              1,
              "#f0f921"
             ]
            ],
            "type": "heatmap"
           }
          ],
          "heatmapgl": [
           {
            "colorbar": {
             "outlinewidth": 0,
             "ticks": ""
            },
            "colorscale": [
             [
              0,
              "#0d0887"
             ],
             [
              0.1111111111111111,
              "#46039f"
             ],
             [
              0.2222222222222222,
              "#7201a8"
             ],
             [
              0.3333333333333333,
              "#9c179e"
             ],
             [
              0.4444444444444444,
              "#bd3786"
             ],
             [
              0.5555555555555556,
              "#d8576b"
             ],
             [
              0.6666666666666666,
              "#ed7953"
             ],
             [
              0.7777777777777778,
              "#fb9f3a"
             ],
             [
              0.8888888888888888,
              "#fdca26"
             ],
             [
              1,
              "#f0f921"
             ]
            ],
            "type": "heatmapgl"
           }
          ],
          "histogram": [
           {
            "marker": {
             "pattern": {
              "fillmode": "overlay",
              "size": 10,
              "solidity": 0.2
             }
            },
            "type": "histogram"
           }
          ],
          "histogram2d": [
           {
            "colorbar": {
             "outlinewidth": 0,
             "ticks": ""
            },
            "colorscale": [
             [
              0,
              "#0d0887"
             ],
             [
              0.1111111111111111,
              "#46039f"
             ],
             [
              0.2222222222222222,
              "#7201a8"
             ],
             [
              0.3333333333333333,
              "#9c179e"
             ],
             [
              0.4444444444444444,
              "#bd3786"
             ],
             [
              0.5555555555555556,
              "#d8576b"
             ],
             [
              0.6666666666666666,
              "#ed7953"
             ],
             [
              0.7777777777777778,
              "#fb9f3a"
             ],
             [
              0.8888888888888888,
              "#fdca26"
             ],
             [
              1,
              "#f0f921"
             ]
            ],
            "type": "histogram2d"
           }
          ],
          "histogram2dcontour": [
           {
            "colorbar": {
             "outlinewidth": 0,
             "ticks": ""
            },
            "colorscale": [
             [
              0,
              "#0d0887"
             ],
             [
              0.1111111111111111,
              "#46039f"
             ],
             [
              0.2222222222222222,
              "#7201a8"
             ],
             [
              0.3333333333333333,
              "#9c179e"
             ],
             [
              0.4444444444444444,
              "#bd3786"
             ],
             [
              0.5555555555555556,
              "#d8576b"
             ],
             [
              0.6666666666666666,
              "#ed7953"
             ],
             [
              0.7777777777777778,
              "#fb9f3a"
             ],
             [
              0.8888888888888888,
              "#fdca26"
             ],
             [
              1,
              "#f0f921"
             ]
            ],
            "type": "histogram2dcontour"
           }
          ],
          "mesh3d": [
           {
            "colorbar": {
             "outlinewidth": 0,
             "ticks": ""
            },
            "type": "mesh3d"
           }
          ],
          "parcoords": [
           {
            "line": {
             "colorbar": {
              "outlinewidth": 0,
              "ticks": ""
             }
            },
            "type": "parcoords"
           }
          ],
          "pie": [
           {
            "automargin": true,
            "type": "pie"
           }
          ],
          "scatter": [
           {
            "fillpattern": {
             "fillmode": "overlay",
             "size": 10,
             "solidity": 0.2
            },
            "type": "scatter"
           }
          ],
          "scatter3d": [
           {
            "line": {
             "colorbar": {
              "outlinewidth": 0,
              "ticks": ""
             }
            },
            "marker": {
             "colorbar": {
              "outlinewidth": 0,
              "ticks": ""
             }
            },
            "type": "scatter3d"
           }
          ],
          "scattercarpet": [
           {
            "marker": {
             "colorbar": {
              "outlinewidth": 0,
              "ticks": ""
             }
            },
            "type": "scattercarpet"
           }
          ],
          "scattergeo": [
           {
            "marker": {
             "colorbar": {
              "outlinewidth": 0,
              "ticks": ""
             }
            },
            "type": "scattergeo"
           }
          ],
          "scattergl": [
           {
            "marker": {
             "colorbar": {
              "outlinewidth": 0,
              "ticks": ""
             }
            },
            "type": "scattergl"
           }
          ],
          "scattermapbox": [
           {
            "marker": {
             "colorbar": {
              "outlinewidth": 0,
              "ticks": ""
             }
            },
            "type": "scattermapbox"
           }
          ],
          "scatterpolar": [
           {
            "marker": {
             "colorbar": {
              "outlinewidth": 0,
              "ticks": ""
             }
            },
            "type": "scatterpolar"
           }
          ],
          "scatterpolargl": [
           {
            "marker": {
             "colorbar": {
              "outlinewidth": 0,
              "ticks": ""
             }
            },
            "type": "scatterpolargl"
           }
          ],
          "scatterternary": [
           {
            "marker": {
             "colorbar": {
              "outlinewidth": 0,
              "ticks": ""
             }
            },
            "type": "scatterternary"
           }
          ],
          "surface": [
           {
            "colorbar": {
             "outlinewidth": 0,
             "ticks": ""
            },
            "colorscale": [
             [
              0,
              "#0d0887"
             ],
             [
              0.1111111111111111,
              "#46039f"
             ],
             [
              0.2222222222222222,
              "#7201a8"
             ],
             [
              0.3333333333333333,
              "#9c179e"
             ],
             [
              0.4444444444444444,
              "#bd3786"
             ],
             [
              0.5555555555555556,
              "#d8576b"
             ],
             [
              0.6666666666666666,
              "#ed7953"
             ],
             [
              0.7777777777777778,
              "#fb9f3a"
             ],
             [
              0.8888888888888888,
              "#fdca26"
             ],
             [
              1,
              "#f0f921"
             ]
            ],
            "type": "surface"
           }
          ],
          "table": [
           {
            "cells": {
             "fill": {
              "color": "#EBF0F8"
             },
             "line": {
              "color": "white"
             }
            },
            "header": {
             "fill": {
              "color": "#C8D4E3"
             },
             "line": {
              "color": "white"
             }
            },
            "type": "table"
           }
          ]
         },
         "layout": {
          "annotationdefaults": {
           "arrowcolor": "#2a3f5f",
           "arrowhead": 0,
           "arrowwidth": 1
          },
          "autotypenumbers": "strict",
          "coloraxis": {
           "colorbar": {
            "outlinewidth": 0,
            "ticks": ""
           }
          },
          "colorscale": {
           "diverging": [
            [
             0,
             "#8e0152"
            ],
            [
             0.1,
             "#c51b7d"
            ],
            [
             0.2,
             "#de77ae"
            ],
            [
             0.3,
             "#f1b6da"
            ],
            [
             0.4,
             "#fde0ef"
            ],
            [
             0.5,
             "#f7f7f7"
            ],
            [
             0.6,
             "#e6f5d0"
            ],
            [
             0.7,
             "#b8e186"
            ],
            [
             0.8,
             "#7fbc41"
            ],
            [
             0.9,
             "#4d9221"
            ],
            [
             1,
             "#276419"
            ]
           ],
           "sequential": [
            [
             0,
             "#0d0887"
            ],
            [
             0.1111111111111111,
             "#46039f"
            ],
            [
             0.2222222222222222,
             "#7201a8"
            ],
            [
             0.3333333333333333,
             "#9c179e"
            ],
            [
             0.4444444444444444,
             "#bd3786"
            ],
            [
             0.5555555555555556,
             "#d8576b"
            ],
            [
             0.6666666666666666,
             "#ed7953"
            ],
            [
             0.7777777777777778,
             "#fb9f3a"
            ],
            [
             0.8888888888888888,
             "#fdca26"
            ],
            [
             1,
             "#f0f921"
            ]
           ],
           "sequentialminus": [
            [
             0,
             "#0d0887"
            ],
            [
             0.1111111111111111,
             "#46039f"
            ],
            [
             0.2222222222222222,
             "#7201a8"
            ],
            [
             0.3333333333333333,
             "#9c179e"
            ],
            [
             0.4444444444444444,
             "#bd3786"
            ],
            [
             0.5555555555555556,
             "#d8576b"
            ],
            [
             0.6666666666666666,
             "#ed7953"
            ],
            [
             0.7777777777777778,
             "#fb9f3a"
            ],
            [
             0.8888888888888888,
             "#fdca26"
            ],
            [
             1,
             "#f0f921"
            ]
           ]
          },
          "colorway": [
           "#636efa",
           "#EF553B",
           "#00cc96",
           "#ab63fa",
           "#FFA15A",
           "#19d3f3",
           "#FF6692",
           "#B6E880",
           "#FF97FF",
           "#FECB52"
          ],
          "font": {
           "color": "#2a3f5f"
          },
          "geo": {
           "bgcolor": "white",
           "lakecolor": "white",
           "landcolor": "#E5ECF6",
           "showlakes": true,
           "showland": true,
           "subunitcolor": "white"
          },
          "hoverlabel": {
           "align": "left"
          },
          "hovermode": "closest",
          "mapbox": {
           "style": "light"
          },
          "paper_bgcolor": "white",
          "plot_bgcolor": "#E5ECF6",
          "polar": {
           "angularaxis": {
            "gridcolor": "white",
            "linecolor": "white",
            "ticks": ""
           },
           "bgcolor": "#E5ECF6",
           "radialaxis": {
            "gridcolor": "white",
            "linecolor": "white",
            "ticks": ""
           }
          },
          "scene": {
           "xaxis": {
            "backgroundcolor": "#E5ECF6",
            "gridcolor": "white",
            "gridwidth": 2,
            "linecolor": "white",
            "showbackground": true,
            "ticks": "",
            "zerolinecolor": "white"
           },
           "yaxis": {
            "backgroundcolor": "#E5ECF6",
            "gridcolor": "white",
            "gridwidth": 2,
            "linecolor": "white",
            "showbackground": true,
            "ticks": "",
            "zerolinecolor": "white"
           },
           "zaxis": {
            "backgroundcolor": "#E5ECF6",
            "gridcolor": "white",
            "gridwidth": 2,
            "linecolor": "white",
            "showbackground": true,
            "ticks": "",
            "zerolinecolor": "white"
           }
          },
          "shapedefaults": {
           "line": {
            "color": "#2a3f5f"
           }
          },
          "ternary": {
           "aaxis": {
            "gridcolor": "white",
            "linecolor": "white",
            "ticks": ""
           },
           "baxis": {
            "gridcolor": "white",
            "linecolor": "white",
            "ticks": ""
           },
           "bgcolor": "#E5ECF6",
           "caxis": {
            "gridcolor": "white",
            "linecolor": "white",
            "ticks": ""
           }
          },
          "title": {
           "x": 0.05
          },
          "xaxis": {
           "automargin": true,
           "gridcolor": "white",
           "linecolor": "white",
           "ticks": "",
           "title": {
            "standoff": 15
           },
           "zerolinecolor": "white",
           "zerolinewidth": 2
          },
          "yaxis": {
           "automargin": true,
           "gridcolor": "white",
           "linecolor": "white",
           "ticks": "",
           "title": {
            "standoff": 15
           },
           "zerolinecolor": "white",
           "zerolinewidth": 2
          }
         }
        },
        "title": {
         "text": "Total Amount Transacted over time"
        },
        "xaxis": {
         "anchor": "y",
         "domain": [
          0,
          1
         ],
         "title": {
          "text": "Date"
         }
        },
        "yaxis": {
         "anchor": "x",
         "domain": [
          0,
          1
         ],
         "title": {
          "text": "Amount"
         }
        }
       }
      }
     },
     "metadata": {},
     "output_type": "display_data"
    }
   ],
   "source": [
    "fig = px.line(time, x='Date', y='Amount', title='Total Amount Transacted over time')\n",
    "fig.show()"
   ]
  },
  {
   "attachments": {},
   "cell_type": "markdown",
   "metadata": {},
   "source": [
    "no consistent patterns in the transaction amount over the years"
   ]
  },
  {
   "attachments": {},
   "cell_type": "markdown",
   "metadata": {},
   "source": [
    "## Account balance Analysis"
   ]
  },
  {
   "cell_type": "code",
   "execution_count": 33,
   "metadata": {},
   "outputs": [
    {
     "data": {
      "text/html": [
       "<div>\n",
       "<style scoped>\n",
       "    .dataframe tbody tr th:only-of-type {\n",
       "        vertical-align: middle;\n",
       "    }\n",
       "\n",
       "    .dataframe tbody tr th {\n",
       "        vertical-align: top;\n",
       "    }\n",
       "\n",
       "    .dataframe thead th {\n",
       "        text-align: right;\n",
       "    }\n",
       "</style>\n",
       "<table border=\"1\" class=\"dataframe\">\n",
       "  <thead>\n",
       "    <tr style=\"text-align: right;\">\n",
       "      <th></th>\n",
       "      <th>CustomerID</th>\n",
       "      <th>AccountBalance</th>\n",
       "      <th>CustomerAge</th>\n",
       "      <th>TransactionCount</th>\n",
       "      <th>TransactionAmount</th>\n",
       "    </tr>\n",
       "  </thead>\n",
       "  <tbody>\n",
       "    <tr>\n",
       "      <th>0</th>\n",
       "      <td>C1010011</td>\n",
       "      <td>76340.635</td>\n",
       "      <td>28.5</td>\n",
       "      <td>2</td>\n",
       "      <td>2553.0</td>\n",
       "    </tr>\n",
       "    <tr>\n",
       "      <th>1</th>\n",
       "      <td>C1010012</td>\n",
       "      <td>24204.490</td>\n",
       "      <td>22.0</td>\n",
       "      <td>1</td>\n",
       "      <td>1499.0</td>\n",
       "    </tr>\n",
       "    <tr>\n",
       "      <th>2</th>\n",
       "      <td>C1010014</td>\n",
       "      <td>100112.950</td>\n",
       "      <td>28.0</td>\n",
       "      <td>2</td>\n",
       "      <td>727.5</td>\n",
       "    </tr>\n",
       "    <tr>\n",
       "      <th>3</th>\n",
       "      <td>C1010018</td>\n",
       "      <td>496.180</td>\n",
       "      <td>26.0</td>\n",
       "      <td>1</td>\n",
       "      <td>30.0</td>\n",
       "    </tr>\n",
       "    <tr>\n",
       "      <th>4</th>\n",
       "      <td>C1010028</td>\n",
       "      <td>296828.370</td>\n",
       "      <td>28.0</td>\n",
       "      <td>1</td>\n",
       "      <td>557.0</td>\n",
       "    </tr>\n",
       "  </tbody>\n",
       "</table>\n",
       "</div>"
      ],
      "text/plain": [
       "  CustomerID  AccountBalance  CustomerAge  TransactionCount  TransactionAmount\n",
       "0   C1010011       76340.635         28.5                 2             2553.0\n",
       "1   C1010012       24204.490         22.0                 1             1499.0\n",
       "2   C1010014      100112.950         28.0                 2              727.5\n",
       "3   C1010018         496.180         26.0                 1               30.0\n",
       "4   C1010028      296828.370         28.0                 1              557.0"
      ]
     },
     "execution_count": 33,
     "metadata": {},
     "output_type": "execute_result"
    }
   ],
   "source": [
    "acc_bal = df.groupby('CustomerID').agg({'CustAccountBalance':'mean','CustomerAge':'mean', 'TransactionID':'count', 'TransactionAmount (INR)':'mean'})\n",
    "acc_bal = acc_bal.reset_index()\n",
    "acc_bal.columns = ['CustomerID','AccountBalance','CustomerAge', 'TransactionCount', 'TransactionAmount']\n",
    "acc_bal.head()"
   ]
  },
  {
   "cell_type": "code",
   "execution_count": 34,
   "metadata": {},
   "outputs": [
    {
     "data": {
      "text/html": [
       "<div>\n",
       "<style scoped>\n",
       "    .dataframe tbody tr th:only-of-type {\n",
       "        vertical-align: middle;\n",
       "    }\n",
       "\n",
       "    .dataframe tbody tr th {\n",
       "        vertical-align: top;\n",
       "    }\n",
       "\n",
       "    .dataframe thead th {\n",
       "        text-align: right;\n",
       "    }\n",
       "</style>\n",
       "<table border=\"1\" class=\"dataframe\">\n",
       "  <thead>\n",
       "    <tr style=\"text-align: right;\">\n",
       "      <th></th>\n",
       "      <th>CustomerID</th>\n",
       "      <th>AccountBalance</th>\n",
       "      <th>CustomerAge</th>\n",
       "      <th>TransactionCount</th>\n",
       "      <th>TransactionAmount</th>\n",
       "      <th>AccountBalanceCategory</th>\n",
       "    </tr>\n",
       "  </thead>\n",
       "  <tbody>\n",
       "    <tr>\n",
       "      <th>0</th>\n",
       "      <td>C1010011</td>\n",
       "      <td>76340.635</td>\n",
       "      <td>28.5</td>\n",
       "      <td>2</td>\n",
       "      <td>2553.0</td>\n",
       "      <td>Very High</td>\n",
       "    </tr>\n",
       "    <tr>\n",
       "      <th>1</th>\n",
       "      <td>C1010012</td>\n",
       "      <td>24204.490</td>\n",
       "      <td>22.0</td>\n",
       "      <td>1</td>\n",
       "      <td>1499.0</td>\n",
       "      <td>Medium</td>\n",
       "    </tr>\n",
       "    <tr>\n",
       "      <th>2</th>\n",
       "      <td>C1010014</td>\n",
       "      <td>100112.950</td>\n",
       "      <td>28.0</td>\n",
       "      <td>2</td>\n",
       "      <td>727.5</td>\n",
       "      <td>Very High</td>\n",
       "    </tr>\n",
       "    <tr>\n",
       "      <th>3</th>\n",
       "      <td>C1010018</td>\n",
       "      <td>496.180</td>\n",
       "      <td>26.0</td>\n",
       "      <td>1</td>\n",
       "      <td>30.0</td>\n",
       "      <td>Very Low</td>\n",
       "    </tr>\n",
       "    <tr>\n",
       "      <th>4</th>\n",
       "      <td>C1010028</td>\n",
       "      <td>296828.370</td>\n",
       "      <td>28.0</td>\n",
       "      <td>1</td>\n",
       "      <td>557.0</td>\n",
       "      <td>Very High</td>\n",
       "    </tr>\n",
       "  </tbody>\n",
       "</table>\n",
       "</div>"
      ],
      "text/plain": [
       "  CustomerID  AccountBalance  CustomerAge  TransactionCount  \\\n",
       "0   C1010011       76340.635         28.5                 2   \n",
       "1   C1010012       24204.490         22.0                 1   \n",
       "2   C1010014      100112.950         28.0                 2   \n",
       "3   C1010018         496.180         26.0                 1   \n",
       "4   C1010028      296828.370         28.0                 1   \n",
       "\n",
       "   TransactionAmount AccountBalanceCategory  \n",
       "0             2553.0              Very High  \n",
       "1             1499.0                 Medium  \n",
       "2              727.5              Very High  \n",
       "3               30.0               Very Low  \n",
       "4              557.0              Very High  "
      ]
     },
     "execution_count": 34,
     "metadata": {},
     "output_type": "execute_result"
    }
   ],
   "source": [
    "acc_bal['AccountBalanceCategory'] = pd.qcut(acc_bal['AccountBalance'], 5, labels=['Very Low', 'Low', 'Medium', 'High', 'Very High'])\n",
    "acc_bal.head()\n"
   ]
  },
  {
   "cell_type": "code",
   "execution_count": 35,
   "metadata": {},
   "outputs": [
    {
     "data": {
      "text/html": [
       "<div>\n",
       "<style scoped>\n",
       "    .dataframe tbody tr th:only-of-type {\n",
       "        vertical-align: middle;\n",
       "    }\n",
       "\n",
       "    .dataframe tbody tr th {\n",
       "        vertical-align: top;\n",
       "    }\n",
       "\n",
       "    .dataframe thead th {\n",
       "        text-align: right;\n",
       "    }\n",
       "</style>\n",
       "<table border=\"1\" class=\"dataframe\">\n",
       "  <thead>\n",
       "    <tr style=\"text-align: right;\">\n",
       "      <th></th>\n",
       "      <th>AccountBalanceCategory</th>\n",
       "      <th>MeanAccountBalance</th>\n",
       "      <th>MeanCustomerAge</th>\n",
       "      <th>NoOfCustomers</th>\n",
       "      <th>NoOfTransactions</th>\n",
       "      <th>MeanTransactionAmount</th>\n",
       "    </tr>\n",
       "  </thead>\n",
       "  <tbody>\n",
       "    <tr>\n",
       "      <th>0</th>\n",
       "      <td>Very Low</td>\n",
       "      <td>1040.510677</td>\n",
       "      <td>27.621365</td>\n",
       "      <td>155357</td>\n",
       "      <td>164267</td>\n",
       "      <td>816.967407</td>\n",
       "    </tr>\n",
       "    <tr>\n",
       "      <th>1</th>\n",
       "      <td>Low</td>\n",
       "      <td>6822.853356</td>\n",
       "      <td>27.866180</td>\n",
       "      <td>155358</td>\n",
       "      <td>178071</td>\n",
       "      <td>896.732190</td>\n",
       "    </tr>\n",
       "    <tr>\n",
       "      <th>2</th>\n",
       "      <td>Medium</td>\n",
       "      <td>16615.474516</td>\n",
       "      <td>28.743552</td>\n",
       "      <td>155365</td>\n",
       "      <td>184692</td>\n",
       "      <td>1065.786527</td>\n",
       "    </tr>\n",
       "    <tr>\n",
       "      <th>3</th>\n",
       "      <td>High</td>\n",
       "      <td>41010.005401</td>\n",
       "      <td>29.711598</td>\n",
       "      <td>155346</td>\n",
       "      <td>187632</td>\n",
       "      <td>1469.998931</td>\n",
       "    </tr>\n",
       "    <tr>\n",
       "      <th>4</th>\n",
       "      <td>Very High</td>\n",
       "      <td>343204.021500</td>\n",
       "      <td>31.190976</td>\n",
       "      <td>155357</td>\n",
       "      <td>185697</td>\n",
       "      <td>2243.717150</td>\n",
       "    </tr>\n",
       "  </tbody>\n",
       "</table>\n",
       "</div>"
      ],
      "text/plain": [
       "  AccountBalanceCategory  MeanAccountBalance  MeanCustomerAge  NoOfCustomers  \\\n",
       "0               Very Low         1040.510677        27.621365         155357   \n",
       "1                    Low         6822.853356        27.866180         155358   \n",
       "2                 Medium        16615.474516        28.743552         155365   \n",
       "3                   High        41010.005401        29.711598         155346   \n",
       "4              Very High       343204.021500        31.190976         155357   \n",
       "\n",
       "   NoOfTransactions  MeanTransactionAmount  \n",
       "0            164267             816.967407  \n",
       "1            178071             896.732190  \n",
       "2            184692            1065.786527  \n",
       "3            187632            1469.998931  \n",
       "4            185697            2243.717150  "
      ]
     },
     "execution_count": 35,
     "metadata": {},
     "output_type": "execute_result"
    }
   ],
   "source": [
    "mean_acc_bal = acc_bal.groupby('AccountBalanceCategory').agg({'AccountBalance':'mean','CustomerAge':'mean' ,'CustomerID':'count', 'TransactionCount':'sum', 'TransactionAmount':'mean'})\n",
    "mean_acc_bal = mean_acc_bal.reset_index()\n",
    "mean_acc_bal.columns = ['AccountBalanceCategory','MeanAccountBalance','MeanCustomerAge', 'NoOfCustomers', 'NoOfTransactions', 'MeanTransactionAmount']\n",
    "mean_acc_bal"
   ]
  },
  {
   "cell_type": "code",
   "execution_count": 36,
   "metadata": {},
   "outputs": [
    {
     "data": {
      "image/png": "[encoded data removed]",
      "text/plain": [
       "<Figure size 3000x1000 with 5 Axes>"
      ]
     },
     "metadata": {},
     "output_type": "display_data"
    }
   ],
   "source": [
    "features = ['MeanAccountBalance', 'MeanCustomerAge','NoOfCustomers', 'NoOfTransactions', 'MeanTransactionAmount']\n",
    "\n",
    "fig, ax = plt.subplots(1, 5, figsize=(30, 10))\n",
    "\n",
    "for i, feature in enumerate(features):\n",
    "    sns.barplot(x='AccountBalanceCategory', y=feature, data=mean_acc_bal, ax=ax[i])"
   ]
  },
  {
   "cell_type": "code",
   "execution_count": 37,
   "metadata": {},
   "outputs": [
    {
     "data": {
      "text/plain": [
       "114611     0\n",
       "128470     0\n",
       "970045     1\n",
       "882917     1\n",
       "286801     1\n",
       "          ..\n",
       "361075    43\n",
       "772810    43\n",
       "570529    43\n",
       "361052    43\n",
       "217340    43\n",
       "Name: CustomerAge, Length: 900359, dtype: int64"
      ]
     },
     "execution_count": 37,
     "metadata": {},
     "output_type": "execute_result"
    }
   ],
   "source": [
    "df['CustomerAge'].sort_values(ascending=True)"
   ]
  },
  {
   "attachments": {},
   "cell_type": "markdown",
   "metadata": {},
   "source": [
    "## Customer Age analysis"
   ]
  },
  {
   "cell_type": "code",
   "execution_count": 38,
   "metadata": {},
   "outputs": [
    {
     "data": {
      "text/html": [
       "<div>\n",
       "<style scoped>\n",
       "    .dataframe tbody tr th:only-of-type {\n",
       "        vertical-align: middle;\n",
       "    }\n",
       "\n",
       "    .dataframe tbody tr th {\n",
       "        vertical-align: top;\n",
       "    }\n",
       "\n",
       "    .dataframe thead th {\n",
       "        text-align: right;\n",
       "    }\n",
       "</style>\n",
       "<table border=\"1\" class=\"dataframe\">\n",
       "  <thead>\n",
       "    <tr style=\"text-align: right;\">\n",
       "      <th></th>\n",
       "      <th>CustomerID</th>\n",
       "      <th>Age</th>\n",
       "      <th>AccountBalance</th>\n",
       "      <th>NoOfTransactions</th>\n",
       "      <th>TransactionAmount</th>\n",
       "    </tr>\n",
       "  </thead>\n",
       "  <tbody>\n",
       "    <tr>\n",
       "      <th>0</th>\n",
       "      <td>C1010011</td>\n",
       "      <td>28.5</td>\n",
       "      <td>76340.635</td>\n",
       "      <td>2</td>\n",
       "      <td>2553.0</td>\n",
       "    </tr>\n",
       "    <tr>\n",
       "      <th>1</th>\n",
       "      <td>C1010012</td>\n",
       "      <td>22.0</td>\n",
       "      <td>24204.490</td>\n",
       "      <td>1</td>\n",
       "      <td>1499.0</td>\n",
       "    </tr>\n",
       "    <tr>\n",
       "      <th>2</th>\n",
       "      <td>C1010014</td>\n",
       "      <td>28.0</td>\n",
       "      <td>100112.950</td>\n",
       "      <td>2</td>\n",
       "      <td>727.5</td>\n",
       "    </tr>\n",
       "    <tr>\n",
       "      <th>3</th>\n",
       "      <td>C1010018</td>\n",
       "      <td>26.0</td>\n",
       "      <td>496.180</td>\n",
       "      <td>1</td>\n",
       "      <td>30.0</td>\n",
       "    </tr>\n",
       "    <tr>\n",
       "      <th>4</th>\n",
       "      <td>C1010028</td>\n",
       "      <td>28.0</td>\n",
       "      <td>296828.370</td>\n",
       "      <td>1</td>\n",
       "      <td>557.0</td>\n",
       "    </tr>\n",
       "  </tbody>\n",
       "</table>\n",
       "</div>"
      ],
      "text/plain": [
       "  CustomerID   Age  AccountBalance  NoOfTransactions  TransactionAmount\n",
       "0   C1010011  28.5       76340.635                 2             2553.0\n",
       "1   C1010012  22.0       24204.490                 1             1499.0\n",
       "2   C1010014  28.0      100112.950                 2              727.5\n",
       "3   C1010018  26.0         496.180                 1               30.0\n",
       "4   C1010028  28.0      296828.370                 1              557.0"
      ]
     },
     "execution_count": 38,
     "metadata": {},
     "output_type": "execute_result"
    }
   ],
   "source": [
    "age = df.groupby('CustomerID').agg({'CustomerAge':'mean','CustAccountBalance':'mean', 'TransactionID':'count', 'TransactionAmount (INR)':'mean'})\n",
    "age.reset_index(inplace=True)\n",
    "age.columns = ['CustomerID','Age', 'AccountBalance', 'NoOfTransactions', 'TransactionAmount']\n",
    "age.head()"
   ]
  },
  {
   "cell_type": "code",
   "execution_count": 39,
   "metadata": {},
   "outputs": [
    {
     "data": {
      "text/plain": [
       "180332     0.0\n",
       "573338     0.0\n",
       "103917     1.0\n",
       "265692     1.0\n",
       "733652     1.0\n",
       "          ... \n",
       "664848    43.0\n",
       "607549    43.0\n",
       "428541    43.0\n",
       "720554    43.0\n",
       "561315    43.0\n",
       "Name: Age, Length: 776783, dtype: float64"
      ]
     },
     "execution_count": 39,
     "metadata": {},
     "output_type": "execute_result"
    }
   ],
   "source": [
    "age['Age'].sort_values(ascending=True)"
   ]
  },
  {
   "cell_type": "code",
   "execution_count": 40,
   "metadata": {},
   "outputs": [
    {
     "data": {
      "text/html": [
       "<div>\n",
       "<style scoped>\n",
       "    .dataframe tbody tr th:only-of-type {\n",
       "        vertical-align: middle;\n",
       "    }\n",
       "\n",
       "    .dataframe tbody tr th {\n",
       "        vertical-align: top;\n",
       "    }\n",
       "\n",
       "    .dataframe thead th {\n",
       "        text-align: right;\n",
       "    }\n",
       "</style>\n",
       "<table border=\"1\" class=\"dataframe\">\n",
       "  <thead>\n",
       "    <tr style=\"text-align: right;\">\n",
       "      <th></th>\n",
       "      <th>CustomerID</th>\n",
       "      <th>Age</th>\n",
       "      <th>AccountBalance</th>\n",
       "      <th>NoOfTransactions</th>\n",
       "      <th>TransactionAmount</th>\n",
       "      <th>AgeCategory</th>\n",
       "    </tr>\n",
       "  </thead>\n",
       "  <tbody>\n",
       "    <tr>\n",
       "      <th>0</th>\n",
       "      <td>C1010011</td>\n",
       "      <td>28.5</td>\n",
       "      <td>76340.635</td>\n",
       "      <td>2</td>\n",
       "      <td>2553.0</td>\n",
       "      <td>20-30</td>\n",
       "    </tr>\n",
       "    <tr>\n",
       "      <th>1</th>\n",
       "      <td>C1010012</td>\n",
       "      <td>22.0</td>\n",
       "      <td>24204.490</td>\n",
       "      <td>1</td>\n",
       "      <td>1499.0</td>\n",
       "      <td>20-30</td>\n",
       "    </tr>\n",
       "    <tr>\n",
       "      <th>2</th>\n",
       "      <td>C1010014</td>\n",
       "      <td>28.0</td>\n",
       "      <td>100112.950</td>\n",
       "      <td>2</td>\n",
       "      <td>727.5</td>\n",
       "      <td>20-30</td>\n",
       "    </tr>\n",
       "    <tr>\n",
       "      <th>3</th>\n",
       "      <td>C1010018</td>\n",
       "      <td>26.0</td>\n",
       "      <td>496.180</td>\n",
       "      <td>1</td>\n",
       "      <td>30.0</td>\n",
       "      <td>20-30</td>\n",
       "    </tr>\n",
       "    <tr>\n",
       "      <th>4</th>\n",
       "      <td>C1010028</td>\n",
       "      <td>28.0</td>\n",
       "      <td>296828.370</td>\n",
       "      <td>1</td>\n",
       "      <td>557.0</td>\n",
       "      <td>20-30</td>\n",
       "    </tr>\n",
       "  </tbody>\n",
       "</table>\n",
       "</div>"
      ],
      "text/plain": [
       "  CustomerID   Age  AccountBalance  NoOfTransactions  TransactionAmount  \\\n",
       "0   C1010011  28.5       76340.635                 2             2553.0   \n",
       "1   C1010012  22.0       24204.490                 1             1499.0   \n",
       "2   C1010014  28.0      100112.950                 2              727.5   \n",
       "3   C1010018  26.0         496.180                 1               30.0   \n",
       "4   C1010028  28.0      296828.370                 1              557.0   \n",
       "\n",
       "  AgeCategory  \n",
       "0       20-30  \n",
       "1       20-30  \n",
       "2       20-30  \n",
       "3       20-30  \n",
       "4       20-30  "
      ]
     },
     "execution_count": 40,
     "metadata": {},
     "output_type": "execute_result"
    }
   ],
   "source": [
    "bins = [10, 20, 30, 40, 50]\n",
    "labels = ['10-20', '20-30', '30-40', '40-50']\n",
    "\n",
    "age['AgeCategory'] = pd.cut(x=age['Age'], bins=bins, labels=labels)\n",
    "age.head()"
   ]
  },
  {
   "cell_type": "code",
   "execution_count": 41,
   "metadata": {},
   "outputs": [
    {
     "data": {
      "text/plain": [
       "<Axes: xlabel='AgeCategory', ylabel='AccountBalance'>"
      ]
     },
     "execution_count": 41,
     "metadata": {},
     "output_type": "execute_result"
    },
    {
     "data": {
      "image/png": "[encoded data removed]",
      "text/plain": [
       "<Figure size 640x480 with 1 Axes>"
      ]
     },
     "metadata": {},
     "output_type": "display_data"
    }
   ],
   "source": [
    "sns.barplot(x='AgeCategory', y='AccountBalance', data=age)"
   ]
  },
  {
   "cell_type": "code",
   "execution_count": 42,
   "metadata": {},
   "outputs": [
    {
     "data": {
      "text/html": [
       "<div>\n",
       "<style scoped>\n",
       "    .dataframe tbody tr th:only-of-type {\n",
       "        vertical-align: middle;\n",
       "    }\n",
       "\n",
       "    .dataframe tbody tr th {\n",
       "        vertical-align: top;\n",
       "    }\n",
       "\n",
       "    .dataframe thead th {\n",
       "        text-align: right;\n",
       "    }\n",
       "</style>\n",
       "<table border=\"1\" class=\"dataframe\">\n",
       "  <thead>\n",
       "    <tr style=\"text-align: right;\">\n",
       "      <th></th>\n",
       "      <th>AgeCategory</th>\n",
       "      <th>MeanAccountBalance</th>\n",
       "      <th>NoOfCustomers</th>\n",
       "      <th>NoOfTransactions</th>\n",
       "      <th>MeanTransactionAmount</th>\n",
       "    </tr>\n",
       "  </thead>\n",
       "  <tbody>\n",
       "    <tr>\n",
       "      <th>0</th>\n",
       "      <td>10-20</td>\n",
       "      <td>29239.786687</td>\n",
       "      <td>17118</td>\n",
       "      <td>17359</td>\n",
       "      <td>847.898291</td>\n",
       "    </tr>\n",
       "    <tr>\n",
       "      <th>1</th>\n",
       "      <td>20-30</td>\n",
       "      <td>53594.343960</td>\n",
       "      <td>487681</td>\n",
       "      <td>566861</td>\n",
       "      <td>1055.358987</td>\n",
       "    </tr>\n",
       "    <tr>\n",
       "      <th>2</th>\n",
       "      <td>30-40</td>\n",
       "      <td>123562.074524</td>\n",
       "      <td>246861</td>\n",
       "      <td>290609</td>\n",
       "      <td>1706.035725</td>\n",
       "    </tr>\n",
       "    <tr>\n",
       "      <th>3</th>\n",
       "      <td>40-50</td>\n",
       "      <td>253923.021049</td>\n",
       "      <td>24963</td>\n",
       "      <td>25370</td>\n",
       "      <td>2322.611879</td>\n",
       "    </tr>\n",
       "  </tbody>\n",
       "</table>\n",
       "</div>"
      ],
      "text/plain": [
       "  AgeCategory  MeanAccountBalance  NoOfCustomers  NoOfTransactions  \\\n",
       "0       10-20        29239.786687          17118             17359   \n",
       "1       20-30        53594.343960         487681            566861   \n",
       "2       30-40       123562.074524         246861            290609   \n",
       "3       40-50       253923.021049          24963             25370   \n",
       "\n",
       "   MeanTransactionAmount  \n",
       "0             847.898291  \n",
       "1            1055.358987  \n",
       "2            1706.035725  \n",
       "3            2322.611879  "
      ]
     },
     "execution_count": 42,
     "metadata": {},
     "output_type": "execute_result"
    }
   ],
   "source": [
    "mean_age = age.groupby('AgeCategory').agg({'AccountBalance':'mean','CustomerID':'count', 'NoOfTransactions':'sum', 'TransactionAmount':'mean'})\n",
    "mean_age = mean_age.reset_index()\n",
    "mean_age.columns = ['AgeCategory','MeanAccountBalance', 'NoOfCustomers', 'NoOfTransactions', 'MeanTransactionAmount']\n",
    "mean_age"
   ]
  },
  {
   "cell_type": "code",
   "execution_count": 43,
   "metadata": {},
   "outputs": [
    {
     "data": {
      "image/png": "[encoded data removed]",
      "text/plain": [
       "<Figure size 2500x1000 with 4 Axes>"
      ]
     },
     "metadata": {},
     "output_type": "display_data"
    }
   ],
   "source": [
    "features = ['MeanAccountBalance','NoOfCustomers','NoOfTransactions','MeanTransactionAmount']\n",
    "\n",
    "fig, ax = plt.subplots(1, 4, figsize=(25, 10))\n",
    "\n",
    "for i, feature in enumerate(features):\n",
    "    sns.barplot(x='AgeCategory', y=feature, data=mean_age, ax=ax[i])"
   ]
  },
  {
   "cell_type": "code",
   "execution_count": 44,
   "metadata": {},
   "outputs": [
    {
     "data": {
      "text/html": [
       "<div>\n",
       "<style scoped>\n",
       "    .dataframe tbody tr th:only-of-type {\n",
       "        vertical-align: middle;\n",
       "    }\n",
       "\n",
       "    .dataframe tbody tr th {\n",
       "        vertical-align: top;\n",
       "    }\n",
       "\n",
       "    .dataframe thead th {\n",
       "        text-align: right;\n",
       "    }\n",
       "</style>\n",
       "<table border=\"1\" class=\"dataframe\">\n",
       "  <thead>\n",
       "    <tr style=\"text-align: right;\">\n",
       "      <th></th>\n",
       "      <th>TransactionID</th>\n",
       "      <th>CustomerID</th>\n",
       "      <th>CustomerDOB</th>\n",
       "      <th>CustGender</th>\n",
       "      <th>CustLocation</th>\n",
       "      <th>CustAccountBalance</th>\n",
       "      <th>TransactionDate</th>\n",
       "      <th>TransactionAmount (INR)</th>\n",
       "      <th>CustomerAge</th>\n",
       "      <th>month_year</th>\n",
       "    </tr>\n",
       "  </thead>\n",
       "  <tbody>\n",
       "    <tr>\n",
       "      <th>0</th>\n",
       "      <td>T1</td>\n",
       "      <td>C5841053</td>\n",
       "      <td>1994-10-01</td>\n",
       "      <td>F</td>\n",
       "      <td>JAMSHEDPUR</td>\n",
       "      <td>17819.05</td>\n",
       "      <td>2016-02-08</td>\n",
       "      <td>25.0</td>\n",
       "      <td>22</td>\n",
       "      <td>2016-02-01</td>\n",
       "    </tr>\n",
       "    <tr>\n",
       "      <th>2</th>\n",
       "      <td>T3</td>\n",
       "      <td>C4417068</td>\n",
       "      <td>1996-11-26</td>\n",
       "      <td>F</td>\n",
       "      <td>MUMBAI</td>\n",
       "      <td>17874.44</td>\n",
       "      <td>2016-02-08</td>\n",
       "      <td>459.0</td>\n",
       "      <td>20</td>\n",
       "      <td>2016-02-01</td>\n",
       "    </tr>\n",
       "    <tr>\n",
       "      <th>3</th>\n",
       "      <td>T4</td>\n",
       "      <td>C5342380</td>\n",
       "      <td>1973-09-14</td>\n",
       "      <td>F</td>\n",
       "      <td>MUMBAI</td>\n",
       "      <td>866503.21</td>\n",
       "      <td>2016-02-08</td>\n",
       "      <td>2060.0</td>\n",
       "      <td>43</td>\n",
       "      <td>2016-02-01</td>\n",
       "    </tr>\n",
       "    <tr>\n",
       "      <th>4</th>\n",
       "      <td>T5</td>\n",
       "      <td>C9031234</td>\n",
       "      <td>1988-03-24</td>\n",
       "      <td>F</td>\n",
       "      <td>MUMBAI</td>\n",
       "      <td>6714.43</td>\n",
       "      <td>2016-02-08</td>\n",
       "      <td>1762.5</td>\n",
       "      <td>28</td>\n",
       "      <td>2016-02-01</td>\n",
       "    </tr>\n",
       "    <tr>\n",
       "      <th>6</th>\n",
       "      <td>T7</td>\n",
       "      <td>C7126560</td>\n",
       "      <td>1992-01-26</td>\n",
       "      <td>F</td>\n",
       "      <td>MUMBAI</td>\n",
       "      <td>973.46</td>\n",
       "      <td>2016-02-08</td>\n",
       "      <td>566.0</td>\n",
       "      <td>24</td>\n",
       "      <td>2016-02-01</td>\n",
       "    </tr>\n",
       "  </tbody>\n",
       "</table>\n",
       "</div>"
      ],
      "text/plain": [
       "  TransactionID CustomerID CustomerDOB CustGender CustLocation  \\\n",
       "0            T1   C5841053  1994-10-01          F   JAMSHEDPUR   \n",
       "2            T3   C4417068  1996-11-26          F       MUMBAI   \n",
       "3            T4   C5342380  1973-09-14          F       MUMBAI   \n",
       "4            T5   C9031234  1988-03-24          F       MUMBAI   \n",
       "6            T7   C7126560  1992-01-26          F       MUMBAI   \n",
       "\n",
       "   CustAccountBalance TransactionDate  TransactionAmount (INR)  CustomerAge  \\\n",
       "0            17819.05      2016-02-08                     25.0           22   \n",
       "2            17874.44      2016-02-08                    459.0           20   \n",
       "3           866503.21      2016-02-08                   2060.0           43   \n",
       "4             6714.43      2016-02-08                   1762.5           28   \n",
       "6              973.46      2016-02-08                    566.0           24   \n",
       "\n",
       "  month_year  \n",
       "0 2016-02-01  \n",
       "2 2016-02-01  \n",
       "3 2016-02-01  \n",
       "4 2016-02-01  \n",
       "6 2016-02-01  "
      ]
     },
     "execution_count": 44,
     "metadata": {},
     "output_type": "execute_result"
    }
   ],
   "source": [
    "df.head()"
   ]
  },
  {
   "cell_type": "code",
   "execution_count": 45,
   "metadata": {},
   "outputs": [
    {
     "name": "stdout",
     "output_type": "stream",
     "text": [
      "<class 'pandas.core.frame.DataFrame'>\n",
      "Int64Index: 900359 entries, 0 to 1048566\n",
      "Data columns (total 10 columns):\n",
      " #   Column                   Non-Null Count   Dtype         \n",
      "---  ------                   --------------   -----         \n",
      " 0   TransactionID            900359 non-null  object        \n",
      " 1   CustomerID               900359 non-null  object        \n",
      " 2   CustomerDOB              900359 non-null  datetime64[ns]\n",
      " 3   CustGender               900359 non-null  object        \n",
      " 4   CustLocation             900359 non-null  object        \n",
      " 5   CustAccountBalance       900359 non-null  float64       \n",
      " 6   TransactionDate          900359 non-null  datetime64[ns]\n",
      " 7   TransactionAmount (INR)  900359 non-null  float64       \n",
      " 8   CustomerAge              900359 non-null  int64         \n",
      " 9   month_year               900359 non-null  datetime64[ns]\n",
      "dtypes: datetime64[ns](3), float64(2), int64(1), object(4)\n",
      "memory usage: 75.6+ MB\n"
     ]
    }
   ],
   "source": [
    "df.info()"
   ]
  },
  {
   "cell_type": "code",
   "execution_count": 46,
   "metadata": {},
   "outputs": [],
   "source": [
    "df.to_csv('data/cleaned_data.csv', index=False)"
   ]
  },
  {
   "cell_type": "code",
   "execution_count": null,
   "metadata": {},
   "outputs": [],
   "source": []
  }
 ],
 "metadata": {
  "kernelspec": {
   "display_name": "Python 3",
   "language": "python",
   "name": "python3"
  },
  "language_info": {
   "codemirror_mode": {
    "name": "ipython",
    "version": 3
   },
   "file_extension": ".py",
   "mimetype": "text/x-python",
   "name": "python",
   "nbconvert_exporter": "python",
   "pygments_lexer": "ipython3",
   "version": "3.11.1"
  }
 },
 "nbformat": 4,
 "nbformat_minor": 0
}
